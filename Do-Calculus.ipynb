{
 "cells": [
  {
   "cell_type": "markdown",
   "id": "8a053c27",
   "metadata": {},
   "source": [
    "# Do-Calculus Rules\n",
    "\n",
    "This notebook reviews the rules of *do-calculus* providing explanation and examples, mainly following the neat explanations at [1] and [2]."
   ]
  },
  {
   "cell_type": "code",
   "execution_count": 1,
   "id": "06d06583",
   "metadata": {},
   "outputs": [],
   "source": [
    "import networkx as nx"
   ]
  },
  {
   "cell_type": "markdown",
   "id": "705139c3",
   "metadata": {},
   "source": [
    "## Rule 1\n",
    "\n",
    "**Ignoring observations.**\n",
    "An observation $z$ can be ignored if the outcome $y$ is independent from the observation given other relevant observations $w$ and intervention $x$ (in the intervened graph)."
   ]
  },
  {
   "cell_type": "markdown",
   "id": "50776dc7",
   "metadata": {
    "slideshow": {
     "slide_type": "slide"
    }
   },
   "source": [
    "If \n",
    "$$ (Y \\perp Z \\vert W,X)_{G_\\overline{X}} $$\n",
    "then\n",
    "$$ P(y \\vert z, do(x), w) = P(y \\vert do(x), w) $$"
   ]
  },
  {
   "cell_type": "markdown",
   "id": "1747a1c6",
   "metadata": {},
   "source": [
    "Here $G_{\\overline{X}}$ is in the graph in which all nodes $X$ lose their incoming edges.\n",
    "\n",
    "Thus, an observation that is cut out from the outcome by conditioning and/or intervening can be dropped.\n",
    "\n",
    "Rule 1 can be seen as a generalization of the d-separation criterion [3]."
   ]
  },
  {
   "cell_type": "markdown",
   "id": "61c81dcb",
   "metadata": {},
   "source": [
    "### Example 1\n",
    "\n",
    "Let the base $G$ be:"
   ]
  },
  {
   "cell_type": "code",
   "execution_count": 2,
   "id": "1be1605e",
   "metadata": {},
   "outputs": [
    {
     "data": {
      "image/png": "[encoded data removed]",
      "text/plain": [
       "<Figure size 432x288 with 1 Axes>"
      ]
     },
     "metadata": {},
     "output_type": "display_data"
    }
   ],
   "source": [
    "G = nx.DiGraph()\n",
    "G.graph['dpi'] = 120\n",
    "\n",
    "nodes = ['X', 'Y', 'Z', 'W']\n",
    "edges = [('Z','X'), ('X','Y'), ('W','X'), ('W','Y')]\n",
    "nodes_pos = {'Z':(-1, 1), 'X':(-1, -1), 'W':(0, 1), 'Y':(1, -1)}\n",
    "nodes_lbl = {'Z':'Z', 'X':'X', 'W':'W', 'Y':'Y'}\n",
    "\n",
    "G.add_nodes_from(nodes)\n",
    "G.add_edges_from(edges)\n",
    "nx.draw(G,nodes_pos,node_size=800,node_color='white')\n",
    "_ = nx.draw_networkx_labels(G,nodes_pos,nodes_lbl)"
   ]
  },
  {
   "cell_type": "markdown",
   "id": "d844b21f",
   "metadata": {},
   "source": [
    "In order to verify if $P(Y\\vert Z, do(X), W) = P(Y\\vert do(X), W)$ we generate $G_{\\overline{X}}$:"
   ]
  },
  {
   "cell_type": "code",
   "execution_count": 3,
   "id": "4fe8a943",
   "metadata": {},
   "outputs": [
    {
     "data": {
      "image/png": "[encoded data removed]",
      "text/plain": [
       "<Figure size 432x288 with 1 Axes>"
      ]
     },
     "metadata": {},
     "output_type": "display_data"
    }
   ],
   "source": [
    "G = nx.DiGraph()\n",
    "G.graph['dpi'] = 120\n",
    "\n",
    "nodes = ['X', 'Y', 'Z', 'W']\n",
    "edges = [('X','Y'), ('W','Y')]\n",
    "nodes_pos = {'Z':(-1, 1), 'X':(-1, -1), 'W':(0, 1), 'Y':(1, -1)}\n",
    "nodes_lbl = {'Z':'Z', 'X':'X', 'W':'W', 'Y':'Y'}\n",
    "\n",
    "G.add_nodes_from(nodes)\n",
    "G.add_edges_from(edges)\n",
    "nx.draw(G,nodes_pos,node_size=800,node_color='white')\n",
    "_ = nx.draw_networkx_labels(G,nodes_pos,nodes_lbl)"
   ]
  },
  {
   "cell_type": "markdown",
   "id": "7499ba94",
   "metadata": {},
   "source": [
    "In the graph it is clear that $Y \\perp Z \\vert X,W$, so Rule 1 holds."
   ]
  },
  {
   "cell_type": "markdown",
   "id": "e97a7596",
   "metadata": {},
   "source": [
    "### Example 2\n",
    "\n",
    "Let the base $G$ be:"
   ]
  },
  {
   "cell_type": "code",
   "execution_count": 4,
   "id": "3cf0ce14",
   "metadata": {},
   "outputs": [
    {
     "data": {
      "image/png": "[encoded data removed]",
      "text/plain": [
       "<Figure size 432x288 with 1 Axes>"
      ]
     },
     "metadata": {},
     "output_type": "display_data"
    }
   ],
   "source": [
    "G = nx.DiGraph()\n",
    "G.graph['dpi'] = 120\n",
    "\n",
    "nodes = ['X', 'Y', 'Z', 'W', 'A']\n",
    "edges = [('X','A'), ('X','Y'), ('Y','A'), ('Z','A'), ('W','A')]\n",
    "nodes_pos = {'A':(0, 1), 'X':(-1, -1), 'W':(-1, 1), 'Y':(1, -1), 'Z':(-1, 0.5)}\n",
    "nodes_lbl = {'Z':'Z', 'X':'X', 'W':'W', 'Y':'Y', 'A':'A'}\n",
    "\n",
    "G.add_nodes_from(nodes)\n",
    "G.add_edges_from(edges)\n",
    "nx.draw(G,nodes_pos,node_size=800,node_color='white')\n",
    "_ = nx.draw_networkx_labels(G,nodes_pos,nodes_lbl)"
   ]
  },
  {
   "cell_type": "markdown",
   "id": "2115acfa",
   "metadata": {},
   "source": [
    "In order to verify if $P(Y\\vert Z, do(X), W) = P(Y\\vert do(X), W)$ we generate $G_{\\overline{X}}$:"
   ]
  },
  {
   "cell_type": "code",
   "execution_count": 5,
   "id": "5026bb9b",
   "metadata": {},
   "outputs": [
    {
     "data": {
      "image/png": "[encoded data removed]",
      "text/plain": [
       "<Figure size 432x288 with 1 Axes>"
      ]
     },
     "metadata": {},
     "output_type": "display_data"
    }
   ],
   "source": [
    "G = nx.DiGraph()\n",
    "G.graph['dpi'] = 120\n",
    "\n",
    "nodes = ['X', 'Y', 'Z', 'W', 'A']\n",
    "edges = [('X','A'), ('X','Y'), ('Y','A'), ('Z','A'), ('W','A')]\n",
    "nodes_pos = {'A':(0, 1), 'X':(-1, -1), 'W':(-1, 1), 'Y':(1, -1), 'Z':(-1, 0.5)}\n",
    "nodes_lbl = {'Z':'Z', 'X':'X', 'W':'W', 'Y':'Y', 'A':'A'}\n",
    "\n",
    "G.add_nodes_from(nodes)\n",
    "G.add_edges_from(edges)\n",
    "nx.draw(G,nodes_pos,node_size=800,node_color='white')\n",
    "_ = nx.draw_networkx_labels(G,nodes_pos,nodes_lbl)"
   ]
  },
  {
   "cell_type": "markdown",
   "id": "069ef608",
   "metadata": {},
   "source": [
    "In the graph, $Y \\perp Z \\vert X,W$ because the path from $Z$ to $Y$ is blocked by the collider $A$. So Rule 1 holds."
   ]
  },
  {
   "cell_type": "markdown",
   "id": "e8d8918a",
   "metadata": {},
   "source": [
    "### Example 3\n",
    "\n",
    "Let the base $G$ be:"
   ]
  },
  {
   "cell_type": "code",
   "execution_count": 6,
   "id": "7fb74704",
   "metadata": {},
   "outputs": [
    {
     "data": {
      "image/png": "[encoded data removed]",
      "text/plain": [
       "<Figure size 432x288 with 1 Axes>"
      ]
     },
     "metadata": {},
     "output_type": "display_data"
    }
   ],
   "source": [
    "G = nx.DiGraph()\n",
    "G.graph['dpi'] = 120\n",
    "\n",
    "nodes = ['X', 'Y', 'Z', 'W',]\n",
    "edges = [('W','X'), ('X','Y'), ('Y','W'), ('Z','W')]\n",
    "nodes_pos = {'X':(-1, -1), 'W':(0, 1), 'Y':(1, -1), 'Z':(-1, 0.5)}\n",
    "nodes_lbl = {'Z':'Z', 'X':'X', 'W':'W', 'Y':'Y'}\n",
    "\n",
    "G.add_nodes_from(nodes)\n",
    "G.add_edges_from(edges)\n",
    "nx.draw(G,nodes_pos,node_size=800,node_color='white')\n",
    "_ = nx.draw_networkx_labels(G,nodes_pos,nodes_lbl)"
   ]
  },
  {
   "cell_type": "markdown",
   "id": "14103256",
   "metadata": {},
   "source": [
    "In order to verify if $P(Y\\vert Z, do(X), W) = P(Y\\vert do(X), W)$ we generate $G_{\\overline{X}}$:"
   ]
  },
  {
   "cell_type": "code",
   "execution_count": 7,
   "id": "942ec2a1",
   "metadata": {},
   "outputs": [
    {
     "data": {
      "image/png": "[encoded data removed]",
      "text/plain": [
       "<Figure size 432x288 with 1 Axes>"
      ]
     },
     "metadata": {},
     "output_type": "display_data"
    }
   ],
   "source": [
    "G = nx.DiGraph()\n",
    "G.graph['dpi'] = 120\n",
    "\n",
    "nodes = ['X', 'Y', 'Z', 'W',]\n",
    "edges = [('X','Y'), ('Y','W'), ('Z','W')]\n",
    "nodes_pos = {'X':(-1, -1), 'W':(0, 1), 'Y':(1, -1), 'Z':(-1, 0.5)}\n",
    "nodes_lbl = {'Z':'Z', 'X':'X', 'W':'W', 'Y':'Y'}\n",
    "\n",
    "G.add_nodes_from(nodes)\n",
    "G.add_edges_from(edges)\n",
    "nx.draw(G,nodes_pos,node_size=800,node_color='white')\n",
    "_ = nx.draw_networkx_labels(G,nodes_pos,nodes_lbl)"
   ]
  },
  {
   "cell_type": "markdown",
   "id": "cc165a94",
   "metadata": {},
   "source": [
    "In the graph, it is **not** true that $Y \\perp Z \\vert X,W$ as the conditioning on $W$ opens a path from $Z$ to $Y$. Thus, Rule 1 does **not** hold."
   ]
  },
  {
   "cell_type": "markdown",
   "id": "66cd9203",
   "metadata": {},
   "source": [
    "## Rule 2\n",
    "\n",
    "**Transforming intervention into observation.**\n",
    "An intervention $z$ can be reduced to an observation if the outcome $y$ is independent from $z$ given other relevant observations $w$ and interventions $x$ (in the properly intervened graph)."
   ]
  },
  {
   "cell_type": "markdown",
   "id": "60224217",
   "metadata": {
    "slideshow": {
     "slide_type": "slide"
    }
   },
   "source": [
    "If \n",
    "$$ (Y \\perp Z \\vert W,X)_{G_{\\overline{X},\\underline{Z}}} $$\n",
    "then\n",
    "$$ P(y \\vert do(z), do(x), w) = P(y \\vert z, do(x), w) $$"
   ]
  },
  {
   "cell_type": "markdown",
   "id": "ead8ae42",
   "metadata": {},
   "source": [
    "Here $G_{\\underline{Z}}$ is in the graph in which all nodes $Z$ lose their outgoing edges.\n",
    "\n",
    "Thus, an intervention can be treated as an observation only if it affects the outcome directly.\n",
    "\n",
    "Rule 2 can be seen as a generalization of the backdoor criterion [3]."
   ]
  },
  {
   "cell_type": "markdown",
   "id": "0812ccc7",
   "metadata": {},
   "source": [
    "### Example 1\n",
    "\n",
    "Let the base $G$ be:"
   ]
  },
  {
   "cell_type": "code",
   "execution_count": 8,
   "id": "cc34857e",
   "metadata": {},
   "outputs": [
    {
     "data": {
      "image/png": "[encoded data removed]",
      "text/plain": [
       "<Figure size 432x288 with 1 Axes>"
      ]
     },
     "metadata": {},
     "output_type": "display_data"
    }
   ],
   "source": [
    "G = nx.DiGraph()\n",
    "G.graph['dpi'] = 120\n",
    "\n",
    "nodes = ['X', 'Y', 'Z', 'W']\n",
    "edges = [('Z','Y'), ('X','Y'), ('W','X'), ('W','Y')]\n",
    "nodes_pos = {'Z':(1, 1), 'X':(-1, -1), 'W':(0, 1), 'Y':(1, -1)}\n",
    "nodes_lbl = {'Z':'Z', 'X':'X', 'W':'W', 'Y':'Y'}\n",
    "\n",
    "G.add_nodes_from(nodes)\n",
    "G.add_edges_from(edges)\n",
    "nx.draw(G,nodes_pos,node_size=800,node_color='white')\n",
    "_ = nx.draw_networkx_labels(G,nodes_pos,nodes_lbl)"
   ]
  },
  {
   "cell_type": "markdown",
   "id": "c0782370",
   "metadata": {},
   "source": [
    "In order to verify if $P(Y\\vert do(Z), do(X), W) = P(Y\\vert Z, do(X), W)$ we generate $G_{\\overline{X},\\underline{Z}}$:"
   ]
  },
  {
   "cell_type": "code",
   "execution_count": 9,
   "id": "11a3337a",
   "metadata": {},
   "outputs": [
    {
     "data": {
      "image/png": "[encoded data removed]",
      "text/plain": [
       "<Figure size 432x288 with 1 Axes>"
      ]
     },
     "metadata": {},
     "output_type": "display_data"
    }
   ],
   "source": [
    "G = nx.DiGraph()\n",
    "G.graph['dpi'] = 120\n",
    "\n",
    "nodes = ['X', 'Y', 'Z', 'W']\n",
    "edges = [('X','Y'), ('W','Y')]\n",
    "nodes_pos = {'Z':(1, 1), 'X':(-1, -1), 'W':(0, 1), 'Y':(1, -1)}\n",
    "nodes_lbl = {'Z':'Z', 'X':'X', 'W':'W', 'Y':'Y'}\n",
    "\n",
    "G.add_nodes_from(nodes)\n",
    "G.add_edges_from(edges)\n",
    "nx.draw(G,nodes_pos,node_size=800,node_color='white')\n",
    "_ = nx.draw_networkx_labels(G,nodes_pos,nodes_lbl)"
   ]
  },
  {
   "cell_type": "markdown",
   "id": "8f8defdd",
   "metadata": {},
   "source": [
    "In the graph it is clear that $Y \\perp Z \\vert X,W$, so Rule 2 holds."
   ]
  },
  {
   "cell_type": "markdown",
   "id": "793541a4",
   "metadata": {},
   "source": [
    "### Example 2\n",
    "\n",
    "Let the base $G$ be:"
   ]
  },
  {
   "cell_type": "code",
   "execution_count": 10,
   "id": "44927f68",
   "metadata": {},
   "outputs": [
    {
     "data": {
      "image/png": "[encoded data removed]",
      "text/plain": [
       "<Figure size 432x288 with 1 Axes>"
      ]
     },
     "metadata": {},
     "output_type": "display_data"
    }
   ],
   "source": [
    "G = nx.DiGraph()\n",
    "G.graph['dpi'] = 120\n",
    "\n",
    "nodes = ['X', 'Y', 'Z', 'W']\n",
    "edges = [('Z','Y'), ('X','Y'), ('W','Y'), ('W','Z'),('W','X')]\n",
    "nodes_pos = {'X':(-1, -1), 'W':(-1, 1), 'Y':(1, -1), 'Z':(1, 1)}\n",
    "nodes_lbl = {'Z':'Z', 'X':'X', 'W':'W', 'Y':'Y'}\n",
    "\n",
    "G.add_nodes_from(nodes)\n",
    "G.add_edges_from(edges)\n",
    "nx.draw(G,nodes_pos,node_size=800,node_color='white')\n",
    "_ = nx.draw_networkx_labels(G,nodes_pos,nodes_lbl)"
   ]
  },
  {
   "cell_type": "markdown",
   "id": "31c8eefb",
   "metadata": {},
   "source": [
    "In order to verify if $P(Y\\vert do(Z), do(X), W) = P(Y\\vert Z, do(X), W)$ we generate $G_{\\overline{X},\\underline{Z}}$:"
   ]
  },
  {
   "cell_type": "code",
   "execution_count": 11,
   "id": "2230f3c6",
   "metadata": {},
   "outputs": [
    {
     "data": {
      "image/png": "[encoded data removed]",
      "text/plain": [
       "<Figure size 432x288 with 1 Axes>"
      ]
     },
     "metadata": {},
     "output_type": "display_data"
    }
   ],
   "source": [
    "G = nx.DiGraph()\n",
    "G.graph['dpi'] = 120\n",
    "\n",
    "nodes = ['X', 'Y', 'Z', 'W']\n",
    "edges = [('X','Y'), ('W','Y'), ('W','Z')]\n",
    "nodes_pos = {'X':(-1, -1), 'W':(-1, 1), 'Y':(1, -1), 'Z':(1, 1)}\n",
    "nodes_lbl = {'Z':'Z', 'X':'X', 'W':'W', 'Y':'Y'}\n",
    "\n",
    "G.add_nodes_from(nodes)\n",
    "G.add_edges_from(edges)\n",
    "nx.draw(G,nodes_pos,node_size=800,node_color='white')\n",
    "_ = nx.draw_networkx_labels(G,nodes_pos,nodes_lbl)"
   ]
  },
  {
   "cell_type": "markdown",
   "id": "5dc18a3a",
   "metadata": {},
   "source": [
    "In the graph, it is **not** true that $Y \\perp Z \\vert X,W$ as the conditioning on $W$ opens a path from $Z$ to $Y$. Thus, Rule 2 does **not** hold."
   ]
  },
  {
   "cell_type": "markdown",
   "id": "912d1dc9",
   "metadata": {},
   "source": [
    "### Example 3\n",
    "\n",
    "Let the base $G$ be:"
   ]
  },
  {
   "cell_type": "code",
   "execution_count": 12,
   "id": "7462e926",
   "metadata": {},
   "outputs": [
    {
     "data": {
      "image/png": "[encoded data removed]",
      "text/plain": [
       "<Figure size 432x288 with 1 Axes>"
      ]
     },
     "metadata": {},
     "output_type": "display_data"
    }
   ],
   "source": [
    "G = nx.DiGraph()\n",
    "G.graph['dpi'] = 120\n",
    "\n",
    "nodes = ['X', 'Y', 'Z', 'W']\n",
    "edges = [('Z','Y'), ('X','Y'), ('Y','W'), ('W','Z'),('Z','X')]\n",
    "nodes_pos = {'X':(-1, -1), 'W':(-1, 1), 'Y':(1, -1), 'Z':(1, 1)}\n",
    "nodes_lbl = {'Z':'Z', 'X':'X', 'W':'W', 'Y':'Y'}\n",
    "\n",
    "G.add_nodes_from(nodes)\n",
    "G.add_edges_from(edges)\n",
    "nx.draw(G,nodes_pos,node_size=800,node_color='white')\n",
    "_ = nx.draw_networkx_labels(G,nodes_pos,nodes_lbl)"
   ]
  },
  {
   "cell_type": "markdown",
   "id": "9b0ebb5b",
   "metadata": {},
   "source": [
    "In order to verify if $P(Y\\vert do(Z), do(X), W) = P(Y\\vert Z, do(X), W)$ we generate $G_{\\overline{X},\\underline{Z}}$:"
   ]
  },
  {
   "cell_type": "code",
   "execution_count": 13,
   "id": "d0211677",
   "metadata": {},
   "outputs": [
    {
     "data": {
      "image/png": "[encoded data removed]",
      "text/plain": [
       "<Figure size 432x288 with 1 Axes>"
      ]
     },
     "metadata": {},
     "output_type": "display_data"
    }
   ],
   "source": [
    "G = nx.DiGraph()\n",
    "G.graph['dpi'] = 120\n",
    "\n",
    "nodes = ['X', 'Y', 'Z', 'W']\n",
    "edges = [('X','Y'), ('Y','W'), ('W','Z')]\n",
    "nodes_pos = {'X':(-1, -1), 'W':(-1, 1), 'Y':(1, -1), 'Z':(1, 1)}\n",
    "nodes_lbl = {'Z':'Z', 'X':'X', 'W':'W', 'Y':'Y'}\n",
    "\n",
    "G.add_nodes_from(nodes)\n",
    "G.add_edges_from(edges)\n",
    "nx.draw(G,nodes_pos,node_size=800,node_color='white')\n",
    "_ = nx.draw_networkx_labels(G,nodes_pos,nodes_lbl)"
   ]
  },
  {
   "cell_type": "markdown",
   "id": "a965d4ed",
   "metadata": {},
   "source": [
    "In the graph, $Y \\perp Z \\vert X,W$ because the path from $Z$ to $Y$ is blocked by $W$. So Rule 2 holds."
   ]
  },
  {
   "cell_type": "markdown",
   "id": "8b8ed1ea",
   "metadata": {},
   "source": [
    "## Rule 3\n",
    "\n",
    "**Ignoring interventions**\n",
    "An intervention $z$ can be ignored if the outcome $y$ is independent from $z$ given other relevant observations $w$ and interventions $x$ (in the properly intervened graph)."
   ]
  },
  {
   "cell_type": "markdown",
   "id": "2327f6e5",
   "metadata": {
    "slideshow": {
     "slide_type": "slide"
    }
   },
   "source": [
    "If \n",
    "$$ (Y \\perp Z \\vert W,X)_{G_{\\overline{X},\\overline{Z(W)}}} $$\n",
    "then\n",
    "$$ P(y \\vert do(z), do(x), w) = P(y \\vert do(x), w) $$"
   ]
  },
  {
   "cell_type": "markdown",
   "id": "e37d068f",
   "metadata": {},
   "source": [
    "Here $G_{\\overline{Z(W)}}$ is in the graph in which all nodes $Z$ that are not ancestors of $W$ lose their incoming edges.\n",
    "\n",
    "Thus, an intervention can be ignored only if does not affect the outcome through any path."
   ]
  },
  {
   "cell_type": "markdown",
   "id": "46fed37b",
   "metadata": {},
   "source": [
    "### Example 1\n",
    "\n",
    "Let the base $G$ be:"
   ]
  },
  {
   "cell_type": "code",
   "execution_count": 14,
   "id": "31d0a545",
   "metadata": {},
   "outputs": [
    {
     "data": {
      "image/png": "[encoded data removed]",
      "text/plain": [
       "<Figure size 432x288 with 1 Axes>"
      ]
     },
     "metadata": {},
     "output_type": "display_data"
    }
   ],
   "source": [
    "G = nx.DiGraph()\n",
    "G.graph['dpi'] = 120\n",
    "\n",
    "nodes = ['X', 'Y', 'Z', 'W']\n",
    "edges = [('Z','W'), ('Z','X'), ('X','W'), ('X','Y'), ('W','Y')]\n",
    "nodes_pos = {'Z':(-1, 1), 'X':(0, -1), 'W':(0, 1), 'Y':(1, 1)}\n",
    "nodes_lbl = {'Z':'Z', 'X':'X', 'W':'W', 'Y':'Y'}\n",
    "\n",
    "G.add_nodes_from(nodes)\n",
    "G.add_edges_from(edges)\n",
    "nx.draw(G,nodes_pos,node_size=800,node_color='white')\n",
    "_ = nx.draw_networkx_labels(G,nodes_pos,nodes_lbl)"
   ]
  },
  {
   "cell_type": "markdown",
   "id": "54bf24a4",
   "metadata": {},
   "source": [
    "In order to verify if $P(Y\\vert do(Z), do(X), W) = P(Y\\vert do(X), W)$ we generate $G_{\\overline{X},\\overline{Z(W)}}$:"
   ]
  },
  {
   "cell_type": "code",
   "execution_count": 15,
   "id": "9ec2023b",
   "metadata": {},
   "outputs": [
    {
     "data": {
      "image/png": "[encoded data removed]",
      "text/plain": [
       "<Figure size 432x288 with 1 Axes>"
      ]
     },
     "metadata": {},
     "output_type": "display_data"
    }
   ],
   "source": [
    "G = nx.DiGraph()\n",
    "G.graph['dpi'] = 120\n",
    "\n",
    "nodes = ['X', 'Y', 'Z', 'W']\n",
    "edges = [('Z','W'), ('X','W'), ('X','Y'), ('W','Y')]\n",
    "nodes_pos = {'Z':(-1, 1), 'X':(0, -1), 'W':(0, 1), 'Y':(1, 1)}\n",
    "nodes_lbl = {'Z':'Z', 'X':'X', 'W':'W', 'Y':'Y'}\n",
    "\n",
    "G.add_nodes_from(nodes)\n",
    "G.add_edges_from(edges)\n",
    "nx.draw(G,nodes_pos,node_size=800,node_color='white')\n",
    "_ = nx.draw_networkx_labels(G,nodes_pos,nodes_lbl)"
   ]
  },
  {
   "cell_type": "markdown",
   "id": "a277df50",
   "metadata": {},
   "source": [
    "In the graph, we have that $Y \\perp Z \\vert X,W$ since the path $Z \\rightarrow W \\rightarrow Y$ is blocked by conditioning on $W$, and the path $Z \\rightarrow W \\leftarrow X \\rightarrow Y$ is blocked by conditioning on $X$. In conclusion, Rule 3 holds."
   ]
  },
  {
   "cell_type": "markdown",
   "id": "9d09bf34",
   "metadata": {},
   "source": [
    "### Example 2\n",
    "\n",
    "Let the base $G$ be:"
   ]
  },
  {
   "cell_type": "code",
   "execution_count": 16,
   "id": "36be741a",
   "metadata": {},
   "outputs": [
    {
     "data": {
      "image/png": "[encoded data removed]",
      "text/plain": [
       "<Figure size 432x288 with 1 Axes>"
      ]
     },
     "metadata": {},
     "output_type": "display_data"
    }
   ],
   "source": [
    "G = nx.DiGraph()\n",
    "G.graph['dpi'] = 120\n",
    "\n",
    "nodes = ['X', 'Y', 'Z', 'W']\n",
    "edges = [('W','Z'), ('Z','X'), ('X','Y'), ('Z','Y')]\n",
    "nodes_pos = {'Z':(0, 1), 'X':(0, -1), 'W':(-1, 1), 'Y':(1, 1)}\n",
    "nodes_lbl = {'Z':'Z', 'X':'X', 'W':'W', 'Y':'Y'}\n",
    "\n",
    "G.add_nodes_from(nodes)\n",
    "G.add_edges_from(edges)\n",
    "nx.draw(G,nodes_pos,node_size=800,node_color='white')\n",
    "_ = nx.draw_networkx_labels(G,nodes_pos,nodes_lbl)"
   ]
  },
  {
   "cell_type": "markdown",
   "id": "08b772a8",
   "metadata": {},
   "source": [
    "In order to verify if $P(Y\\vert do(Z), do(X), W) = P(Y\\vert do(X), W)$ we generate $G_{\\overline{X},\\overline{Z(W)}}$:"
   ]
  },
  {
   "cell_type": "code",
   "execution_count": 17,
   "id": "68934018",
   "metadata": {},
   "outputs": [
    {
     "data": {
      "image/png": "[encoded data removed]",
      "text/plain": [
       "<Figure size 432x288 with 1 Axes>"
      ]
     },
     "metadata": {},
     "output_type": "display_data"
    }
   ],
   "source": [
    "G = nx.DiGraph()\n",
    "G.graph['dpi'] = 120\n",
    "\n",
    "nodes = ['X', 'Y', 'Z', 'W']\n",
    "edges = [('W','Z'), ('X','Y')]\n",
    "nodes_pos = {'Z':(0, 1), 'X':(0, -1), 'W':(-1, 1), 'Y':(1, 1)}\n",
    "nodes_lbl = {'Z':'Z', 'X':'X', 'W':'W', 'Y':'Y'}\n",
    "\n",
    "G.add_nodes_from(nodes)\n",
    "G.add_edges_from(edges)\n",
    "nx.draw(G,nodes_pos,node_size=800,node_color='white')\n",
    "_ = nx.draw_networkx_labels(G,nodes_pos,nodes_lbl)"
   ]
  },
  {
   "cell_type": "markdown",
   "id": "0400f0af",
   "metadata": {},
   "source": [
    "In the graph, it is clear that $Y \\perp Z \\vert X,W$. So, Rule 2 holds."
   ]
  },
  {
   "cell_type": "markdown",
   "id": "cde143d5",
   "metadata": {},
   "source": [
    "### Example 3\n",
    "\n",
    "Let the base $G$ be:"
   ]
  },
  {
   "cell_type": "code",
   "execution_count": 18,
   "id": "d9abd745",
   "metadata": {},
   "outputs": [
    {
     "data": {
      "image/png": "[encoded data removed]",
      "text/plain": [
       "<Figure size 432x288 with 1 Axes>"
      ]
     },
     "metadata": {},
     "output_type": "display_data"
    }
   ],
   "source": [
    "G = nx.DiGraph()\n",
    "G.graph['dpi'] = 120\n",
    "\n",
    "nodes = ['X', 'Y', 'Z', 'W']\n",
    "edges = [('Z','W'), ('Z','X'), ('X','W'), ('X','Y'), ('Y','W')]\n",
    "nodes_pos = {'Z':(-1, 1), 'X':(0, -1), 'W':(0, 1), 'Y':(1, 1)}\n",
    "nodes_lbl = {'Z':'Z', 'X':'X', 'W':'W', 'Y':'Y'}\n",
    "\n",
    "G.add_nodes_from(nodes)\n",
    "G.add_edges_from(edges)\n",
    "nx.draw(G,nodes_pos,node_size=800,node_color='white')\n",
    "_ = nx.draw_networkx_labels(G,nodes_pos,nodes_lbl)"
   ]
  },
  {
   "cell_type": "markdown",
   "id": "e5809756",
   "metadata": {},
   "source": [
    "In order to verify if $P(Y\\vert do(Z), do(X), W) = P(Y\\vert do(X), W)$ we generate $G_{\\overline{X},\\overline{Z(W)}}$:"
   ]
  },
  {
   "cell_type": "code",
   "execution_count": 19,
   "id": "30faeea5",
   "metadata": {},
   "outputs": [
    {
     "data": {
      "image/png": "[encoded data removed]",
      "text/plain": [
       "<Figure size 432x288 with 1 Axes>"
      ]
     },
     "metadata": {},
     "output_type": "display_data"
    }
   ],
   "source": [
    "G = nx.DiGraph()\n",
    "G.graph['dpi'] = 120\n",
    "\n",
    "nodes = ['X', 'Y', 'Z', 'W']\n",
    "edges = [('Z','W'), ('X','W'), ('X','Y'), ('Y','W')]\n",
    "nodes_pos = {'Z':(-1, 1), 'X':(0, -1), 'W':(0, 1), 'Y':(1, 1)}\n",
    "nodes_lbl = {'Z':'Z', 'X':'X', 'W':'W', 'Y':'Y'}\n",
    "\n",
    "G.add_nodes_from(nodes)\n",
    "G.add_edges_from(edges)\n",
    "nx.draw(G,nodes_pos,node_size=800,node_color='white')\n",
    "_ = nx.draw_networkx_labels(G,nodes_pos,nodes_lbl)"
   ]
  },
  {
   "cell_type": "markdown",
   "id": "7e1ce190",
   "metadata": {},
   "source": [
    "In the graph, it is **not** true that $Y \\perp Z \\vert X,W$ as the conditioning on $W$ opens a path from $Z$ to $Y$. Thus, Rule 3 does **not** hold."
   ]
  },
  {
   "cell_type": "markdown",
   "id": "e411f666",
   "metadata": {},
   "source": [
    "# Exampe of Derivation (1)\n",
    "\n",
    "We go through a formal derivation."
   ]
  },
  {
   "cell_type": "markdown",
   "id": "fc1d00fd",
   "metadata": {},
   "source": [
    "## Problem statement\n",
    "\n",
    "Let $G$ be the following graph:"
   ]
  },
  {
   "cell_type": "code",
   "execution_count": 31,
   "id": "31c9c28d",
   "metadata": {},
   "outputs": [
    {
     "data": {
      "image/png": "[encoded data removed]",
      "text/plain": [
       "<Figure size 432x288 with 1 Axes>"
      ]
     },
     "metadata": {},
     "output_type": "display_data"
    }
   ],
   "source": [
    "G = nx.DiGraph()\n",
    "G.graph['dpi'] = 120\n",
    "\n",
    "nodes = ['X', 'Y', 'Z', 'W']\n",
    "edges = [('Z','X'), ('Z','W'), ('X','Y'), ('Y','W')]\n",
    "nodes_pos = {'X':(-1, 1), 'Z':(-1, 1.2), 'W':(1, 1.2), 'Y':(1, 1)}\n",
    "nodes_lbl = {'Z':'Z', 'X':'X', 'Y':'Y', 'W':'W'}\n",
    "\n",
    "G.add_nodes_from(nodes)\n",
    "G.add_edges_from(edges)\n",
    "nx.draw(G,nodes_pos,node_size=800,node_color='white')\n",
    "_ = nx.draw_networkx_labels(G,nodes_pos,nodes_lbl)"
   ]
  },
  {
   "cell_type": "markdown",
   "id": "58d3b1bc",
   "metadata": {},
   "source": [
    "We want to find a formula for computing the causal-interventional quantity $P(Y\\vert do(X))$ using only statistical-observational quantities."
   ]
  },
  {
   "cell_type": "markdown",
   "id": "d130e780",
   "metadata": {},
   "source": [
    "## Derivation"
   ]
  },
  {
   "cell_type": "markdown",
   "id": "9df305d6",
   "metadata": {},
   "source": [
    "**Start.** $$P(Y \\vert do(X))$$"
   ]
  },
  {
   "cell_type": "markdown",
   "id": "97751b57",
   "metadata": {},
   "source": [
    "**Rule 2.** We start straight with Rule 2, trying to transfrom intervention $do(X)$ into observation $X$. We need to show whether $Y \\perp X$ in $G_{\\underline{X}}$:"
   ]
  },
  {
   "cell_type": "code",
   "execution_count": 32,
   "id": "b7ac574d",
   "metadata": {},
   "outputs": [
    {
     "data": {
      "image/png": "[encoded data removed]",
      "text/plain": [
       "<Figure size 432x288 with 1 Axes>"
      ]
     },
     "metadata": {},
     "output_type": "display_data"
    }
   ],
   "source": [
    "G = nx.DiGraph()\n",
    "G.graph['dpi'] = 120\n",
    "\n",
    "nodes = ['X', 'Y', 'Z', 'W']\n",
    "edges = [('Z','X'), ('Z','W'), ('Y','W')]\n",
    "nodes_pos = {'X':(-1, 1), 'Z':(-1, 1.2), 'W':(1, 1.2), 'Y':(1, 1)}\n",
    "nodes_lbl = {'Z':'Z', 'X':'X', 'Y':'Y', 'W':'W'}\n",
    "\n",
    "G.add_nodes_from(nodes)\n",
    "G.add_edges_from(edges)\n",
    "nx.draw(G,nodes_pos,node_size=800,node_color='white')\n",
    "_ = nx.draw_networkx_labels(G,nodes_pos,nodes_lbl)"
   ]
  },
  {
   "cell_type": "markdown",
   "id": "3cb426c5",
   "metadata": {},
   "source": [
    "Independence $Y \\perp X$ holds in virtue of the collider $W$, thus:\n",
    "$$P(Y \\vert X)$$\n",
    "We have already reduced our interventional quantity to and observational one.\n",
    "\n",
    "**QED.**"
   ]
  },
  {
   "cell_type": "markdown",
   "id": "72d98ad3",
   "metadata": {},
   "source": [
    "# Exampe of Derivation (2)\n",
    "\n",
    "We go through another simple formal derivation."
   ]
  },
  {
   "cell_type": "markdown",
   "id": "972bdad3",
   "metadata": {},
   "source": [
    "## Problem statement\n",
    "\n",
    "Let $G$ be the following graph:"
   ]
  },
  {
   "cell_type": "code",
   "execution_count": 33,
   "id": "914b7783",
   "metadata": {},
   "outputs": [
    {
     "data": {
      "image/png": "[encoded data removed]",
      "text/plain": [
       "<Figure size 432x288 with 1 Axes>"
      ]
     },
     "metadata": {},
     "output_type": "display_data"
    }
   ],
   "source": [
    "G = nx.DiGraph()\n",
    "G.graph['dpi'] = 120\n",
    "\n",
    "nodes = ['X', 'Y', 'Z', 'W']\n",
    "edges = [('Z','X'), ('Z','W'), ('X','Y'), ('W','Y')]\n",
    "nodes_pos = {'X':(-1, 1), 'Z':(-1, 1.2), 'W':(1, 1.2), 'Y':(1, 1)}\n",
    "nodes_lbl = {'Z':'Z', 'X':'X', 'Y':'Y', 'W':'W'}\n",
    "\n",
    "G.add_nodes_from(nodes)\n",
    "G.add_edges_from(edges)\n",
    "nx.draw(G,nodes_pos,node_size=800,node_color='white')\n",
    "_ = nx.draw_networkx_labels(G,nodes_pos,nodes_lbl)"
   ]
  },
  {
   "cell_type": "markdown",
   "id": "3e7891d9",
   "metadata": {},
   "source": [
    "This instance is similar to the previous one, except that $W$ is now a mediator instead of a collider.\n",
    "\n",
    "As before, we want to find a formula for computing the causal-interventional quantity $P(Y\\vert do(X))$ using only statistical-observational quantities."
   ]
  },
  {
   "cell_type": "markdown",
   "id": "19016ff2",
   "metadata": {},
   "source": [
    "## Derivation"
   ]
  },
  {
   "cell_type": "markdown",
   "id": "d6ae5c4c",
   "metadata": {},
   "source": [
    "**Start.** $$P(Y \\vert do(X))$$"
   ]
  },
  {
   "cell_type": "markdown",
   "id": "0d4870b1",
   "metadata": {},
   "source": [
    "**Rule 2.** We may want to start again with Rule 2, although it may be glimpsed that it will not work. Anyway, to transfrom intervention $do(X)$ into observation $X$ we need to show whether $Y \\perp X$ in $G_{\\underline{X}}$:"
   ]
  },
  {
   "cell_type": "code",
   "execution_count": 35,
   "id": "0a29b158",
   "metadata": {},
   "outputs": [
    {
     "data": {
      "image/png": "[encoded data removed]",
      "text/plain": [
       "<Figure size 432x288 with 1 Axes>"
      ]
     },
     "metadata": {},
     "output_type": "display_data"
    }
   ],
   "source": [
    "G = nx.DiGraph()\n",
    "G.graph['dpi'] = 120\n",
    "\n",
    "nodes = ['X', 'Y', 'Z', 'W']\n",
    "edges = [('Z','X'), ('Z','W'), ('W','Y')]\n",
    "nodes_pos = {'X':(-1, 1), 'Z':(-1, 1.2), 'W':(1, 1.2), 'Y':(1, 1)}\n",
    "nodes_lbl = {'Z':'Z', 'X':'X', 'Y':'Y', 'W':'W'}\n",
    "\n",
    "G.add_nodes_from(nodes)\n",
    "G.add_edges_from(edges)\n",
    "nx.draw(G,nodes_pos,node_size=800,node_color='white')\n",
    "_ = nx.draw_networkx_labels(G,nodes_pos,nodes_lbl)"
   ]
  },
  {
   "cell_type": "markdown",
   "id": "8ea95b17",
   "metadata": {},
   "source": [
    "Now independence $Y \\perp X$ does not hold because we have an open path from $X$ to $Y$. This suggest that we will need to close this path by conditioning on one of the nodes $Z$ or $W$. We will choose $W$ as the closest to our target."
   ]
  },
  {
   "cell_type": "markdown",
   "id": "28dcc787",
   "metadata": {},
   "source": [
    "**Sum rule.** Using $P(A)=\\sum_B P(A,B)$:\n",
    "$$\\sum_W P(Y,W \\vert do(X))$$"
   ]
  },
  {
   "cell_type": "markdown",
   "id": "8ff67872",
   "metadata": {},
   "source": [
    "**Product rule.** Using $P(A,B)=P(A \\vert B) P(B)$:\n",
    "$$\\sum_W P(Y \\vert W, do(X)) P (W \\vert do(X))$$"
   ]
  },
  {
   "cell_type": "markdown",
   "id": "e36533d8",
   "metadata": {},
   "source": [
    "**Rule 2.** Let us now check using Rule 2 in order to transfrom intervention $do(X)$ into observation $X$. Let us start from the first term $P(Y \\vert W, do(X))$ and show whether $Y \\perp X \\vert W$ in $G_{\\underline{X}}$:"
   ]
  },
  {
   "cell_type": "code",
   "execution_count": 35,
   "id": "c30c1c1c",
   "metadata": {},
   "outputs": [
    {
     "data": {
      "image/png": "[encoded data removed]",
      "text/plain": [
       "<Figure size 432x288 with 1 Axes>"
      ]
     },
     "metadata": {},
     "output_type": "display_data"
    }
   ],
   "source": [
    "G = nx.DiGraph()\n",
    "G.graph['dpi'] = 120\n",
    "\n",
    "nodes = ['X', 'Y', 'Z', 'W']\n",
    "edges = [('Z','X'), ('Z','W'), ('W','Y')]\n",
    "nodes_pos = {'X':(-1, 1), 'Z':(-1, 1.2), 'W':(1, 1.2), 'Y':(1, 1)}\n",
    "nodes_lbl = {'Z':'Z', 'X':'X', 'Y':'Y', 'W':'W'}\n",
    "\n",
    "G.add_nodes_from(nodes)\n",
    "G.add_edges_from(edges)\n",
    "nx.draw(G,nodes_pos,node_size=800,node_color='white')\n",
    "_ = nx.draw_networkx_labels(G,nodes_pos,nodes_lbl)"
   ]
  },
  {
   "cell_type": "markdown",
   "id": "4d299b5f",
   "metadata": {},
   "source": [
    "Independence $Y \\perp X \\vert W$ holds, thus:\n",
    "$$\\sum_W P(Y \\vert W, X) P (W \\vert do(X))$$"
   ]
  },
  {
   "cell_type": "markdown",
   "id": "682dd668",
   "metadata": {},
   "source": [
    "**Rule 2.** Let us apply Rule 2 again to the second term $P(W\\vert do(X))$ in order to transfrom intervention $do(X)$ into observation $X$. Let us whether $W \\perp X$ in $G_{\\underline{X}}$:"
   ]
  },
  {
   "cell_type": "code",
   "execution_count": 35,
   "id": "e035f799",
   "metadata": {},
   "outputs": [
    {
     "data": {
      "image/png": "[encoded data removed]",
      "text/plain": [
       "<Figure size 432x288 with 1 Axes>"
      ]
     },
     "metadata": {},
     "output_type": "display_data"
    }
   ],
   "source": [
    "G = nx.DiGraph()\n",
    "G.graph['dpi'] = 120\n",
    "\n",
    "nodes = ['X', 'Y', 'Z', 'W']\n",
    "edges = [('Z','X'), ('Z','W'), ('W','Y')]\n",
    "nodes_pos = {'X':(-1, 1), 'Z':(-1, 1.2), 'W':(1, 1.2), 'Y':(1, 1)}\n",
    "nodes_lbl = {'Z':'Z', 'X':'X', 'Y':'Y', 'W':'W'}\n",
    "\n",
    "G.add_nodes_from(nodes)\n",
    "G.add_edges_from(edges)\n",
    "nx.draw(G,nodes_pos,node_size=800,node_color='white')\n",
    "_ = nx.draw_networkx_labels(G,nodes_pos,nodes_lbl)"
   ]
  },
  {
   "cell_type": "markdown",
   "id": "ee9b1356",
   "metadata": {},
   "source": [
    "Independence $W \\perp X$ here does not hold. Let us try to use another rule."
   ]
  },
  {
   "cell_type": "markdown",
   "id": "cdad792d",
   "metadata": {},
   "source": [
    "**Rule 3.** Let us try with Rule 3 applied to $P(W\\vert do(X))$ in order to drop intervention $do(X)$. Let us whether $W \\perp X$ in $G_{\\overline{X(\\emptyset)}}$:"
   ]
  },
  {
   "cell_type": "code",
   "execution_count": 36,
   "id": "65fd8d77",
   "metadata": {},
   "outputs": [
    {
     "data": {
      "image/png": "[encoded data removed]",
      "text/plain": [
       "<Figure size 432x288 with 1 Axes>"
      ]
     },
     "metadata": {},
     "output_type": "display_data"
    }
   ],
   "source": [
    "G = nx.DiGraph()\n",
    "G.graph['dpi'] = 120\n",
    "\n",
    "nodes = ['X', 'Y', 'Z', 'W']\n",
    "edges = [('X','Y'), ('Z','W'), ('W','Y')]\n",
    "nodes_pos = {'X':(-1, 1), 'Z':(-1, 1.2), 'W':(1, 1.2), 'Y':(1, 1)}\n",
    "nodes_lbl = {'Z':'Z', 'X':'X', 'Y':'Y', 'W':'W'}\n",
    "\n",
    "G.add_nodes_from(nodes)\n",
    "G.add_edges_from(edges)\n",
    "nx.draw(G,nodes_pos,node_size=800,node_color='white')\n",
    "_ = nx.draw_networkx_labels(G,nodes_pos,nodes_lbl)"
   ]
  },
  {
   "cell_type": "markdown",
   "id": "d7ba6d86",
   "metadata": {},
   "source": [
    "Independence $W \\perp X$ now holds because of the collider $Y$. Let us try to use another rule. We then have \n",
    "$$\\sum_W P(Y \\vert W, X) P (W),$$\n",
    "a purely statistical quantity.\n",
    "\n",
    "**QED.**"
   ]
  },
  {
   "cell_type": "markdown",
   "id": "ffa3a25c",
   "metadata": {},
   "source": [
    "# Derivation of Back-Door Criterion\n",
    "\n",
    "We go through the formal derivation of the back-door criterion following [2]."
   ]
  },
  {
   "cell_type": "markdown",
   "id": "476dbf0a",
   "metadata": {},
   "source": [
    "## Problem statement\n",
    "\n",
    "Let $G$ be the following graph:"
   ]
  },
  {
   "cell_type": "code",
   "execution_count": 21,
   "id": "482eda9a",
   "metadata": {},
   "outputs": [
    {
     "data": {
      "image/png": "[encoded data removed]",
      "text/plain": [
       "<Figure size 432x288 with 1 Axes>"
      ]
     },
     "metadata": {},
     "output_type": "display_data"
    }
   ],
   "source": [
    "G = nx.DiGraph()\n",
    "G.graph['dpi'] = 120\n",
    "\n",
    "nodes = ['X', 'Y', 'Z']\n",
    "edges = [('Z','X'), ('Z','Y'), ('X','Y')]\n",
    "nodes_pos = {'X':(-1, 1), 'Z':(0, 1.2), 'Y':(1, 1)}\n",
    "nodes_lbl = {'Z':'Z', 'X':'X', 'Y':'Y'}\n",
    "\n",
    "G.add_nodes_from(nodes)\n",
    "G.add_edges_from(edges)\n",
    "nx.draw(G,nodes_pos,node_size=800,node_color='white')\n",
    "_ = nx.draw_networkx_labels(G,nodes_pos,nodes_lbl)"
   ]
  },
  {
   "cell_type": "markdown",
   "id": "e659a1f5",
   "metadata": {},
   "source": [
    "We are interested in the quantity: $$P(Y \\vert do(X))$$ and we want to show that it is equivalent to: \n",
    "$$ \\sum_Z P(Y \\vert X,Z) P(Z) $$"
   ]
  },
  {
   "cell_type": "markdown",
   "id": "40c5ebd1",
   "metadata": {},
   "source": [
    "## Derivation"
   ]
  },
  {
   "cell_type": "markdown",
   "id": "01a4a613",
   "metadata": {},
   "source": [
    "**Start.** $$P(Y \\vert do(X))$$"
   ]
  },
  {
   "cell_type": "markdown",
   "id": "1bc833dd",
   "metadata": {},
   "source": [
    "**Sum rule.** Using $P(A)=\\sum_B P(A,B)$:\n",
    "$$\\sum_Z P(Y,Z \\vert do(X))$$"
   ]
  },
  {
   "cell_type": "markdown",
   "id": "926ba50c",
   "metadata": {},
   "source": [
    "**Product rule.** Using $P(A,B)=P(A \\vert B) P(B)$:\n",
    "$$\\sum_Z P(Y \\vert Z, do(X)) P (Z \\vert do(X))$$"
   ]
  },
  {
   "cell_type": "markdown",
   "id": "de0da834",
   "metadata": {},
   "source": [
    "**Rule 2.** We want to use Rule 2 to transfrom intervention $do(X)$ into observation $X$ in the first term $P(Y \\vert Z, do(X))$. We need to show whether $Y \\perp X \\vert Z$ in $G_{\\underline{X}}$:"
   ]
  },
  {
   "cell_type": "code",
   "execution_count": 22,
   "id": "7b280088",
   "metadata": {},
   "outputs": [
    {
     "data": {
      "image/png": "[encoded data removed]",
      "text/plain": [
       "<Figure size 432x288 with 1 Axes>"
      ]
     },
     "metadata": {},
     "output_type": "display_data"
    }
   ],
   "source": [
    "G = nx.DiGraph()\n",
    "G.graph['dpi'] = 120\n",
    "\n",
    "nodes = ['X', 'Y', 'Z']\n",
    "edges = [('Z','X'), ('Z','Y')]\n",
    "nodes_pos = {'X':(-1, 1), 'Z':(0, 1.2), 'Y':(1, 1)}\n",
    "nodes_lbl = {'Z':'Z', 'X':'X', 'Y':'Y'}\n",
    "\n",
    "G.add_nodes_from(nodes)\n",
    "G.add_edges_from(edges)\n",
    "nx.draw(G,nodes_pos,node_size=800,node_color='white')\n",
    "_ = nx.draw_networkx_labels(G,nodes_pos,nodes_lbl)"
   ]
  },
  {
   "cell_type": "markdown",
   "id": "37f115f4",
   "metadata": {},
   "source": [
    "Independence $Y \\perp X \\vert Z$ holds, thus:\n",
    "$$\\sum_Z P(Y \\vert Z, X) P (Z \\vert do(X))$$"
   ]
  },
  {
   "cell_type": "markdown",
   "id": "15ad6293",
   "metadata": {},
   "source": [
    "**Rule 3.** We use Rule 3 to drop intervention $do(X)$ in the last term $P(Z \\vert do(X))$. We need to show whether $Z \\perp X$ in $G_{\\overline{X(\\emptyset)}}$:"
   ]
  },
  {
   "cell_type": "code",
   "execution_count": 23,
   "id": "53bf63eb",
   "metadata": {},
   "outputs": [
    {
     "data": {
      "image/png": "[encoded data removed]",
      "text/plain": [
       "<Figure size 432x288 with 1 Axes>"
      ]
     },
     "metadata": {},
     "output_type": "display_data"
    }
   ],
   "source": [
    "G = nx.DiGraph()\n",
    "G.graph['dpi'] = 120\n",
    "\n",
    "nodes = ['X', 'Y', 'Z']\n",
    "edges = [('Z','Y'), ('X','Y')]\n",
    "nodes_pos = {'X':(-1, 1), 'Z':(0, 1.2), 'Y':(1, 1)}\n",
    "nodes_lbl = {'Z':'Z', 'X':'X', 'Y':'Y'}\n",
    "\n",
    "G.add_nodes_from(nodes)\n",
    "G.add_edges_from(edges)\n",
    "nx.draw(G,nodes_pos,node_size=800,node_color='white')\n",
    "_ = nx.draw_networkx_labels(G,nodes_pos,nodes_lbl)"
   ]
  },
  {
   "cell_type": "markdown",
   "id": "cae51053",
   "metadata": {},
   "source": [
    "Independence $Z \\perp X$ holds, thus:\n",
    "$$\\sum_Z P(Y \\vert Z, X) P (Z)$$\n",
    "\n",
    "**QED.**"
   ]
  },
  {
   "cell_type": "markdown",
   "id": "ee5fd0ec",
   "metadata": {},
   "source": [
    "# Derivation of Front-Door Criterion\n",
    "\n",
    "We go through the formal derivation of the front-door criterion following [1]."
   ]
  },
  {
   "cell_type": "markdown",
   "id": "fcd191a6",
   "metadata": {},
   "source": [
    "## Problem statement\n",
    "\n",
    "Let $G$ be the following graph:"
   ]
  },
  {
   "cell_type": "code",
   "execution_count": 24,
   "id": "7ccc19d0",
   "metadata": {},
   "outputs": [
    {
     "data": {
      "image/png": "[encoded data removed]",
      "text/plain": [
       "<Figure size 432x288 with 1 Axes>"
      ]
     },
     "metadata": {},
     "output_type": "display_data"
    }
   ],
   "source": [
    "G = nx.DiGraph()\n",
    "G.graph['dpi'] = 120\n",
    "\n",
    "nodes = ['X', 'Y', 'Z', 'U']\n",
    "edges = [('U','X'), ('U','Y'), ('X','Z'), ('Z','Y')]\n",
    "nodes_pos = {'X':(-1, 1), 'U':(0, 1.2), 'Z':(0, 1), 'Y':(1, 1)}\n",
    "nodes_lbl = {'Z':'Z', 'X':'X', 'U':'U', 'Y':'Y'}\n",
    "\n",
    "G.add_nodes_from(nodes)\n",
    "G.add_edges_from(edges)\n",
    "nx.draw(G,nodes_pos,node_size=800,node_color='white')\n",
    "_ = nx.draw_networkx_labels(G,nodes_pos,nodes_lbl)"
   ]
  },
  {
   "cell_type": "markdown",
   "id": "26f2bd34",
   "metadata": {},
   "source": [
    "We are interested in the quantity: $$P(Y \\vert do(X))$$ and we want to show that it is equivalent to: \n",
    "$$ \\sum_Z P(Z \\vert X) \n",
    "\\sum_{X'} P(Y \\vert Z,X')P(X')$$"
   ]
  },
  {
   "cell_type": "markdown",
   "id": "8b6bceae",
   "metadata": {},
   "source": [
    "## Derivation"
   ]
  },
  {
   "cell_type": "markdown",
   "id": "2ecb3954",
   "metadata": {},
   "source": [
    "**Start.** $$P(Y \\vert do(X))$$"
   ]
  },
  {
   "cell_type": "markdown",
   "id": "6c68d1ab",
   "metadata": {},
   "source": [
    "**Sum rule.** Using $P(A)=\\sum_B P(A,B)$:\n",
    "$$\\sum_Z P(Y,Z \\vert do(X))$$"
   ]
  },
  {
   "cell_type": "markdown",
   "id": "4da58084",
   "metadata": {},
   "source": [
    "**Product rule.** Using $P(A,B)=P(A \\vert B) P(B)$:\n",
    "$$\\sum_Z P(Y \\vert Z, do(X)) P (Z \\vert do(X))$$"
   ]
  },
  {
   "cell_type": "markdown",
   "id": "2ef33be1",
   "metadata": {},
   "source": [
    "**Rule 2.** We want to use Rule 2 to transfrom intervention $do(X)$ into observation $X$. Let us start from the second term $P(Z \\vert do(X))$. We need to show whether $Z \\perp X$ in $G_{\\underline{X}}$:"
   ]
  },
  {
   "cell_type": "code",
   "execution_count": 25,
   "id": "73c9fe00",
   "metadata": {},
   "outputs": [
    {
     "data": {
      "image/png": "[encoded data removed]",
      "text/plain": [
       "<Figure size 432x288 with 1 Axes>"
      ]
     },
     "metadata": {},
     "output_type": "display_data"
    }
   ],
   "source": [
    "G = nx.DiGraph()\n",
    "G.graph['dpi'] = 120\n",
    "\n",
    "nodes = ['X', 'Y', 'Z', 'U']\n",
    "edges = [('U','X'), ('U','Y'), ('Z','Y')]\n",
    "nodes_pos = {'X':(-1, 1), 'U':(0, 1.2), 'Z':(0, 1), 'Y':(1, 1)}\n",
    "nodes_lbl = {'Z':'Z', 'X':'X', 'U':'U', 'Y':'Y'}\n",
    "\n",
    "G.add_nodes_from(nodes)\n",
    "G.add_edges_from(edges)\n",
    "nx.draw(G,nodes_pos,node_size=800,node_color='white')\n",
    "_ = nx.draw_networkx_labels(G,nodes_pos,nodes_lbl)"
   ]
  },
  {
   "cell_type": "markdown",
   "id": "1618f3c7",
   "metadata": {},
   "source": [
    "Independence $Z \\perp X$ holds, thus:\n",
    "$$\\sum_Z P(Y \\vert Z, do(X)) P (Z \\vert X)$$"
   ]
  },
  {
   "cell_type": "markdown",
   "id": "f3719d18",
   "metadata": {},
   "source": [
    "**Rule 2.** We want to apply Rule 2 again, but this time to the first term $P(Y \\vert Z, do(X))$ in order to transform the observation $Z$ into an intervention $do(Z)$. We need to show whether $Y \\perp Z \\vert X$ in $G_{\\underline{Z},\\overline{X}}$:"
   ]
  },
  {
   "cell_type": "code",
   "execution_count": 26,
   "id": "e0c00097",
   "metadata": {},
   "outputs": [
    {
     "data": {
      "image/png": "[encoded data removed]",
      "text/plain": [
       "<Figure size 432x288 with 1 Axes>"
      ]
     },
     "metadata": {},
     "output_type": "display_data"
    }
   ],
   "source": [
    "G = nx.DiGraph()\n",
    "G.graph['dpi'] = 120\n",
    "\n",
    "nodes = ['X', 'Y', 'Z', 'U']\n",
    "edges = [('U','Y'), ('X','Z')]\n",
    "nodes_pos = {'X':(-1, 1), 'U':(0, 1.2), 'Z':(0, 1), 'Y':(1, 1)}\n",
    "nodes_lbl = {'Z':'Z', 'X':'X', 'U':'U', 'Y':'Y'}\n",
    "\n",
    "G.add_nodes_from(nodes)\n",
    "G.add_edges_from(edges)\n",
    "nx.draw(G,nodes_pos,node_size=800,node_color='white')\n",
    "_ = nx.draw_networkx_labels(G,nodes_pos,nodes_lbl)"
   ]
  },
  {
   "cell_type": "markdown",
   "id": "01296f0f",
   "metadata": {},
   "source": [
    "Independence $Y \\perp Z \\vert X$ holds, thus:\n",
    "$$\\sum_Z P(Y \\vert do(Z), do(X)) P (Z \\vert X)$$"
   ]
  },
  {
   "cell_type": "markdown",
   "id": "947c0831",
   "metadata": {},
   "source": [
    "**Sum rule.** Using $P(A)=\\sum_B P(A,B)$:\n",
    "$$\\sum_{Z,U} P(Y,U \\vert do(Z), do(X)) P (Z \\vert X)$$"
   ]
  },
  {
   "cell_type": "markdown",
   "id": "72bdccce",
   "metadata": {},
   "source": [
    "**Product rule.** Using $P(A,B)=P(A \\vert B) P(B)$:\n",
    "$$\\sum_{Z,U} P(Y \\vert U, do(Z), do(X)) P(U \\vert do(Z), do(X)) P(Z \\vert X)$$"
   ]
  },
  {
   "cell_type": "markdown",
   "id": "ebab1e8e",
   "metadata": {},
   "source": [
    "**Rule 3.** We want to use Rule 3 to drop intervention $do(X)$. Let us start from the first term $P(Y \\vert U, do(Z), do(X))$. We need to show whether $Y \\perp X \\vert U,Z$ in $G_{\\overline{Z},\\overline{X(U)}}$:"
   ]
  },
  {
   "cell_type": "code",
   "execution_count": 27,
   "id": "daf84eb2",
   "metadata": {},
   "outputs": [
    {
     "data": {
      "image/png": "[encoded data removed]",
      "text/plain": [
       "<Figure size 432x288 with 1 Axes>"
      ]
     },
     "metadata": {},
     "output_type": "display_data"
    }
   ],
   "source": [
    "G = nx.DiGraph()\n",
    "G.graph['dpi'] = 120\n",
    "\n",
    "nodes = ['X', 'Y', 'Z', 'U']\n",
    "edges = [('U','Y'), ('Z','Y')]\n",
    "nodes_pos = {'X':(-1, 1), 'U':(0, 1.2), 'Z':(0, 1), 'Y':(1, 1)}\n",
    "nodes_lbl = {'Z':'Z', 'X':'X', 'U':'U', 'Y':'Y'}\n",
    "\n",
    "G.add_nodes_from(nodes)\n",
    "G.add_edges_from(edges)\n",
    "nx.draw(G,nodes_pos,node_size=800,node_color='white')\n",
    "_ = nx.draw_networkx_labels(G,nodes_pos,nodes_lbl)"
   ]
  },
  {
   "cell_type": "markdown",
   "id": "77483548",
   "metadata": {},
   "source": [
    "Independence $Y \\perp X \\vert U,Z$ holds, thus:\n",
    "$$\\sum_{Z,U} P(Y \\vert U, do(Z)) P(U \\vert do(Z), do(X)) P(Z \\vert X)$$"
   ]
  },
  {
   "cell_type": "markdown",
   "id": "26d1faa9",
   "metadata": {},
   "source": [
    "**Rule 3.** We use Rule 3 to drop again intervention $do(X)$ in the second term $P(U \\vert do(Z), do(X))$. We need to show whether $U \\perp X \\vert Z$ in $G_{\\overline{Z},\\overline{X(\\emptyset)}}$:"
   ]
  },
  {
   "cell_type": "code",
   "execution_count": 28,
   "id": "04ffb365",
   "metadata": {},
   "outputs": [
    {
     "data": {
      "image/png": "[encoded data removed]",
      "text/plain": [
       "<Figure size 432x288 with 1 Axes>"
      ]
     },
     "metadata": {},
     "output_type": "display_data"
    }
   ],
   "source": [
    "G = nx.DiGraph()\n",
    "G.graph['dpi'] = 120\n",
    "\n",
    "nodes = ['X', 'Y', 'Z', 'U']\n",
    "edges = [('U','Y'), ('Z','Y')]\n",
    "nodes_pos = {'X':(-1, 1), 'U':(0, 1.2), 'Z':(0, 1), 'Y':(1, 1)}\n",
    "nodes_lbl = {'Z':'Z', 'X':'X', 'U':'U', 'Y':'Y'}\n",
    "\n",
    "G.add_nodes_from(nodes)\n",
    "G.add_edges_from(edges)\n",
    "nx.draw(G,nodes_pos,node_size=800,node_color='white')\n",
    "_ = nx.draw_networkx_labels(G,nodes_pos,nodes_lbl)"
   ]
  },
  {
   "cell_type": "markdown",
   "id": "552e2ec0",
   "metadata": {},
   "source": [
    "Independence $U \\perp X \\vert Z$ holds, thus:\n",
    "$$\\sum_{Z,U} P(Y \\vert U, do(Z)) P(U \\vert do(Z)) P(Z \\vert X)$$"
   ]
  },
  {
   "cell_type": "markdown",
   "id": "494cd96b",
   "metadata": {},
   "source": [
    "**Product rule.** Using $P(A,B)=P(A \\vert B) P(B)$:\n",
    "$$\\sum_{Z,U} P(Y, U \\vert do(Z)) P(Z \\vert X)$$"
   ]
  },
  {
   "cell_type": "markdown",
   "id": "5003235a",
   "metadata": {},
   "source": [
    "**Sum rule.** Using $P(A)=\\sum_B P(A,B)$:\n",
    "$$\\sum_{Z} P(Y \\vert do(Z)) P(Z \\vert X)$$"
   ]
  },
  {
   "cell_type": "markdown",
   "id": "9ff4e423",
   "metadata": {},
   "source": [
    "**Sum rule.** Using $P(A)=\\sum_B P(A,B)$:\n",
    "$$\\sum_{Z} P(Z \\vert X) \\sum_{X'} P(Y, X' \\vert do(Z)) $$"
   ]
  },
  {
   "cell_type": "markdown",
   "id": "d71ce1ba",
   "metadata": {},
   "source": [
    "**Product rule.** Using $P(A,B)=P(A \\vert B) P(B)$:\n",
    "$$\\sum_{Z} P(Z \\vert X) \\sum_{X'} P(Y \\vert X', do(Z)) P(X' \\vert do(Z)) $$"
   ]
  },
  {
   "cell_type": "markdown",
   "id": "02291433",
   "metadata": {},
   "source": [
    "**Rule 2.** We want to use Rule 2 to transfrom intervention $do(Z)$ into observation $Z$ in the second term $P(Y \\vert X', do(Z))$. We need to show whether $Y \\perp Z \\vert X'$ in $G_{\\underline{Z}}$:"
   ]
  },
  {
   "cell_type": "code",
   "execution_count": 29,
   "id": "765946c0",
   "metadata": {},
   "outputs": [
    {
     "data": {
      "image/png": "[encoded data removed]",
      "text/plain": [
       "<Figure size 432x288 with 1 Axes>"
      ]
     },
     "metadata": {},
     "output_type": "display_data"
    }
   ],
   "source": [
    "G = nx.DiGraph()\n",
    "G.graph['dpi'] = 120\n",
    "\n",
    "nodes = ['X', 'Y', 'Z', 'U']\n",
    "edges = [('U','X'), ('U','Y'), ('X','Z')]\n",
    "nodes_pos = {'X':(-1, 1), 'U':(0, 1.2), 'Z':(0, 1), 'Y':(1, 1)}\n",
    "nodes_lbl = {'Z':'Z', 'X':'X', 'U':'U', 'Y':'Y'}\n",
    "\n",
    "G.add_nodes_from(nodes)\n",
    "G.add_edges_from(edges)\n",
    "nx.draw(G,nodes_pos,node_size=800,node_color='white')\n",
    "_ = nx.draw_networkx_labels(G,nodes_pos,nodes_lbl)"
   ]
  },
  {
   "cell_type": "markdown",
   "id": "c4601dac",
   "metadata": {},
   "source": [
    "Independence $Y \\perp Z \\vert X'$ holds, thus:\n",
    "$$\\sum_{Z} P(Z \\vert X) \\sum_{X'} P(Y \\vert X', Z) P(X' \\vert do(Z)) $$"
   ]
  },
  {
   "cell_type": "markdown",
   "id": "d7e5918a",
   "metadata": {},
   "source": [
    "**Rule 3.** We use Rule 3 to drop intervention $do(Z)$ in the last term $P(X' \\vert do(Z))$. We need to show whether $X' \\perp Z$ in $G_{\\overline{Z(\\emptyset)}}$:"
   ]
  },
  {
   "cell_type": "code",
   "execution_count": 30,
   "id": "1d4fe1a6",
   "metadata": {},
   "outputs": [
    {
     "data": {
      "image/png": "[encoded data removed]",
      "text/plain": [
       "<Figure size 432x288 with 1 Axes>"
      ]
     },
     "metadata": {},
     "output_type": "display_data"
    }
   ],
   "source": [
    "G = nx.DiGraph()\n",
    "G.graph['dpi'] = 120\n",
    "\n",
    "nodes = ['X', 'Y', 'Z', 'U']\n",
    "edges = [('U','X'), ('U','Y'), ('Z','Y')]\n",
    "nodes_pos = {'X':(-1, 1), 'U':(0, 1.2), 'Z':(0, 1), 'Y':(1, 1)}\n",
    "nodes_lbl = {'Z':'Z', 'X':'X', 'U':'U', 'Y':'Y'}\n",
    "\n",
    "G.add_nodes_from(nodes)\n",
    "G.add_edges_from(edges)\n",
    "nx.draw(G,nodes_pos,node_size=800,node_color='white')\n",
    "_ = nx.draw_networkx_labels(G,nodes_pos,nodes_lbl)"
   ]
  },
  {
   "cell_type": "markdown",
   "id": "0593d1ba",
   "metadata": {},
   "source": [
    "Independence $X' \\perp Z$ holds, thus:\n",
    "$$\\sum_{Z} P(Z \\vert X) \\sum_{X'} P(Y \\vert X', Z) P(X') $$\n",
    "\n",
    "**QED.**"
   ]
  },
  {
   "cell_type": "markdown",
   "id": "33cbe185",
   "metadata": {},
   "source": [
    "# References\n",
    "\n",
    "\\[1\\] Stephen Malina, [Deriving the front-door criterion with the do-calculus](https://stephenmalina.com/post/2020-03-09-front-door-do-calc-derivation/)\n",
    "\n",
    "\\[2\\] Andrew Heiss, [Do-calculus adventures! Exploring the three rules of do-calculus in plain language and deriving the backdoor adjustment formula by hand](https://www.andrewheiss.com/blog/2021/09/07/do-calculus-backdoors/)\n",
    "\n",
    "\\[3\\] Brady Neal, [Introduction to Causal Inference](https://www.bradyneal.com/causal-inference-course)"
   ]
  }
 ],
 "metadata": {
  "kernelspec": {
   "display_name": "Python 3 (ipykernel)",
   "language": "python",
   "name": "python3"
  },
  "language_info": {
   "codemirror_mode": {
    "name": "ipython",
    "version": 3
   },
   "file_extension": ".py",
   "mimetype": "text/x-python",
   "name": "python",
   "nbconvert_exporter": "python",
   "pygments_lexer": "ipython3",
   "version": "3.9.10"
  },
  "toc": {
   "base_numbering": 1,
   "nav_menu": {},
   "number_sections": true,
   "sideBar": true,
   "skip_h1_title": false,
   "title_cell": "Table of Contents",
   "title_sidebar": "Contents",
   "toc_cell": false,
   "toc_position": {
    "height": "calc(100% - 180px)",
    "left": "10px",
    "top": "150px",
    "width": "293.489px"
   },
   "toc_section_display": true,
   "toc_window_display": true
  }
 },
 "nbformat": 4,
 "nbformat_minor": 5
}
