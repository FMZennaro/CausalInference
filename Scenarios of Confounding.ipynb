{
 "cells": [
  {
   "cell_type": "markdown",
   "id": "9cfa79e3",
   "metadata": {},
   "source": [
    "# Scenarios of Confounding"
   ]
  },
  {
   "cell_type": "markdown",
   "id": "89367c9f",
   "metadata": {},
   "source": [
    "## Introduction\n",
    "\n",
    "In this notebook we experimentally review some representative scenarios of *confounding*. The concept of confounders is an important tool to understand data and give it a causal interpretation. Here, we will take our start from the fun and illustrative case study of the greedy casino designed in [Bareinboim2015]. We implement and study this scenario, and then move onto other famous and representative case studies, which we use to exemplify and expound important ideas related to confounders and causality.\n",
    "\n",
    "1. *Greedy casino*: we start with the greedy casino, a scenario affected by (quasi-)hidden confounders. We perform observational and interventional studies, obtaining different results because of the confounders. Contrary to the possible expectation that exact interventional quantities are preferrable, this scenario shows that our specific concerns rule which quantity is to be preferred. Furthermore discrepancy between the observed and interventional quantities induces us to suspect unethical behaviour.\n",
    "\n",
    "2. *Ungreedy casino:* we consider a second casino, in which no confounders are present. Observational and interventional studies produce again diverging results, which are not distinguishable from the greedy casino case. This hints to the fact that our discussion of ethical evaluation may not depend only on the existence of confounders, but it requires deeper considerations.\n",
    "\n",
    "3. *Effectiveness of a new medicine*: we then move (by graphical analogy) to the standard case of evaluating the effectiveness of a new medicine. This is a standard scenario which may be found in classical causality texts like [Pearl2009]. Here, we deal with a hidden confounder. Again, we perform observational and interventional studies, which end up disagreeing because of the unobserved confounder. In this case, interventional quantities provide the measure of causal strenght (ATE) we are looking for.\n",
    "\n",
    "4. *Policymaking for a new medicine*: we keep playing with the new medicine scenario, wondering whether the interventional studies we have made are sufficient to justify the adoption of a determined policy. The realization that the simple knowledge of the causal effect of a medicine is not enough to find an optimal policy leads us to consider how other quantities (CATE, counterfactuals) allow us to work around confounders.\n",
    "\n",
    "5. *Simpson's paradox: effectiveness of a new medicine*: we trace back to our question about the effectiveness of a new medicine, and we provide a new interpretation for the discrepancy between observational and interventional results. In particular, we show how wrong causal statements may be explained by a misspecified causal model; inconsistencies may arise among interventional quantities estimated via do-calculus on a model that misspecifies or ignores confounders.\n",
    "\n",
    "6. *Simpson's paradox: university admission*: we finish with a classical instance of Simpson's paradox. Here, we deal with an observable confounder. Apparent inconsistencies arise even among observational data as a consequence of dealing improperly with confounders and causal interpretations.\n",
    "\n",
    "We conclude with a few appendices where we provide a few variations of the scenarios that we examined.\n",
    "\n",
    "This notebooks assumes basic knowledge of causality and structural causal models (SCMs) [Pearl2009]."
   ]
  },
  {
   "cell_type": "markdown",
   "id": "72890c77",
   "metadata": {},
   "source": [
    "## Setup\n",
    "\n",
    "Let us start by importing a couple of generic libraries."
   ]
  },
  {
   "cell_type": "code",
   "execution_count": 1,
   "id": "a32e7c60",
   "metadata": {},
   "outputs": [],
   "source": [
    "import numpy as np\n",
    "import matplotlib.pyplot as plt\n",
    "import networkx as nx\n",
    "from tqdm import tqdm"
   ]
  },
  {
   "cell_type": "markdown",
   "id": "3090ec2d",
   "metadata": {},
   "source": [
    "We then define the number of simulations in our experiments."
   ]
  },
  {
   "cell_type": "code",
   "execution_count": 2,
   "id": "26e7a18c",
   "metadata": {},
   "outputs": [],
   "source": [
    "n_trials = 10000"
   ]
  },
  {
   "cell_type": "markdown",
   "id": "db870d95",
   "metadata": {},
   "source": [
    "Finally, we set a random seed for reproducibility."
   ]
  },
  {
   "cell_type": "code",
   "execution_count": 3,
   "id": "12f486f4",
   "metadata": {},
   "outputs": [],
   "source": [
    "np.random.seed(1985)"
   ]
  },
  {
   "cell_type": "markdown",
   "id": "91738042",
   "metadata": {},
   "source": [
    "# Greedy casino\n",
    "\n",
    "Let us re-implement and explore the model of the *greedy casino* presented in [Bareinboim2015], and let's play around with it."
   ]
  },
  {
   "cell_type": "markdown",
   "id": "433cd25a",
   "metadata": {},
   "source": [
    "## Scenario\n",
    "\n",
    "Welcome to the Greedy Casino! [Bareinboim2015] \n",
    "\n",
    "In the greedy casino, players interact with sneaky slot machines that set their reward probability according to the state of the players. In the scenario we assume that it is well known that the choices of players are affected by: (a) their level of drunkedness, and (b) whether a slot machine is blinking or not. The sneaky machines in the greedy casino are equipped with cameras and face detection software, and they will set their reward probability as a function of the drunkedness of the player and level of blinking of the machine itself.\n",
    "\n",
    "Formally, we set up a *2-armed bandits with unobserved confounders*: a machine (*bandit*) has two levers (*2-armed*); the choice ($X$) of the player and the outcome ($Y$) are affected by drunkedness and blinking (*unobserved confounders*).  \n",
    "\n",
    "The problem we want to consider here is whether the reward levels of the machines are within the parameters of the law, that is, whether the percentage of victories is sufficently high. We will take $0.3$ as the required threshold, meaning that at least 3 times out of 10 the machines are expected to reward the players.\n",
    "\n",
    "This investigation will lead us to discover a discrepancy between the expected reward in an *observational setting* and the expected reward in an *interventional setting*. We will explain this discrepancy in terms of different underlying structural causal models."
   ]
  },
  {
   "cell_type": "markdown",
   "id": "4d4fb385",
   "metadata": {},
   "source": [
    "## Implementation\n",
    "\n",
    "Let us take a computational approach and build a simulation of our casino. We use the concrete model presented in [Bareinboim2015].\n",
    "\n",
    "We start with two functions, one randomly defining the state of a player (0: *sober*, 1: *drunk*) and one randomly defining the state of a machine (0: *subdued*, 1: *blinking*).  "
   ]
  },
  {
   "cell_type": "code",
   "execution_count": 4,
   "id": "1ac349d0",
   "metadata": {},
   "outputs": [],
   "source": [
    "def random_select_blinking():\n",
    "    return np.random.binomial(1,p=.5)\n",
    "\n",
    "def random_select_drunkedness():\n",
    "    return np.random.binomial(1,p=.5)"
   ]
  },
  {
   "cell_type": "markdown",
   "id": "129efbbd",
   "metadata": {},
   "source": [
    "We then introduce a sneaky function that determines the reward level of the machine exploiting knowledge of the drunkedness of the player and blinking of the machine. Notice that we return an array: since every machine has two levers (*2-arms*) the first value is the winning probability when pulling the first arm, and the second is the winning probability when pulling the second arm."
   ]
  },
  {
   "cell_type": "code",
   "execution_count": 5,
   "id": "2df94d0c",
   "metadata": {},
   "outputs": [],
   "source": [
    "def sneaky_select_reward(blinking,drunkedness):\n",
    "    if drunkedness==0:\n",
    "        if blinking==0:\n",
    "            return np.array([.1,.5])\n",
    "        else:\n",
    "            return np.array([.5,.1])\n",
    "    else:\n",
    "        if blinking==0:\n",
    "            return np.array([.4,.2])\n",
    "        else:\n",
    "            return np.array([.2,.4])"
   ]
  },
  {
   "cell_type": "markdown",
   "id": "209857c8",
   "metadata": {},
   "source": [
    "Finally, we define the play function which returns the outcome of playing (0: *loss*, 1: *victory*) taking into consideration the reward probability and the chosen lever. "
   ]
  },
  {
   "cell_type": "code",
   "execution_count": 6,
   "id": "c1d5829c",
   "metadata": {},
   "outputs": [],
   "source": [
    "def play(lever,reward):\n",
    "    return np.random.binomial(1,reward[int(lever)])"
   ]
  },
  {
   "cell_type": "markdown",
   "id": "0ebabcf7",
   "metadata": {},
   "source": [
    "## Observational study\n",
    "\n",
    "In order to get an intuition on whether the casino complies with the law, we run an *observational study*. We track players and record their results.\n",
    "\n",
    "As the managers of the casino have understood, the choice of which lever to play is not completely random. The *natural* choice of a player depends on her level of drunkedness and the blinking of the machine. We encode this function next (0: *first lever*, 1: *second lever*):"
   ]
  },
  {
   "cell_type": "code",
   "execution_count": 7,
   "id": "b48307fa",
   "metadata": {},
   "outputs": [],
   "source": [
    "def observational_select_lever(blinking,drunkedness):\n",
    "    return np.logical_xor(blinking,drunkedness)"
   ]
  },
  {
   "cell_type": "markdown",
   "id": "e50299cf",
   "metadata": {},
   "source": [
    "We define a function representing a set of *observations* (generating the player and the machine, setting the reward, choosing which arm to pull, playing) and we collect the outcomes."
   ]
  },
  {
   "cell_type": "code",
   "execution_count": 8,
   "id": "bda4f752",
   "metadata": {},
   "outputs": [],
   "source": [
    "def run_observational_simulation(n_trials=n_trials):\n",
    "    \n",
    "    results = {'lever': np.zeros(n_trials), \n",
    "               'outcome': np.zeros(n_trials)}\n",
    "    \n",
    "    for i in tqdm(range(n_trials)):\n",
    "        blinking = random_select_blinking()\n",
    "        drunkedness = random_select_drunkedness()\n",
    "        \n",
    "        reward = sneaky_select_reward(blinking,drunkedness)\n",
    "                \n",
    "        lever = observational_select_lever(blinking,drunkedness)\n",
    "            \n",
    "        outcome = play(lever,reward)\n",
    "        \n",
    "        results['lever'][i] = lever\n",
    "        results['outcome'][i] = outcome\n",
    "    \n",
    "    return results"
   ]
  },
  {
   "cell_type": "markdown",
   "id": "a2c04fa4",
   "metadata": {},
   "source": [
    "As good statisticians, we collect many samples."
   ]
  },
  {
   "cell_type": "code",
   "execution_count": 9,
   "id": "21f836e9",
   "metadata": {},
   "outputs": [
    {
     "name": "stderr",
     "output_type": "stream",
     "text": [
      "100%|█████████████████████████████████| 10000/10000 [00:00<00:00, 178230.74it/s]\n"
     ]
    }
   ],
   "source": [
    "obs_res = run_observational_simulation()"
   ]
  },
  {
   "cell_type": "markdown",
   "id": "f9c16f8d",
   "metadata": {},
   "source": [
    "We look then at the probability of victory $P(Y=1)$, where $Y$ is the outcome."
   ]
  },
  {
   "cell_type": "code",
   "execution_count": 10,
   "id": "5832c203",
   "metadata": {},
   "outputs": [
    {
     "name": "stdout",
     "output_type": "stream",
     "text": [
      "Probability of victory: 0.1442\n"
     ]
    }
   ],
   "source": [
    "print('Probability of victory: {0}'.format(np.sum(obs_res['outcome']==1) / len(obs_res['outcome'])))"
   ]
  },
  {
   "cell_type": "markdown",
   "id": "0e2a75df",
   "metadata": {},
   "source": [
    "The probability is very low, way under the legal threshold of $0.3$, suggesting that the casino is doing something fishy.\n",
    "\n",
    "This is confirmed also by conditioning on the chosen lever. Let us compute $P(Y=1 \\vert X=0)$ and $P(Y=1 \\vert X=1)$ where $X$ is the chosen lever."
   ]
  },
  {
   "cell_type": "code",
   "execution_count": 11,
   "id": "34f4ac38",
   "metadata": {},
   "outputs": [
    {
     "name": "stdout",
     "output_type": "stream",
     "text": [
      "Probability of victory given lever 0: 0.147192118226601\n"
     ]
    }
   ],
   "source": [
    "n_victory_lever0 = np.sum(obs_res['outcome'][obs_res['lever']==0])\n",
    "n_lever0 = np.sum(obs_res['lever']==0)\n",
    "\n",
    "print('Probability of victory given lever 0: {0}'.format(n_victory_lever0 / n_lever0))"
   ]
  },
  {
   "cell_type": "code",
   "execution_count": 12,
   "id": "5b43422c",
   "metadata": {},
   "outputs": [
    {
     "name": "stdout",
     "output_type": "stream",
     "text": [
      "Probability of victory given lever 1: 0.14111675126903553\n"
     ]
    }
   ],
   "source": [
    "n_victory_lever1 = np.sum(obs_res['outcome'][obs_res['lever']==1])\n",
    "n_lever1 = np.sum(obs_res['lever']==1)\n",
    "\n",
    "print('Probability of victory given lever 1: {0}'.format(n_victory_lever1 / n_lever1))"
   ]
  },
  {
   "cell_type": "markdown",
   "id": "7df8c17a",
   "metadata": {},
   "source": [
    "Both results confirm that something illegal may be going on."
   ]
  },
  {
   "cell_type": "markdown",
   "id": "2ac89087",
   "metadata": {},
   "source": [
    "Let us stop for a moment and try to provide a graphical representation of our model. "
   ]
  },
  {
   "cell_type": "markdown",
   "id": "4e700be7",
   "metadata": {},
   "source": [
    "**Computational graph.** We will first draw out an intuitive computational graph of our scenario."
   ]
  },
  {
   "cell_type": "code",
   "execution_count": 13,
   "id": "e665c626",
   "metadata": {},
   "outputs": [
    {
     "data": {
      "image/png": "[encoded data removed]",
      "text/plain": [
       "<Figure size 432x288 with 1 Axes>"
      ]
     },
     "metadata": {},
     "output_type": "display_data"
    }
   ],
   "source": [
    "G = nx.DiGraph()\n",
    "G.graph['dpi'] = 120\n",
    "\n",
    "nodes = ['X', 'Y', 'Z1', 'Z2', 'r',]\n",
    "edges = [('Z1','X'), ('Z2','X'), ('Z1','r'), ('Z2','r'), ('X','Y'),('r','Y')]\n",
    "nodes_pos = {'Z1':(-1, 1), 'Z2':(1, 1), 'X':(-1, -1), 'r':(1, -1), 'Y':(0, -3)}\n",
    "nodes_lbl = {'Z1':'Drunk', 'Z2':'Blink', 'X':'Lever', 'r':'Reward', 'Y':'Victory'}\n",
    "\n",
    "G.add_nodes_from(nodes)\n",
    "G.add_edges_from(edges)\n",
    "nx.draw(G,nodes_pos,node_size=800,node_color='white')\n",
    "_ = nx.draw_networkx_labels(G,nodes_pos,nodes_lbl)"
   ]
  },
  {
   "cell_type": "markdown",
   "id": "f709c9ec",
   "metadata": {},
   "source": [
    "We have here a 1-to-1 correspondance between nodes and functions:\n",
    "- *drunk* $\\rightarrow$ *random_select_drunkedness()*\n",
    "- *blink* $\\rightarrow$ *random_select_blinking()*; \n",
    "- *lever* $\\rightarrow$ *sneaky_select_reward(blinking,drunkedness)*; \n",
    "- *reward* $\\rightarrow$ *observational_select_lever(blinking,drunkedness)*;\n",
    "- *victory* $\\rightarrow$ *play(lever,reward)*.\n",
    "\n",
    "Notice how the arrows capture the arguments of the functions."
   ]
  },
  {
   "cell_type": "markdown",
   "id": "89d23085",
   "metadata": {},
   "source": [
    "**SCM graph.** We can actually turn the above intuitive computational graph into a rigorous *structural causal model* (SCM) [Pearl2009] defined by a set of exogenous variables $\\mathcal{E}$, a set of endogenous variables $\\mathcal{X}$, a set of structural functions $\\mathcal{F}$ associated with the endogenous variables, and a set of probability distribution $\\mathcal{P}$ associated with the exogenous variables.\n",
    "\n",
    "Let us redefine the nodes of our graph as follows:"
   ]
  },
  {
   "cell_type": "code",
   "execution_count": 14,
   "id": "db40eb6b",
   "metadata": {},
   "outputs": [
    {
     "data": {
      "image/png": "[encoded data removed]",
      "text/plain": [
       "<Figure size 432x288 with 1 Axes>"
      ]
     },
     "metadata": {},
     "output_type": "display_data"
    }
   ],
   "source": [
    "G = nx.DiGraph()\n",
    "G.graph['dpi'] = 120\n",
    "\n",
    "nodes = ['X', 'Y', 'Z1', 'Z2', 'r',]\n",
    "edges = [('Z1','X'), ('Z2','X'), ('Z1','r'), ('Z2','r'), ('X','Y'),('r','Y')]\n",
    "nodes_pos = {'Z1':(-1, 1), 'Z2':(1, 1), 'X':(-1, -1), 'r':(1, -1), 'Y':(0, -3)}\n",
    "nodes_lbl = {'Z1':'D', 'Z2':'B', 'X':'L', 'r':'R', 'Y':'V'}\n",
    "\n",
    "G.add_nodes_from(nodes)\n",
    "G.add_edges_from(edges)\n",
    "nx.draw(G,nodes_pos,node_size=800,node_color='white')\n",
    "_ = nx.draw_networkx_labels(G,nodes_pos,nodes_lbl)"
   ]
  },
  {
   "cell_type": "markdown",
   "id": "18896597",
   "metadata": {},
   "source": [
    "where the set of endogenous variables is: $$ \\mathcal{X} = \\{ D,B,L,R,V \\}, $$ with obvious meanings, the set of exogenous variables (not depicted) is: $$ \\mathcal{E} = \\{ U_D,U_B,U_L,U_R,U_V \\}, $$ the set of probability distributions $\\mathcal{P}$ is made up by:\n",
    "\\begin{align*}\n",
    "U_{D} & \\sim\\mathtt{Bern}(.5)\\\\\n",
    "U_{B} & \\sim\\mathtt{Bern}(.5)\\\\\n",
    "U_{R} & \\sim\\mathtt{1}\\\\\n",
    "U_{L} & \\sim\\mathtt{1}\\\\\n",
    "U_{V} & \\sim\\mathtt{Unif}(0,1)\n",
    "\\end{align*}\n",
    "where $\\mathtt{Bern}(p)$ is a Bernoulli distribution with probability $p$, $\\mathtt{Unif}(a,b)$ is a continuous uniform distribution between $a$ and $b$, and $\\mathtt{1}$ is just an identity,\n",
    "and the set of structural functions $\\mathcal{F}$ is defined by:\n",
    "\\begin{align*}\n",
    "D & =f_{D}(U_{D})=U_{D}\\\\\n",
    "B & =f_{B}(U_{B})=U_{B}\\\\\n",
    "R & =f_{R}(D,B,U_{R})=\\mathtt{if...}\\\\\n",
    "L & =f_{L}(D,B,U_{L})=D\\oplus B\\\\\n",
    "V & =f_{V}(T,R,U_{V})=\\mathtt{if...}\n",
    "\\end{align*}\n",
    "where $\\mathtt{if...}$ is a shorthand for the if-statement encoded in the respective functions."
   ]
  },
  {
   "cell_type": "markdown",
   "id": "c38d6533",
   "metadata": {},
   "source": [
    "**Simplified SCM graph.** Notice that the node $R$ defining the reward probability of each level has no stochastic component (indeed $U_R \\sim \\mathtt{1}$) and just performs a deterministic computation. Instead of performing this computation in the node $R$, we can forward the inputs and integrate the computation directly in $V$, obtaining the smaller model:"
   ]
  },
  {
   "cell_type": "code",
   "execution_count": 15,
   "id": "fd9d1e1d",
   "metadata": {},
   "outputs": [
    {
     "data": {
      "image/png": "[encoded data removed]",
      "text/plain": [
       "<Figure size 432x288 with 1 Axes>"
      ]
     },
     "metadata": {},
     "output_type": "display_data"
    }
   ],
   "source": [
    "G = nx.DiGraph()\n",
    "G.graph['dpi'] = 120\n",
    "\n",
    "nodes = ['X', 'Y', 'Z1', 'Z2']\n",
    "edges = [('Z1','X'), ('Z2','X'), ('Z1','Y'), ('Z2','Y'), ('X','Y')]\n",
    "nodes_pos = {'Z1':(-1, 1), 'Z2':(1, 1), 'X':(-1, -1), 'Y':(0, -3)}\n",
    "nodes_lbl = {'Z1':'D', 'Z2':'B', 'X':'L', 'Y':'V'}\n",
    "\n",
    "G.add_nodes_from(nodes)\n",
    "G.add_edges_from(edges)\n",
    "nx.draw(G,nodes_pos,node_size=800,node_color='white')\n",
    "_ = nx.draw_networkx_labels(G,nodes_pos,nodes_lbl)"
   ]
  },
  {
   "cell_type": "markdown",
   "id": "a89cd661",
   "metadata": {},
   "source": [
    "This model has a very familiar shape; using standard causality notation and lexicon we can identify a *treatment* node ($X$), an *outcome* node ($Y$), and two confounders ($Z_1, Z_2$):"
   ]
  },
  {
   "cell_type": "code",
   "execution_count": 16,
   "id": "0edac3bb",
   "metadata": {},
   "outputs": [
    {
     "data": {
      "image/png": "[encoded data removed]",
      "text/plain": [
       "<Figure size 432x288 with 1 Axes>"
      ]
     },
     "metadata": {},
     "output_type": "display_data"
    }
   ],
   "source": [
    "G = nx.DiGraph()\n",
    "G.graph['dpi'] = 120\n",
    "\n",
    "nodes = ['X', 'Y', 'Z1', 'Z2']\n",
    "edges = [('Z1','X'), ('Z2','X'), ('Z1','Y'), ('Z2','Y'), ('X','Y')]\n",
    "nodes_pos = {'Z1':(-1, 1), 'Z2':(0, 1), 'X':(-1, -1), 'Y':(0, -1)}\n",
    "nodes_lbl = {'Z1':'Z1', 'Z2':'Z2', 'X':'X', 'Y':'Y'}\n",
    "\n",
    "G.add_nodes_from(nodes)\n",
    "G.add_edges_from(edges)\n",
    "nx.draw(G,nodes_pos,node_size=800,node_color='white')\n",
    "_ = nx.draw_networkx_labels(G,nodes_pos,nodes_lbl)"
   ]
  },
  {
   "cell_type": "markdown",
   "id": "3d5325cd",
   "metadata": {},
   "source": [
    "A couple of observations:\n",
    "\n",
    "1. The reasoning we have used to eliminate the node $R$ could be used to eliminate the node $L$, as well. The choice of the lever is purely deterministic. The reason we do not want to eliminate $L$ is that we will *intervene* on this node later.\n",
    "\n",
    "2. The presence of *two* confounders $Z_1,Z_2$ is not necessary. A 'greedy casino' may be set up with a single confounder (see *one-confounder example* in the Appendix)."
   ]
  },
  {
   "cell_type": "markdown",
   "id": "e0d5f0f5",
   "metadata": {},
   "source": [
    "## Experimental study\n",
    "\n",
    "Let us go back to our scenario. Tipped by our recordings, public officers are now coming over to validate our complaint against the casino. Following statistical good practices they run an *experimental* study. They pick a customer and they assign her a random lever to pull.\n",
    "\n",
    "We represent this scenario with a function in which the chosen lever is not the result of a *natural* choice encoded in a function, but a random toss of a coin."
   ]
  },
  {
   "cell_type": "code",
   "execution_count": 17,
   "id": "65ed6a29",
   "metadata": {},
   "outputs": [],
   "source": [
    "def interventional_select_lever():\n",
    "    return np.random.binomial(1,p=.5)"
   ]
  },
  {
   "cell_type": "markdown",
   "id": "297e403c",
   "metadata": {},
   "source": [
    "We define a function representing a set of *experiments* (generating the player and the machine, setting the reward, randomly choosing which arm to pull, playing) and we collect the outcomes."
   ]
  },
  {
   "cell_type": "code",
   "execution_count": 18,
   "id": "f2b92dec",
   "metadata": {},
   "outputs": [],
   "source": [
    "def run_interventional_simulation(n_trials=n_trials):\n",
    "    \n",
    "    results = {'lever': np.zeros(n_trials), \n",
    "               'outcome': np.zeros(n_trials)}\n",
    "    \n",
    "    for i in tqdm(range(n_trials)):\n",
    "        blinking = random_select_blinking()\n",
    "        drunkedness = random_select_drunkedness()\n",
    "        \n",
    "        reward = sneaky_select_reward(blinking,drunkedness)\n",
    "        \n",
    "        lever = interventional_select_lever()    \n",
    "        \n",
    "        outcome = play(lever,reward)\n",
    "        \n",
    "        results['lever'][i] = lever\n",
    "        results['outcome'][i] = outcome\n",
    "    \n",
    "    return results"
   ]
  },
  {
   "cell_type": "markdown",
   "id": "d5c0a91d",
   "metadata": {},
   "source": [
    "As before, we collect many samples."
   ]
  },
  {
   "cell_type": "code",
   "execution_count": 19,
   "id": "dcf7c842",
   "metadata": {},
   "outputs": [
    {
     "name": "stderr",
     "output_type": "stream",
     "text": [
      "100%|█████████████████████████████████| 10000/10000 [00:00<00:00, 163073.68it/s]\n"
     ]
    }
   ],
   "source": [
    "int_res = run_interventional_simulation()"
   ]
  },
  {
   "cell_type": "markdown",
   "id": "db9b987b",
   "metadata": {},
   "source": [
    "Looking at the probability of victory, it seems the casino is doing an okay job, having a winning percentage close within the threshold required by law (up to sampling error)."
   ]
  },
  {
   "cell_type": "code",
   "execution_count": 20,
   "id": "dae6a099",
   "metadata": {},
   "outputs": [
    {
     "name": "stdout",
     "output_type": "stream",
     "text": [
      "Probability of victory: 0.303\n"
     ]
    }
   ],
   "source": [
    "print('Probability of victory: {0}'.format(np.sum(int_res['outcome']==1) / len(int_res['outcome'])))"
   ]
  },
  {
   "cell_type": "markdown",
   "id": "80318024",
   "metadata": {},
   "source": [
    "Beware that the estimated quantity is not $P(Y=1)$ but $P_{do(X=x)}(Y=1) = P(Y=1 \\vert do(X=x)) $, that is, the probability of victory in the model in which we intervened on the choice of the lever."
   ]
  },
  {
   "cell_type": "markdown",
   "id": "0993985d",
   "metadata": {},
   "source": [
    "A similar conclusion follows by computing probabilities for individual levers:"
   ]
  },
  {
   "cell_type": "code",
   "execution_count": 21,
   "id": "6ceb21b8",
   "metadata": {},
   "outputs": [
    {
     "name": "stdout",
     "output_type": "stream",
     "text": [
      "Probability of victory acting on lever 0: 0.3046623794212219\n"
     ]
    }
   ],
   "source": [
    "n_victory_lever0 = np.sum(int_res['outcome'][int_res['lever']==0])\n",
    "n_lever0 = np.sum(int_res['lever']==0)\n",
    "\n",
    "print('Probability of victory acting on lever 0: {0}'.format(n_victory_lever0 / n_lever0))"
   ]
  },
  {
   "cell_type": "code",
   "execution_count": 22,
   "id": "10a7c916",
   "metadata": {},
   "outputs": [
    {
     "name": "stdout",
     "output_type": "stream",
     "text": [
      "Probability of victory acting on lever 1: 0.3013535031847134\n"
     ]
    }
   ],
   "source": [
    "n_victory_lever1 = np.sum(int_res['outcome'][int_res['lever']==1])\n",
    "n_lever1 = np.sum(int_res['lever']==1)\n",
    "\n",
    "print('Probability of victory acting on lever 1: {0}'.format(n_victory_lever1 / n_lever1))"
   ]
  },
  {
   "cell_type": "markdown",
   "id": "a9ba3941",
   "metadata": {},
   "source": [
    "Again, beware that these quantities are not the *observational conditionals* $P(Y=1 \\vert X=0)$ and $P(Y=1 \\vert X=1)$, but the *interventionals* $P(Y=1 \\vert do(X=0))$ and $P(Y=1 \\vert do(X=1))$"
   ]
  },
  {
   "cell_type": "markdown",
   "id": "17156551",
   "metadata": {},
   "source": [
    "Let us try to understand what the officials have done, and why their results substantially differ from the results we colelcted."
   ]
  },
  {
   "cell_type": "markdown",
   "id": "b22e04c5",
   "metadata": {},
   "source": [
    "**Computational graph.** Let us first compare the officials' computational graph with ours."
   ]
  },
  {
   "cell_type": "code",
   "execution_count": 23,
   "id": "d42bae61",
   "metadata": {},
   "outputs": [
    {
     "data": {
      "image/png": "[encoded data removed]",
      "text/plain": [
       "<Figure size 432x288 with 1 Axes>"
      ]
     },
     "metadata": {},
     "output_type": "display_data"
    }
   ],
   "source": [
    "G = nx.DiGraph()\n",
    "G.graph['dpi'] = 120\n",
    "\n",
    "nodes = ['X', 'Y', 'Z1', 'Z2', 'r',]\n",
    "edges = [('Z1','r'), ('Z2','r'), ('X','Y'),('r','Y')]\n",
    "nodes_pos = {'Z1':(-1, 1), 'Z2':(1, 1), 'X':(-1, -1), 'r':(1, -1), 'Y':(0, -3)}\n",
    "nodes_lbl = {'Z1':'Drunk', 'Z2':'Blink', 'X':'Lever', 'r':'Reward', 'Y':'Victory'}\n",
    "\n",
    "G.add_nodes_from(nodes)\n",
    "G.add_edges_from(edges)\n",
    "nx.draw(G,nodes_pos,node_size=800,node_color='white')\n",
    "_ = nx.draw_networkx_labels(G,nodes_pos,nodes_lbl)"
   ]
  },
  {
   "cell_type": "markdown",
   "id": "0abf027f",
   "metadata": {},
   "source": [
    "The graph is the same as before with the exception of one node/function:\n",
    "- *lever* $\\rightarrow$ *interventional_select_lever()*.\n",
    "\n",
    "Since the function associated with *lever* has no arguments, the node has no incoming arrows."
   ]
  },
  {
   "cell_type": "markdown",
   "id": "06157d0e",
   "metadata": {},
   "source": [
    "**SCM graph.** Let us translate the computational graph into a SCM:"
   ]
  },
  {
   "cell_type": "code",
   "execution_count": 24,
   "id": "7f3796e6",
   "metadata": {},
   "outputs": [
    {
     "data": {
      "image/png": "[encoded data removed]",
      "text/plain": [
       "<Figure size 432x288 with 1 Axes>"
      ]
     },
     "metadata": {},
     "output_type": "display_data"
    }
   ],
   "source": [
    "G = nx.DiGraph()\n",
    "G.graph['dpi'] = 120\n",
    "\n",
    "nodes = ['X', 'Y', 'Z1', 'Z2', 'r',]\n",
    "edges = [('Z1','r'), ('Z2','r'), ('X','Y'),('r','Y')]\n",
    "nodes_pos = {'Z1':(-1, 1), 'Z2':(1, 1), 'X':(-1, -1), 'r':(1, -1), 'Y':(0, -3)}\n",
    "nodes_lbl = {'Z1':'D', 'Z2':'B', 'X':'L', 'r':'R', 'Y':'V'}\n",
    "\n",
    "G.add_nodes_from(nodes)\n",
    "G.add_edges_from(edges)\n",
    "nx.draw(G,nodes_pos,node_size=800,node_color='white')\n",
    "_ = nx.draw_networkx_labels(G,nodes_pos,nodes_lbl)"
   ]
  },
  {
   "cell_type": "markdown",
   "id": "af9e653e",
   "metadata": {},
   "source": [
    "where the set of endogenous variables $\\mathcal{X}$ and exogenous variables $\\mathcal{E}$ are the same, the set of probability distributions $\\mathcal{P}$ is identical with the exception of:\n",
    "\\begin{align*}\n",
    "U_{L} & \\sim\\mathtt{Bern}(.5),\\\\\n",
    "\\end{align*}\n",
    "and similarly the set of structural functions $\\mathcal{F}$ is the same except for:\n",
    "\\begin{align*}\n",
    "L & =f_{L}(D,B,U_{L})=U_{L}.\\\\\n",
    "\\end{align*}\n",
    "This represents what we would normally refer to as the *post-interventional* model in which the incoming arrows on the intervened nodes have been removed."
   ]
  },
  {
   "cell_type": "markdown",
   "id": "6dc461db",
   "metadata": {},
   "source": [
    "**Simplified SCM graph.** Simplifying the model as we did before, we get:"
   ]
  },
  {
   "cell_type": "code",
   "execution_count": 25,
   "id": "eddecf83",
   "metadata": {},
   "outputs": [
    {
     "data": {
      "image/png": "[encoded data removed]",
      "text/plain": [
       "<Figure size 432x288 with 1 Axes>"
      ]
     },
     "metadata": {},
     "output_type": "display_data"
    }
   ],
   "source": [
    "G = nx.DiGraph()\n",
    "G.graph['dpi'] = 120\n",
    "\n",
    "nodes = ['X', 'Y', 'Z1', 'Z2']\n",
    "edges = [('Z1','Y'), ('Z2','Y'), ('X','Y')]\n",
    "nodes_pos = {'Z1':(-1, 1), 'Z2':(1, 1), 'X':(-1, -1), 'Y':(0, -3)}\n",
    "nodes_lbl = {'Z1':'D', 'Z2':'B', 'X':'L', 'Y':'V'}\n",
    "\n",
    "G.add_nodes_from(nodes)\n",
    "G.add_edges_from(edges)\n",
    "nx.draw(G,nodes_pos,node_size=800,node_color='white')\n",
    "_ = nx.draw_networkx_labels(G,nodes_pos,nodes_lbl)"
   ]
  },
  {
   "cell_type": "markdown",
   "id": "9a920017",
   "metadata": {},
   "source": [
    "and in standard causality notation:"
   ]
  },
  {
   "cell_type": "code",
   "execution_count": 26,
   "id": "db8c3a68",
   "metadata": {},
   "outputs": [
    {
     "data": {
      "image/png": "[encoded data removed]",
      "text/plain": [
       "<Figure size 432x288 with 1 Axes>"
      ]
     },
     "metadata": {},
     "output_type": "display_data"
    }
   ],
   "source": [
    "G = nx.DiGraph()\n",
    "G.graph['dpi'] = 120\n",
    "\n",
    "nodes = ['X', 'Y', 'Z1', 'Z2']\n",
    "edges = [('Z1','Y'), ('Z2','Y'), ('X','Y')]\n",
    "nodes_pos = {'Z1':(-1, 1), 'Z2':(0, 1), 'X':(-1, -1), 'Y':(0, -1)}\n",
    "nodes_lbl = {'Z1':'Z1', 'Z2':'Z2', 'X':'X', 'Y':'Y'}\n",
    "\n",
    "G.add_nodes_from(nodes)\n",
    "G.add_edges_from(edges)\n",
    "nx.draw(G,nodes_pos,node_size=800,node_color='white')\n",
    "_ = nx.draw_networkx_labels(G,nodes_pos,nodes_lbl)"
   ]
  },
  {
   "cell_type": "markdown",
   "id": "c7d27fa6",
   "metadata": {},
   "source": [
    "## Recap: Observational vs experimental results\n",
    "\n",
    "Through our graphical modelling we can explain the discrepancy between our results and the results collected by the state officials. Notice that this discrepancy can be maximized by the casino owner as shown in the *maximally greedy casino example* in the Appendix."
   ]
  },
  {
   "cell_type": "markdown",
   "id": "96e3a2b2",
   "metadata": {},
   "source": [
    "**What is the meaning of the observational results?**\n",
    "Our results were collected in an observational setting, that is a scenario in which *treatment* (lever) and *outcome* (victory) were confounded.\n",
    "\n",
    "What we observed was $P(Y=1 \\vert X=x)$, that is, what is the probability for a customer to go out of the casino with a reward in the natural setting, without us doing anything.\n",
    "\n",
    "**What is the meaning of the interventional results?**\n",
    "The results collected by the state officials came from an interventional setting; by requiring the players to choose a lever completely at random they broke the connection between the *confounders* (drunkedness, blinking) and *treatment* (lever). They then collected results form a world in which *treatment* (lever) and *outcome* (victory) are not confounded anymore.\n",
    "\n",
    "What they observed was $P(Y=1 \\vert do(X=x))$, that is, probability for a customer to go out of the casino with a reward if a certain choice is taken, or imposed, independently from any other factor."
   ]
  },
  {
   "cell_type": "markdown",
   "id": "df213b0d",
   "metadata": {},
   "source": [
    "**What is the point of performing an interventional study?**\n",
    "Notice that the interventional study makes perfect sense if the aim is to characterize the *causal* mechanism of the outcome $Y$ as a function of $X$. The state officials do indeed observe the *true* distribution of the reward as a simple function of the chosen lever: the average reward, for any choice of lever, is $0.3$, as we encoded in our program. The state officials recovered that value. So the actual *causal dynamics* between treatment and outcome is reconstructed. What is missed is the fact that, because of external factors, the distribution of choice of the lever has a particular distribution; and knowledge of the factors that affect this distribution are exploited by the casino managers to trick their customers. \n",
    "\n",
    "Indeed, from another perspective, we can explain the interventional study as a way to make the distribution for each $X=x$ identical: we do not want our assessment of the causal link $X\\rightarrow Y$ to be affected by a different distribution at different levels $X=x$. By making the population for each $X=x$ identical, we retrieve the *causal effect*, but we lose the fact that, because of such a difference, the proportion of players leaving the casino winning is lower than $0.3$."
   ]
  },
  {
   "cell_type": "markdown",
   "id": "87787c63",
   "metadata": {},
   "source": [
    "# Ungreedy casino\n",
    "\n",
    "The above scenario may suggest that the discrepancy behind the observational quantity and the interventional quantity *implies* in itself that something unethical is being done by the casino managers. However, the judgement of fairness does not necessarily proceeds from the numbers that we collected. Let's explore an alternative scenario. We will see that our conclusions have to be based on a graphical model, and, therefore, on our assumption on the role of confounders."
   ]
  },
  {
   "cell_type": "markdown",
   "id": "15266327",
   "metadata": {},
   "source": [
    "## Scenario\n",
    "\n",
    "After our unhappy experience at the greedy casino, we decide to move on to the nearby assuredly ungreedy casino.\n",
    "In this new gaming hall, it is guaranteed that rewards are selected randomly independently from any invasive analysis of the traits of the clients or any other environmental signal. However, it happens that drunk players normally opt for the unlucky lever; and it also happens that drunk players are more numerous that sober one.\n",
    "\n",
    "Formally, we still have a *2-armed bandits* problem: a machine (*bandit*) with two levers (*2-armed*); the choice ($X$) of the player is affected by drunkedness ($Z$); the outcome ($Y$) is affected only by the chosen lever. We can represent the scenario with the following graph:"
   ]
  },
  {
   "cell_type": "code",
   "execution_count": 27,
   "id": "e054f66d",
   "metadata": {},
   "outputs": [
    {
     "data": {
      "image/png": "[encoded data removed]",
      "text/plain": [
       "<Figure size 432x288 with 1 Axes>"
      ]
     },
     "metadata": {},
     "output_type": "display_data"
    }
   ],
   "source": [
    "G = nx.DiGraph()\n",
    "G.graph['dpi'] = 120\n",
    "\n",
    "nodes = ['X', 'Y', 'Z']\n",
    "edges = [('Z','X'), ('X','Y')]\n",
    "nodes_pos = {'Z':(-.7, 1), 'X':(-1, -1), 'Y':(0, -1)}\n",
    "nodes_lbl = {'Z':'Z', 'X':'X', 'Y':'Y'}\n",
    "\n",
    "G.add_nodes_from(nodes)\n",
    "G.add_edges_from(edges)\n",
    "nx.draw(G,nodes_pos,node_size=800,node_color='white')\n",
    "_ = nx.draw_networkx_labels(G,nodes_pos,nodes_lbl)"
   ]
  },
  {
   "cell_type": "markdown",
   "id": "8056aa9c",
   "metadata": {},
   "source": [
    "Again, we want to evaluate if the ungreedy casino complies with the legal prescription of having a winning percentage of at least $0.3$."
   ]
  },
  {
   "cell_type": "markdown",
   "id": "88cd3280",
   "metadata": {},
   "source": [
    "## Implementation\n",
    "\n",
    "We implement this scenario following the same structure we used for the greedy casino."
   ]
  },
  {
   "cell_type": "code",
   "execution_count": 28,
   "id": "59257854",
   "metadata": {},
   "outputs": [],
   "source": [
    "def random_select_drunkedness():\n",
    "    return np.random.binomial(1,p=.1)\n",
    "\n",
    "def random_select_reward():\n",
    "    return np.array([.2,.4])\n",
    "\n",
    "def observational_select_lever(drunkedness):\n",
    "    return drunkedness\n",
    "\n",
    "def interventional_select_lever():\n",
    "    return np.random.binomial(1,p=.5)\n",
    "    \n",
    "def play(lever,reward):\n",
    "    return np.random.binomial(1,reward[int(lever)])"
   ]
  },
  {
   "cell_type": "markdown",
   "id": "515ce51f",
   "metadata": {},
   "source": [
    "We have similarly named functions, but notice how arguments changed; in particular the *select_reward()* function (which has been aptly re-characterized as *random* instead of *sneaky*) receives no input, consistently with it having no incoming arrow in the graph above.  "
   ]
  },
  {
   "cell_type": "markdown",
   "id": "18c68bf0",
   "metadata": {},
   "source": [
    "## Observational study\n",
    "\n",
    "We can now perform an observational study as before:"
   ]
  },
  {
   "cell_type": "code",
   "execution_count": 29,
   "id": "a29d26de",
   "metadata": {},
   "outputs": [
    {
     "name": "stderr",
     "output_type": "stream",
     "text": [
      "100%|█████████████████████████████████| 10000/10000 [00:00<00:00, 271303.90it/s]"
     ]
    },
    {
     "name": "stdout",
     "output_type": "stream",
     "text": [
      "Probability of victory: 0.2155\n"
     ]
    },
    {
     "name": "stderr",
     "output_type": "stream",
     "text": [
      "\n"
     ]
    }
   ],
   "source": [
    "def run_observational_simulation(n_trials=n_trials):\n",
    "    \n",
    "    results = {'x': np.zeros(n_trials),\n",
    "               'z': np.zeros(n_trials),\n",
    "               'y': np.zeros(n_trials)}\n",
    "    \n",
    "    for i in tqdm(range(n_trials)):\n",
    "        drunkedness = random_select_drunkedness()\n",
    "        reward = random_select_reward()\n",
    "        lever = observational_select_lever(drunkedness)\n",
    "        victory = play(lever,reward)\n",
    "        \n",
    "        results['x'][i] = lever\n",
    "        results['z'][i] = drunkedness\n",
    "        results['y'][i] = victory\n",
    "    \n",
    "    return results\n",
    "\n",
    "res = run_observational_simulation()\n",
    "print('Probability of victory: {0}'.format(np.sum(res['y']==1) / len(res['y'])))"
   ]
  },
  {
   "cell_type": "markdown",
   "id": "aeb87086",
   "metadata": {},
   "source": [
    "## Experimental study\n",
    "\n",
    "Similarly, we can call over state officials to perform an interventional study:"
   ]
  },
  {
   "cell_type": "code",
   "execution_count": 30,
   "id": "b8bef510",
   "metadata": {},
   "outputs": [
    {
     "name": "stderr",
     "output_type": "stream",
     "text": [
      "100%|█████████████████████████████████| 10000/10000 [00:00<00:00, 205170.67it/s]"
     ]
    },
    {
     "name": "stdout",
     "output_type": "stream",
     "text": [
      "Probability of victory: 0.2923\n"
     ]
    },
    {
     "name": "stderr",
     "output_type": "stream",
     "text": [
      "\n"
     ]
    }
   ],
   "source": [
    "def run_interventional_simulation(n_trials=n_trials):\n",
    "    \n",
    "    results = {'x': np.zeros(n_trials),\n",
    "               'z': np.zeros(n_trials),\n",
    "               'y': np.zeros(n_trials)}\n",
    "    \n",
    "    for i in tqdm(range(n_trials)):\n",
    "        drunkedness = random_select_drunkedness()\n",
    "        reward = random_select_reward()\n",
    "        lever = interventional_select_lever()\n",
    "        victory = play(lever,reward)\n",
    "        \n",
    "        results['x'][i] = lever\n",
    "        results['z'][i] = drunkedness\n",
    "        results['y'][i] = victory\n",
    "    \n",
    "    return results\n",
    "\n",
    "res = run_interventional_simulation()\n",
    "print('Probability of victory: {0}'.format(np.sum(res['y']==1) / len(res['y'])))"
   ]
  },
  {
   "cell_type": "markdown",
   "id": "c5c1ec65",
   "metadata": {},
   "source": [
    "The results we obtained look very similar to the one we observed at the greedy casino: there is a gap between observational and interventional quantities that casts doubts on the casino, albeit notoriously ungreedy."
   ]
  },
  {
   "cell_type": "markdown",
   "id": "9434bb8a",
   "metadata": {},
   "source": [
    "## Recap: Fair vs unfair\n",
    "\n",
    "Let us try to compare and understand the results at the greedy and ungreedy casino.\n",
    "\n",
    "**Is the greedy casino unfair? How about the ungreedy casino?** Just looking at observational and interventional quantities seems impossible to distinguish between the greedy and the ungreedy casino, and thus cast a judgment about their fairness. An evaluation of fairness requires to understand how the discrepancy we observed is generated: in the greedy casino there is a sneaky function that takes (potentially illegal) advantage of side information, while in the ungreedy casino there is a purely random function that happens to combine positively (for the casino owner) with the state of the customers. Of course, it would be up to the owner of the ungreedy casino to prove that the random function is actually random and not intentionally set up to sneakily exploit previous knowledge about the distribution of customers.\n",
    "\n",
    "Such a fairness judgement, which relies on the assumption that the reward levels are independent from the behaviour and distribution of drunkedness, requires knowledge of the graph (or more refined interventional studies that may assess the existence and strength of the arrow $Z \\rightarrow Y$)."
   ]
  },
  {
   "cell_type": "markdown",
   "id": "7bf56ddc",
   "metadata": {},
   "source": [
    "# Effectiveness of a new medicine\n",
    "\n",
    "Let us now consider a very classic and basic *confounding* scenario."
   ]
  },
  {
   "cell_type": "markdown",
   "id": "7b5a3cac",
   "metadata": {},
   "source": [
    "## Scenario"
   ]
  },
  {
   "cell_type": "markdown",
   "id": "41a81327",
   "metadata": {},
   "source": [
    "We have seen above that the (observational) greedy casino scenario, stripped to its bare bones and reduced to a single confounder, may be represented by the following graph:"
   ]
  },
  {
   "cell_type": "code",
   "execution_count": 31,
   "id": "a50a6174",
   "metadata": {
    "scrolled": true
   },
   "outputs": [
    {
     "data": {
      "image/png": "[encoded data removed]",
      "text/plain": [
       "<Figure size 432x288 with 1 Axes>"
      ]
     },
     "metadata": {},
     "output_type": "display_data"
    }
   ],
   "source": [
    "G = nx.DiGraph()\n",
    "G.graph['dpi'] = 120\n",
    "\n",
    "nodes = ['X', 'Y', 'Z']\n",
    "edges = [('Z','X'), ('Z','Y'), ('X','Y')]\n",
    "nodes_pos = {'Z':(-.7, 1), 'X':(-1, -1), 'Y':(0, -1)}\n",
    "nodes_lbl = {'Z':'Z', 'X':'X', 'Y':'Y'}\n",
    "\n",
    "G.add_nodes_from(nodes)\n",
    "G.add_edges_from(edges)\n",
    "nx.draw(G,nodes_pos,node_size=800,node_color='white')\n",
    "_ = nx.draw_networkx_labels(G,nodes_pos,nodes_lbl)"
   ]
  },
  {
   "cell_type": "markdown",
   "id": "f028771e",
   "metadata": {},
   "source": [
    "where $X$ is the chosen lever, $Z$ is the level of drunkedness and blinking, and $Y$ is the outcome. We have also seen that observational and interventional studies provide different results, and we have provided an interpretation for their meaning."
   ]
  },
  {
   "cell_type": "markdown",
   "id": "28ff460f",
   "metadata": {},
   "source": [
    "The above graph is also a very common model for the study of the causal relationship of a treatment ($X$) on an outcome ($Y$). In the medical and pharmacological field, we would read $X$ as the provision of a medicine, $Z$ as a set of external factors affecting treatment and outcome (e.g.: socio-economic status), and $Y$ as the possible recovery. \n",
    "From the causal literature we also know that performing an interventional study is a golden standard to assess the effectiveness of a medicine."
   ]
  },
  {
   "cell_type": "markdown",
   "id": "daaf9fa6",
   "metadata": {},
   "source": [
    "We will treat this problem formally as an instance of a *2-arms bandit* in which there are only two alternatives (*2-arms*) with respect to the medicine $X$. "
   ]
  },
  {
   "cell_type": "markdown",
   "id": "52ee6779",
   "metadata": {},
   "source": [
    "## Implementation\n",
    "\n",
    "Let us take again a computational approach and build a simulation of our medical scenario. For simplicity we will consider a binary medicine treatment $X$ (0: *medicine A*, 1: *medicine B*), a binary socio-economic status $Z$ (0: *low*, 1: *high*) and a binary outcome (0: *death*, 1: *recovery*)."
   ]
  },
  {
   "cell_type": "code",
   "execution_count": 32,
   "id": "82d8e07d",
   "metadata": {},
   "outputs": [],
   "source": [
    "def SEstatus():\n",
    "    return np.random.binomial(1,p=.5)\n",
    "\n",
    "def recovery(medicine,status):\n",
    "    if status==0:\n",
    "        if medicine==0:\n",
    "            return np.random.binomial(1,.4)\n",
    "        else:\n",
    "            return np.random.binomial(1,.25)\n",
    "    else:\n",
    "        if medicine==0:\n",
    "            return np.random.binomial(1,.4)\n",
    "        else:\n",
    "            return np.random.binomial(1,.45)"
   ]
  },
  {
   "cell_type": "markdown",
   "id": "2c322b93",
   "metadata": {},
   "source": [
    "In this implementation the single function for our socio-economic status replaces the greedy casino functions *random_select_blinking()* and *random_select_drunkedness()*, while the outcome function integrates the previous functions *sneaky_select_reward()* and *play()*.\n",
    "\n",
    "Notice how in our definition the effectiveness of medicine A is $0.4=\\frac{0.4+0.4}{2}$ while the effectiveness of medicine B is $0.35=\\frac{0.25+0.45}{2}$."
   ]
  },
  {
   "cell_type": "markdown",
   "id": "7cb91819",
   "metadata": {},
   "source": [
    "## Observational study\n",
    "\n",
    "Suppose we perform an observational study. As the socio-economic status confounds the choice of the medicine and its outcome, we define the following function:"
   ]
  },
  {
   "cell_type": "code",
   "execution_count": 33,
   "id": "c4146136",
   "metadata": {},
   "outputs": [],
   "source": [
    "def observational_medicine(status):\n",
    "    if status==0:\n",
    "        return np.random.binomial(1,.1)\n",
    "    else:\n",
    "        return np.random.binomial(1,.9)"
   ]
  },
  {
   "cell_type": "markdown",
   "id": "6453b56b",
   "metadata": {},
   "source": [
    "This function specifies that patients from the low socio-economic background are much more likely to select medicine A, while patients from the high socio-economic background are much more likely to select medicine B."
   ]
  },
  {
   "cell_type": "markdown",
   "id": "70fa524d",
   "metadata": {},
   "source": [
    "Let us now bring all our functions together and collect a set of *observations*."
   ]
  },
  {
   "cell_type": "code",
   "execution_count": 34,
   "id": "3fb2675a",
   "metadata": {},
   "outputs": [],
   "source": [
    "def run_observational_simulation(n_trials=n_trials):\n",
    "    \n",
    "    results = {'x': np.zeros(n_trials),\n",
    "               'z': np.zeros(n_trials),\n",
    "               'y': np.zeros(n_trials)}\n",
    "    \n",
    "    for i in tqdm(range(n_trials)):\n",
    "        status = SEstatus()\n",
    "        medicine = observational_medicine(status)            \n",
    "        outcome = recovery(medicine,status)\n",
    "        \n",
    "        results['x'][i] = medicine\n",
    "        results['z'][i] = status\n",
    "        results['y'][i] = outcome\n",
    "    \n",
    "    return results"
   ]
  },
  {
   "cell_type": "code",
   "execution_count": 35,
   "id": "6da3e1b4",
   "metadata": {},
   "outputs": [
    {
     "name": "stderr",
     "output_type": "stream",
     "text": [
      "100%|█████████████████████████████████| 10000/10000 [00:00<00:00, 228369.57it/s]\n"
     ]
    }
   ],
   "source": [
    "obs_res = run_observational_simulation()"
   ]
  },
  {
   "cell_type": "markdown",
   "id": "a55d365b",
   "metadata": {},
   "source": [
    "Let us estimate the effectiveness of a medicine as the probability of leading to survival by computing $P(Y=1 \\vert X=0)$ and $P(Y=1 \\vert X=1)$."
   ]
  },
  {
   "cell_type": "code",
   "execution_count": 36,
   "id": "05e2f6c2",
   "metadata": {},
   "outputs": [
    {
     "name": "stdout",
     "output_type": "stream",
     "text": [
      "Probability of recovery given medicine A: 0.3997200559888022\n"
     ]
    }
   ],
   "source": [
    "n_recovery_medicineA = np.sum(obs_res['y'][obs_res['x']==0])\n",
    "n_medicineA = np.sum(obs_res['x']==0)\n",
    "\n",
    "print('Probability of recovery given medicine A: {0}'.format(n_recovery_medicineA / n_medicineA))"
   ]
  },
  {
   "cell_type": "code",
   "execution_count": 37,
   "id": "cd268ca5",
   "metadata": {},
   "outputs": [
    {
     "name": "stdout",
     "output_type": "stream",
     "text": [
      "Probability of recovery given medicine B: 0.4282856571314263\n"
     ]
    }
   ],
   "source": [
    "n_recovery_medicineB = np.sum(obs_res['y'][obs_res['x']==1])\n",
    "n_medicineB = np.sum(obs_res['x']==1)\n",
    "\n",
    "print('Probability of recovery given medicine B: {0}'.format(n_recovery_medicineB / n_medicineB))"
   ]
  },
  {
   "cell_type": "markdown",
   "id": "4d113fb8",
   "metadata": {},
   "source": [
    "It would seem that medicine B is more effective than A, when we have actually encoded that medicine A had a higher chance to lead to survival!"
   ]
  },
  {
   "cell_type": "markdown",
   "id": "38c75923",
   "metadata": {},
   "source": [
    "## Experimental study\n",
    "\n",
    "Let us now perform an interventional study, as taught in the medical literature. Each patient is now unable to choose which medicine she wants, but is instead forced to assume a random medicine. This randomization severs the link between socio-economic status and the choice of medicine, thus eliminating the confounding."
   ]
  },
  {
   "cell_type": "markdown",
   "id": "77b482ad",
   "metadata": {},
   "source": [
    "Practically, we will define an experimental scenario that can be described by the graph below:"
   ]
  },
  {
   "cell_type": "code",
   "execution_count": 38,
   "id": "033be7d3",
   "metadata": {
    "scrolled": true
   },
   "outputs": [
    {
     "data": {
      "image/png": "[encoded data removed]",
      "text/plain": [
       "<Figure size 432x288 with 1 Axes>"
      ]
     },
     "metadata": {},
     "output_type": "display_data"
    }
   ],
   "source": [
    "G = nx.DiGraph()\n",
    "G.graph['dpi'] = 120\n",
    "\n",
    "nodes = ['X', 'Y', 'Z']\n",
    "edges = [('Z','Y'), ('X','Y')]\n",
    "nodes_pos = {'Z':(-.7, 1), 'X':(-1, -1), 'Y':(0, -1)}\n",
    "nodes_lbl = {'Z':'Z', 'X':'X', 'Y':'Y'}\n",
    "\n",
    "G.add_nodes_from(nodes)\n",
    "G.add_edges_from(edges)\n",
    "nx.draw(G,nodes_pos,node_size=800,node_color='white')\n",
    "_ = nx.draw_networkx_labels(G,nodes_pos,nodes_lbl)"
   ]
  },
  {
   "cell_type": "markdown",
   "id": "aaeb32de",
   "metadata": {},
   "source": [
    "Let us then define a function randomly assigning a medicine to a patient:"
   ]
  },
  {
   "cell_type": "code",
   "execution_count": 39,
   "id": "966f261a",
   "metadata": {},
   "outputs": [],
   "source": [
    "def interventional_medicine():\n",
    "    return np.random.binomial(1,.5)"
   ]
  },
  {
   "cell_type": "markdown",
   "id": "2086f854",
   "metadata": {},
   "source": [
    "And now we setup the loop to collect a set of *interventions*."
   ]
  },
  {
   "cell_type": "code",
   "execution_count": 40,
   "id": "d7500592",
   "metadata": {},
   "outputs": [],
   "source": [
    "def run_interventional_simulation(n_trials=n_trials):\n",
    "    \n",
    "    results = {'x': np.zeros(n_trials),\n",
    "               'z': np.zeros(n_trials),\n",
    "               'y': np.zeros(n_trials)}\n",
    "    \n",
    "    for i in tqdm(range(n_trials)):\n",
    "        status = SEstatus()\n",
    "        medicine = interventional_medicine()            \n",
    "        outcome = recovery(medicine,status)\n",
    "        \n",
    "        results['x'][i] = medicine\n",
    "        results['z'][i] = status\n",
    "        results['y'][i] = outcome\n",
    "    \n",
    "    return results"
   ]
  },
  {
   "cell_type": "code",
   "execution_count": 41,
   "id": "6aedc59e",
   "metadata": {},
   "outputs": [
    {
     "name": "stderr",
     "output_type": "stream",
     "text": [
      "100%|█████████████████████████████████| 10000/10000 [00:00<00:00, 234131.62it/s]\n"
     ]
    }
   ],
   "source": [
    "int_res = run_interventional_simulation()"
   ]
  },
  {
   "cell_type": "markdown",
   "id": "f297be03",
   "metadata": {},
   "source": [
    "Let us estimate the effectiveness of a medicine as the probability of leading to survival by computing $P(Y=1 \\vert do(X=0))$ and $P(Y=1 \\vert do(X=1))$."
   ]
  },
  {
   "cell_type": "code",
   "execution_count": 42,
   "id": "de0e029b",
   "metadata": {},
   "outputs": [
    {
     "name": "stdout",
     "output_type": "stream",
     "text": [
      "Probability of recovery acting on medicine A: 0.411611088790679\n"
     ]
    }
   ],
   "source": [
    "n_recovery_medicineA = np.sum(int_res['y'][int_res['x']==0])\n",
    "n_medicineA = np.sum(int_res['x']==0)\n",
    "\n",
    "print('Probability of recovery acting on medicine A: {0}'.format(n_recovery_medicineA / n_medicineA))"
   ]
  },
  {
   "cell_type": "code",
   "execution_count": 43,
   "id": "f1224a8c",
   "metadata": {},
   "outputs": [
    {
     "name": "stdout",
     "output_type": "stream",
     "text": [
      "Probability of recovery acting on medicine B: 0.35663082437275984\n"
     ]
    }
   ],
   "source": [
    "n_recovery_medicineB = np.sum(int_res['y'][int_res['x']==1])\n",
    "n_medicineB = np.sum(int_res['x']==1)\n",
    "\n",
    "print('Probability of recovery acting on medicine B: {0}'.format(n_recovery_medicineB / n_medicineB))"
   ]
  },
  {
   "cell_type": "markdown",
   "id": "f0fcab2a",
   "metadata": {},
   "source": [
    "We have now obtained a better estimation of the effectiveness of the medicines; in particular, we have that medicine A is more effective than medicine B, as we would expect."
   ]
  },
  {
   "cell_type": "markdown",
   "id": "f7981ab3",
   "metadata": {},
   "source": [
    "## Do-calculus study\n",
    "\n",
    "Suppose we could not perform (for legal or ethical reasons) experiments. Given our observational causal model, we could still estimate the interventional quantity of interest using *do-calculus*. Knowing that the causal graph is:"
   ]
  },
  {
   "cell_type": "code",
   "execution_count": 44,
   "id": "11a98b74",
   "metadata": {
    "scrolled": true
   },
   "outputs": [
    {
     "data": {
      "image/png": "[encoded data removed]",
      "text/plain": [
       "<Figure size 432x288 with 1 Axes>"
      ]
     },
     "metadata": {},
     "output_type": "display_data"
    }
   ],
   "source": [
    "G = nx.DiGraph()\n",
    "G.graph['dpi'] = 120\n",
    "\n",
    "nodes = ['X', 'Y', 'Z']\n",
    "edges = [('Z','X'), ('Z','Y'), ('X','Y')]\n",
    "nodes_pos = {'Z':(-.7, 1), 'X':(-1, -1), 'Y':(0, -1)}\n",
    "nodes_lbl = {'Z':'Z', 'X':'X', 'Y':'Y'}\n",
    "\n",
    "G.add_nodes_from(nodes)\n",
    "G.add_edges_from(edges)\n",
    "nx.draw(G,nodes_pos,node_size=800,node_color='white')\n",
    "_ = nx.draw_networkx_labels(G,nodes_pos,nodes_lbl)"
   ]
  },
  {
   "cell_type": "markdown",
   "id": "9769de68",
   "metadata": {},
   "source": [
    "Then *do-calculus* teaches us that we can estimate:\n",
    "$$\n",
    "P(Y=1 \\vert do(X=x)) = \\sum_Z P(Y=1 \\vert X,Z)P(Z).\n",
    "$$\n",
    "Let us verify this on our simulation. We decompose the formula as:\n",
    "$$\n",
    "P(Y=1 \\vert do(X=x)) = \\sum_Z \\frac{P(Y=1,X,Z)}{P(X,Z)}P(Z).\n",
    "$$"
   ]
  },
  {
   "cell_type": "code",
   "execution_count": 45,
   "id": "0fd892d1",
   "metadata": {},
   "outputs": [
    {
     "name": "stdout",
     "output_type": "stream",
     "text": [
      "Probability of recovery acting on medicine A: 0.4160700690220282\n",
      "Probability of recovery acting on medicine B: 0.3477268345864935\n"
     ]
    }
   ],
   "source": [
    "P_z0 = np.sum(obs_res['z']==0) / len(obs_res['z'])\n",
    "P_z1 = np.sum(obs_res['z']==1) / len(obs_res['z'])\n",
    "\n",
    "P_y1x0z0 = np.sum(np.logical_and(obs_res['y']==1, np.logical_and(obs_res['x']==0,obs_res['z']==0)))\n",
    "P_y1x0z1 = np.sum(np.logical_and(obs_res['y']==1, np.logical_and(obs_res['x']==0,obs_res['z']==1)))\n",
    "P_y1x1z0 = np.sum(np.logical_and(obs_res['y']==1, np.logical_and(obs_res['x']==1,obs_res['z']==0)))\n",
    "P_y1x1z1 = np.sum(np.logical_and(obs_res['y']==1, np.logical_and(obs_res['x']==1,obs_res['z']==1)))\n",
    "\n",
    "P_x0z0 = np.sum(np.logical_and(obs_res['x']==0,obs_res['z']==0))\n",
    "P_x0z1 = np.sum(np.logical_and(obs_res['x']==0,obs_res['z']==1))\n",
    "P_x1z0 = np.sum(np.logical_and(obs_res['x']==1,obs_res['z']==0))\n",
    "P_x1z1 = np.sum(np.logical_and(obs_res['x']==1,obs_res['z']==1))\n",
    "\n",
    "P_y1_givenx0z0 = P_y1x0z0 / P_x0z0\n",
    "P_y1_givenx0z1 = P_y1x0z1 / P_x0z1\n",
    "P_y1_givenx1z0 = P_y1x1z0 / P_x1z0\n",
    "P_y1_givenx1z1 = P_y1x1z1 / P_x1z1\n",
    "\n",
    "P_y1_dox0 = P_z0 * P_y1_givenx0z0 + P_z1 * P_y1_givenx0z1\n",
    "P_y1_dox1 = P_z0 * P_y1_givenx1z0 + P_z1 * P_y1_givenx1z1\n",
    "\n",
    "print('Probability of recovery acting on medicine A: {0}'.format(P_y1_dox0))\n",
    "print('Probability of recovery acting on medicine B: {0}'.format(P_y1_dox1))"
   ]
  },
  {
   "cell_type": "markdown",
   "id": "ecaac949",
   "metadata": {},
   "source": [
    "We indeed obtain a result very close to the actual experiments without performing any invasive intervention, but using only observational data together with knowledge of the underlying causal model."
   ]
  },
  {
   "cell_type": "markdown",
   "id": "2b1d9a0e",
   "metadata": {},
   "source": [
    "## Recap: Observational vs experimental results\n",
    "\n",
    "Let us try again to explain the discrepancy between observational and interventional results, now in the context of the scenario of evaluating a new medicine."
   ]
  },
  {
   "cell_type": "markdown",
   "id": "dd885f7c",
   "metadata": {},
   "source": [
    "**What is the meaning of the observational results?**\n",
    "In the observational scenario we observed $P(Y \\vert X=x)$, that is, the probability of a patient to recover by letting her choose the medicine. \n",
    "\n",
    "Now it happens that patients with a low socio-economic background tendentially choose medicine A (maybe because it is cheaper), while patients with a high socio-economic background normally opt for a medicine B (maybe because of advertisement). It also happens that the recovery rate of patients with a high socio-economic background is in general higher than that of patients with a low socio-economic background (maybe because of a richer diet). This higher base rate, combined with a predilection for medicine B, makes medicine B look more effective. \n",
    "\n",
    "**What is the meaning of the interventional results?**\n",
    "In the interventional scenario we observed $P(Y \\vert do(X=x))$, that is, the probability of a patient to recover by forcing her to assume a randomly-selected medicine.\n",
    "\n",
    "Through randomization we break the association between low socio-economic background and medicine A, and high socio-economic background and medicine B. This allows us to probe the mechanism of recovery without the bias introduced by the confounder. And in this way we recover the actual effectiveness of the two treatments, leading us to conclude that, independently from external factors, medicine A is *on average* more effective than medicine B.\n",
    "\n",
    "We have also shown that, if randomization is not possible, we could be able to reconstruct interventional results from observational data given the underlying causal model and relying on do-calculus."
   ]
  },
  {
   "cell_type": "markdown",
   "id": "38443c6d",
   "metadata": {},
   "source": [
    "## Recap: Casino vs medicines\n",
    "\n",
    "It is worth pointing out that, in the scenarios above, while we are always struggling with confounders in an identical model, we are trying to answer different questions:\n",
    "\n",
    "- In the *greedy casino* scenario we can probably phrase our problem in terms of **fairness** or **law**. However, such a question may be presented in two different forms:\n",
    "    - Do we care about the proportion of actual customer leaving the building after having won? Then we should look at $P(Y)$ in our model;\n",
    "    - Do we care that the mechanism (and only one mechanism) in place within the machine generates victories with a certain probability? Then we should look at $P(Y\\vert do(X=x))$ in our model.\n",
    "\n",
    "In the casino case, the state officials are probably concerned not only with the *absolute* causal effect of the lever. State officials should probably be concerned with how the discrepancy with the observational distribution is generated and whether something unlawful is in place to induce it (thus determining if the casino is greedy or ungreedy).\n",
    "    \n",
    "- In the *new medicine* scenario we can probably phrase our problem in terms of **effectiveness** or **ethics**: \n",
    "    - Having to make a decision for the patient and assuming we have no other knowledge, which medicine is the most likely to lead to survival? Then we should look at $P(Y\\vert do(X=x))$.\n",
    "    \n",
    "In the medical case, the doctor wants to be certain of the *absolute* causal effect of the medicine. Independently from whether the medicine will be prescribed, whether the patient will choose it, or whether the state will approve it, we want to know if the medicine is effective against a certain disease, and thus more likely to cause a recovery."
   ]
  },
  {
   "cell_type": "markdown",
   "id": "858c10bd",
   "metadata": {},
   "source": [
    "# Policymaking for a new medicine\n",
    "\n",
    "Let us develop further our example about the development of a new medicine."
   ]
  },
  {
   "cell_type": "markdown",
   "id": "ad33b163",
   "metadata": {},
   "source": [
    "## Scenario\n",
    "\n",
    "Let us consider the same scenario we have worked on before. Having shown that medicine A is more effective than medicine B, we may wonder whether this could justify policymaking in favor of a legal adoption of medicine A. To evaluate this point let us run further simulations.\n",
    "\n",
    "Let us assume that two different teams conducted the observational and the interventional study we performed above. Let us further imagine that they go on enforcing a medical protocol that always provide the medicine with highest effectiveness."
   ]
  },
  {
   "cell_type": "markdown",
   "id": "d7999915",
   "metadata": {},
   "source": [
    "## Policymaking study\n",
    "\n",
    "Let us start with the observational team. Observing that medicine B seems more effective, they will make every patient use medicine B. Let us compute the recovery rate $P(Y=1\\vert \\pi_B)$, where $\\pi_B$ is the policy that always enforces $do(X=1)$."
   ]
  },
  {
   "cell_type": "code",
   "execution_count": 46,
   "id": "ce4fdcba",
   "metadata": {},
   "outputs": [],
   "source": [
    "def interventional_medicine():\n",
    "    return 1"
   ]
  },
  {
   "cell_type": "code",
   "execution_count": 47,
   "id": "67da1b25",
   "metadata": {},
   "outputs": [
    {
     "name": "stderr",
     "output_type": "stream",
     "text": [
      "100%|█████████████████████████████████| 10000/10000 [00:00<00:00, 321989.84it/s]\n"
     ]
    }
   ],
   "source": [
    "int_res = run_interventional_simulation()"
   ]
  },
  {
   "cell_type": "code",
   "execution_count": 48,
   "id": "fc77832c",
   "metadata": {},
   "outputs": [
    {
     "name": "stdout",
     "output_type": "stream",
     "text": [
      "Probability of recovery for policy A: 0.3581\n"
     ]
    }
   ],
   "source": [
    "print('Probability of recovery for policy A: {0}'.format(np.sum(int_res['y']==1) / len(int_res['y'])))"
   ]
  },
  {
   "cell_type": "markdown",
   "id": "12dc01f9",
   "metadata": {},
   "source": [
    "Let us now move to the interventional team. Based on their estimation, they will instead make every patient assume medicine A. Let us compute the recovery rate that in their case, that is, $P(Y=1\\vert \\pi_A)$, where $\\pi_A$ is the policy that always enforces $do(X=0)$."
   ]
  },
  {
   "cell_type": "code",
   "execution_count": 49,
   "id": "97734f37",
   "metadata": {},
   "outputs": [],
   "source": [
    "def interventional_medicine():\n",
    "    return 0"
   ]
  },
  {
   "cell_type": "code",
   "execution_count": 50,
   "id": "3d483b38",
   "metadata": {},
   "outputs": [
    {
     "name": "stderr",
     "output_type": "stream",
     "text": [
      "100%|█████████████████████████████████| 10000/10000 [00:00<00:00, 324981.13it/s]\n"
     ]
    }
   ],
   "source": [
    "int_res = run_interventional_simulation()"
   ]
  },
  {
   "cell_type": "code",
   "execution_count": 51,
   "id": "9ec97886",
   "metadata": {},
   "outputs": [
    {
     "name": "stdout",
     "output_type": "stream",
     "text": [
      "Probability of recovery for policy B: 0.401\n"
     ]
    }
   ],
   "source": [
    "print('Probability of recovery for policy B: {0}'.format(np.sum(int_res['y']==1) / len(int_res['y'])))"
   ]
  },
  {
   "cell_type": "markdown",
   "id": "3eac7ed5",
   "metadata": {},
   "source": [
    "The interventional team achieved, as expected, a higher recovery rate.\n",
    "\n",
    "Is that the best solution? It actually happens that if we let things go as they were naturally going without interventions we would have a higher recovery rate; let us compute $P(Y=1\\vert \\pi_\\emptyset)$, where $\\pi_\\emptyset$ is a null-policy that reduces to observation $P(Y=1)$."
   ]
  },
  {
   "cell_type": "code",
   "execution_count": 52,
   "id": "6a50d28b",
   "metadata": {
    "scrolled": true
   },
   "outputs": [
    {
     "name": "stderr",
     "output_type": "stream",
     "text": [
      "100%|█████████████████████████████████| 10000/10000 [00:00<00:00, 229693.98it/s]\n"
     ]
    }
   ],
   "source": [
    "obs_res = run_observational_simulation()"
   ]
  },
  {
   "cell_type": "code",
   "execution_count": 53,
   "id": "8e255032",
   "metadata": {},
   "outputs": [
    {
     "name": "stdout",
     "output_type": "stream",
     "text": [
      "Probability of recovery for no policy: 0.4111\n"
     ]
    }
   ],
   "source": [
    "print('Probability of recovery for no policy: {0}'.format(np.sum(obs_res['y']==1) / len(obs_res['y'])))"
   ]
  },
  {
   "cell_type": "markdown",
   "id": "a47f9e60",
   "metadata": {},
   "source": [
    "The better result is due to the fact that the patients left to their own devices select a medicine that happens to work better given their own state. However, it is important to explain *happens*: confounders led the patients to make a better choice than any interventional protocol. This, of course, is not always the case: in other scenarios it may well happen that patients left to their own devices make sub-optimal choices, and that an interventional policy would produce better results."
   ]
  },
  {
   "cell_type": "markdown",
   "id": "beb0182a",
   "metadata": {},
   "source": [
    "## Recap: Intervening vs policymaking\n",
    "\n",
    "The result of the above simulations may not be intuitive, so let's try to explain them further."
   ]
  },
  {
   "cell_type": "markdown",
   "id": "bea16446",
   "metadata": {},
   "source": [
    "**What is the meaning of the studies we carried out related to policymaking?** Our studies allowed us to evaluate out system under different conditions:\n",
    "- *Observational study*: this study evaluated the system when all confounders are in place; no intervention is performed; what we learn is the statistical relation between a medicine ($X$) and an outcome ($Y$). This knowledge is good for prediction in a *natural setting*, but it does not provide information on how our intervening would interact with the confounders.\n",
    "- *Interventional study*: this study evaluated the system when all the relevant confounders have been disconnected from the treatment; what we learn is the actual causal relation between a medicine ($X$) and an outcome ($Y$). This knowledge is good for understanding how $Y$ is affected by an intervention on $X$, *ceteribus paribus*; however, it does not provide information on how our intervening would interact with the confounders (that is when the *ceteribus paribus* condition does not hold)."
   ]
  },
  {
   "cell_type": "markdown",
   "id": "b48aa8d5",
   "metadata": {},
   "source": [
    "**Should we intervene or not?** Performing an intervenional study allowed us to find which medicine is, on average, more effective. This finding however may not immediately justify the adoption of a medicine instead of another (medicine A over medicine B). \n",
    "\n",
    "In the real-world, when we deal with actual confounders, we care about how the outcome ($Y$) is affected not only by the causal power of the new medicine ($X$), but also by the causal power derived from interactions between the medicine itself and the confounders ($Z$).\n",
    "\n",
    "Thus an interventional study can not guarantee that, once we take into account confounding factors, a different interventional policy or a purely observational policy would not produce a higher recovery rate."
   ]
  },
  {
   "cell_type": "markdown",
   "id": "f07f68bc",
   "metadata": {},
   "source": [
    "## CATE study\n",
    "\n",
    "Ideally the best policy would be an individualized policy that does not rely simply on the *average treatment effect* (ATE) of the medicine. More refined policies taking into account external factors may achieve better results than a blanket interventional policy ($\\pi_A, \\pi_B$) or a blind observational no-intervention policy ($\\pi_\\emptyset$). One first option is relying on the *conditional average treatment effect* (CATE), computed by considering features correlated to an unobserved confounder. This could allow us to tailor more effective policies.\n",
    "\n",
    "Let us consider the medicine scenario again, where outcomes are confounded by the unobserved *socio-economic status* ($Z$). Let us now assume that we can observe a variable *income* ($W$) which is observable and highly correlated with *socio-economic status*."
   ]
  },
  {
   "cell_type": "markdown",
   "id": "dbbd2df8",
   "metadata": {},
   "source": [
    "We implement our new observable in the following function:"
   ]
  },
  {
   "cell_type": "code",
   "execution_count": 54,
   "id": "3626b9e5",
   "metadata": {},
   "outputs": [],
   "source": [
    "def income(status):\n",
    "    if status==0:\n",
    "        return np.random.binomial(1,.1)\n",
    "    else:\n",
    "        return np.random.binomial(1,.9)"
   ]
  },
  {
   "cell_type": "markdown",
   "id": "81f422ff",
   "metadata": {},
   "source": [
    "Simply put, *income()* provides us with the value of socio-economic status with a probability of $0.9$. The model underlying our new interventional model has the following form:"
   ]
  },
  {
   "cell_type": "code",
   "execution_count": 55,
   "id": "42d3ab58",
   "metadata": {
    "scrolled": true
   },
   "outputs": [
    {
     "data": {
      "image/png": "[encoded data removed]",
      "text/plain": [
       "<Figure size 432x288 with 1 Axes>"
      ]
     },
     "metadata": {},
     "output_type": "display_data"
    }
   ],
   "source": [
    "G = nx.DiGraph()\n",
    "G.graph['dpi'] = 120\n",
    "\n",
    "nodes = ['X', 'Y', 'Z', 'W']\n",
    "edges = [('Z','Y'), ('X','Y'), ('Z','W')]\n",
    "nodes_pos = {'Z':(-.7, 1), 'X':(-1, -1), 'Y':(0, -1), 'W':(0, 1)}\n",
    "nodes_lbl = {'Z':'Z', 'X':'X', 'Y':'Y', 'W':'W'}\n",
    "\n",
    "G.add_nodes_from(nodes)\n",
    "G.add_edges_from(edges)\n",
    "nx.draw(G,nodes_pos,node_size=800,node_color='white')\n",
    "_ = nx.draw_networkx_labels(G,nodes_pos,nodes_lbl)"
   ]
  },
  {
   "cell_type": "markdown",
   "id": "f720075b",
   "metadata": {},
   "source": [
    "Let us now run interventional simulations and estimate some *CATE* quantities."
   ]
  },
  {
   "cell_type": "code",
   "execution_count": 56,
   "id": "0faa7b64",
   "metadata": {},
   "outputs": [],
   "source": [
    "def run_CATE_simulation(n_trials=n_trials):\n",
    "    \n",
    "    results = {'x': np.zeros(n_trials),\n",
    "               'z': np.zeros(n_trials),\n",
    "               'y': np.zeros(n_trials),\n",
    "               'w': np.zeros(n_trials)}\n",
    "    \n",
    "    for i in tqdm(range(n_trials)):\n",
    "        status = SEstatus()\n",
    "        proxy = income(status)\n",
    "        medicine = interventional_medicine()            \n",
    "        outcome = recovery(medicine,status)\n",
    "        \n",
    "        results['x'][i] = medicine\n",
    "        results['z'][i] = status\n",
    "        results['y'][i] = outcome\n",
    "        results['w'][i] = proxy\n",
    "    \n",
    "    return results"
   ]
  },
  {
   "cell_type": "markdown",
   "id": "6d5d801f",
   "metadata": {},
   "source": [
    "We start by considering the intervention $do(X=0)$."
   ]
  },
  {
   "cell_type": "code",
   "execution_count": 57,
   "id": "4ef717b6",
   "metadata": {},
   "outputs": [],
   "source": [
    "def interventional_medicine():\n",
    "    return 0"
   ]
  },
  {
   "cell_type": "markdown",
   "id": "7cdc1b00",
   "metadata": {},
   "source": [
    "We collect our samples."
   ]
  },
  {
   "cell_type": "code",
   "execution_count": 58,
   "id": "f47d991c",
   "metadata": {},
   "outputs": [
    {
     "name": "stderr",
     "output_type": "stream",
     "text": [
      "100%|█████████████████████████████████| 10000/10000 [00:00<00:00, 218756.40it/s]\n"
     ]
    }
   ],
   "source": [
    "cate_res = run_CATE_simulation()"
   ]
  },
  {
   "cell_type": "markdown",
   "id": "cf1c37b1",
   "metadata": {},
   "source": [
    "As before we can simply estimate the probability of recovery $P(Y\\vert do(X=0))$:"
   ]
  },
  {
   "cell_type": "code",
   "execution_count": 59,
   "id": "ea377f4e",
   "metadata": {},
   "outputs": [
    {
     "name": "stdout",
     "output_type": "stream",
     "text": [
      "Probability of recovery acting on medicine A: 0.4069\n"
     ]
    }
   ],
   "source": [
    "P_doX0 = np.sum(cate_res['y']==1) / len(cate_res['y'])\n",
    "print('Probability of recovery acting on medicine A: {0}'.format(P_doX0))"
   ]
  },
  {
   "cell_type": "markdown",
   "id": "ef4bee56",
   "metadata": {},
   "source": [
    "However, we are now interested in estimating how this probability varies conditioned on the income variable, which acts as a proxy for socio-economic status. We estimate first $P(Y\\vert do(X=0),W=0)$:"
   ]
  },
  {
   "cell_type": "code",
   "execution_count": 60,
   "id": "4934d152",
   "metadata": {},
   "outputs": [
    {
     "name": "stdout",
     "output_type": "stream",
     "text": [
      "Probability of recovery acting on medicine A given income 0: 0.41284403669724773\n"
     ]
    }
   ],
   "source": [
    "P_doX0_givenW0 = np.sum(np.logical_and(cate_res['y']==1,cate_res['w']==0)) / np.sum(cate_res['w']==0)\n",
    "print('Probability of recovery acting on medicine A given income 0: {0}'.format(P_doX0_givenW0))"
   ]
  },
  {
   "cell_type": "markdown",
   "id": "11d1ba58",
   "metadata": {},
   "source": [
    "And then $P(Y\\vert do(X=0),W=1)$:"
   ]
  },
  {
   "cell_type": "code",
   "execution_count": 61,
   "id": "70106a4f",
   "metadata": {},
   "outputs": [
    {
     "name": "stdout",
     "output_type": "stream",
     "text": [
      "Probability of recovery acting on medicine A given income 1: 0.4009225832330525\n"
     ]
    }
   ],
   "source": [
    "P_doX0_givenW1 = np.sum(np.logical_and(cate_res['y']==1,cate_res['w']==1)) / np.sum(cate_res['w']==1)\n",
    "print('Probability of recovery acting on medicine A given income 1: {0}'.format(P_doX0_givenW1))"
   ]
  },
  {
   "cell_type": "markdown",
   "id": "da22045f",
   "metadata": {},
   "source": [
    "Notice that these values are close to the ground truth of $0.4$ that we encoded both for the high and low socio-economic status. Deviations are partly explained by our noisy proxy which agrees with the unobserved confounders only with probability $0.9$."
   ]
  },
  {
   "cell_type": "markdown",
   "id": "5358bbb6",
   "metadata": {},
   "source": [
    "Let us then move to considering the intervention $do(X=1)$:"
   ]
  },
  {
   "cell_type": "code",
   "execution_count": 62,
   "id": "35c44fb3",
   "metadata": {},
   "outputs": [],
   "source": [
    "def interventional_medicine():\n",
    "    return 1"
   ]
  },
  {
   "cell_type": "markdown",
   "id": "e41f16a8",
   "metadata": {},
   "source": [
    "We collect samples for this interventional setting as well:"
   ]
  },
  {
   "cell_type": "code",
   "execution_count": 63,
   "id": "e201e4c1",
   "metadata": {
    "scrolled": true
   },
   "outputs": [
    {
     "name": "stderr",
     "output_type": "stream",
     "text": [
      "100%|█████████████████████████████████| 10000/10000 [00:00<00:00, 223064.49it/s]\n"
     ]
    }
   ],
   "source": [
    "cate_res = run_CATE_simulation()"
   ]
  },
  {
   "cell_type": "markdown",
   "id": "b35fa0be",
   "metadata": {},
   "source": [
    "We first compute the generic recovery probability $P(Y\\vert do(X=1))$:"
   ]
  },
  {
   "cell_type": "code",
   "execution_count": 64,
   "id": "0cc9b8be",
   "metadata": {},
   "outputs": [
    {
     "name": "stdout",
     "output_type": "stream",
     "text": [
      "Probability of recovery acting on medicine B: 0.3507\n"
     ]
    }
   ],
   "source": [
    "P_doX1 = np.sum(cate_res['y']==1) / len(cate_res['y'])\n",
    "print('Probability of recovery acting on medicine B: {0}'.format(P_doX1))"
   ]
  },
  {
   "cell_type": "markdown",
   "id": "1fa68e4e",
   "metadata": {},
   "source": [
    "Then we evaluate conditional quantities $P(Y\\vert do(X=1),W=0)$:"
   ]
  },
  {
   "cell_type": "code",
   "execution_count": 65,
   "id": "a00a9b1f",
   "metadata": {},
   "outputs": [
    {
     "name": "stdout",
     "output_type": "stream",
     "text": [
      "Probability of recovery acting on medicine B given income 0: 0.27400793650793653\n"
     ]
    }
   ],
   "source": [
    "P_doX1_givenW0 = np.sum(np.logical_and(cate_res['y']==1,cate_res['w']==0)) / np.sum(cate_res['w']==0)\n",
    "print('Probability of recovery acting on medicine B given income 0: {0}'.format(P_doX1_givenW0))"
   ]
  },
  {
   "cell_type": "markdown",
   "id": "960f03d7",
   "metadata": {},
   "source": [
    "And $P(Y\\vert do(X=1),W=1)$:"
   ]
  },
  {
   "cell_type": "code",
   "execution_count": 66,
   "id": "76e8ea7b",
   "metadata": {},
   "outputs": [
    {
     "name": "stdout",
     "output_type": "stream",
     "text": [
      "Probability of recovery acting on medicine B given income 1: 0.42862903225806454\n"
     ]
    }
   ],
   "source": [
    "P_doX1_givenW1 = np.sum(np.logical_and(cate_res['y']==1,cate_res['w']==1)) / np.sum(cate_res['w']==1)\n",
    "print('Probability of recovery acting on medicine B given income 1: {0}'.format(P_doX1_givenW1))"
   ]
  },
  {
   "cell_type": "markdown",
   "id": "58969899",
   "metadata": {},
   "source": [
    "Again these values come close to the hard-coded values in our simulation."
   ]
  },
  {
   "cell_type": "markdown",
   "id": "52d9898d",
   "metadata": {},
   "source": [
    "Without information about the conditioning variable, all we can do is computing the *average treatment effect* (ATE), that is $P(Y\\vert do(X=1)) - P(Y\\vert do(X=0))$:"
   ]
  },
  {
   "cell_type": "code",
   "execution_count": 67,
   "id": "b84d23cd",
   "metadata": {},
   "outputs": [
    {
     "name": "stdout",
     "output_type": "stream",
     "text": [
      "-0.05619999999999997\n"
     ]
    }
   ],
   "source": [
    "ate = P_doX1 - P_doX0\n",
    "print(ate)"
   ]
  },
  {
   "cell_type": "markdown",
   "id": "0bcb6d79",
   "metadata": {},
   "source": [
    "This is the difference (of about $5\\%$) that led us to conclude in the previous interventional study that medicine A has a stronger causal effect on recovery. It is also the quantity that led us to suggest a blanket policy $\\pi_A$ for the adoption of medicine A that turned out to be suboptimal."
   ]
  },
  {
   "cell_type": "markdown",
   "id": "e40c1886",
   "metadata": {},
   "source": [
    "Now, however, we can compute the *conditional average treatment effect* (CATE) taking advantage of our knowledge of income. This allow us to compute $P(Y\\vert do(X=1),W=0) - P(Y\\vert do(X=0),W=0)$:"
   ]
  },
  {
   "cell_type": "code",
   "execution_count": 68,
   "id": "f601a523",
   "metadata": {},
   "outputs": [
    {
     "name": "stdout",
     "output_type": "stream",
     "text": [
      "-0.1388361001893112\n"
     ]
    }
   ],
   "source": [
    "cate0 = P_doX1_givenW0 - P_doX0_givenW0\n",
    "print(cate0)"
   ]
  },
  {
   "cell_type": "markdown",
   "id": "4ae2aec5",
   "metadata": {},
   "source": [
    "and $P(Y\\vert do(X=1),W=1) - P(Y\\vert do(X=0),W=1)$:"
   ]
  },
  {
   "cell_type": "code",
   "execution_count": 69,
   "id": "62a57c13",
   "metadata": {},
   "outputs": [
    {
     "name": "stdout",
     "output_type": "stream",
     "text": [
      "0.027706449025012014\n"
     ]
    }
   ],
   "source": [
    "cate1 = P_doX1_givenW1 - P_doX0_givenW1\n",
    "print(cate1)"
   ]
  },
  {
   "cell_type": "markdown",
   "id": "7ca5e5af",
   "metadata": {},
   "source": [
    "This reveals that for a low income (strongly correlated with a low socio-economic status) medicine A is more effective, while for a high income (strongly correlated with a high socio-economic status) medicine B is actually slightly more effective."
   ]
  },
  {
   "cell_type": "markdown",
   "id": "8dda4fec",
   "metadata": {},
   "source": [
    "This knowledge allows us to define a better policy $\\pi_{income}$ in which we exploit knowledge of income (and, indirectly, of the true confounder) to select which medicine to offer to a patient."
   ]
  },
  {
   "cell_type": "code",
   "execution_count": 70,
   "id": "00f1571a",
   "metadata": {},
   "outputs": [],
   "source": [
    "def CATE_medicine(income):\n",
    "    if income==0: \n",
    "        return 0\n",
    "    else:\n",
    "        return 1"
   ]
  },
  {
   "cell_type": "markdown",
   "id": "ae25c1a8",
   "metadata": {},
   "source": [
    "Let us now set a simulation using this policy $\\pi_{income}$:"
   ]
  },
  {
   "cell_type": "code",
   "execution_count": 71,
   "id": "976a728d",
   "metadata": {},
   "outputs": [],
   "source": [
    "def run_CATE_simulation(n_trials=n_trials):\n",
    "    \n",
    "    results = {'x': np.zeros(n_trials),\n",
    "               'z': np.zeros(n_trials),\n",
    "               'y': np.zeros(n_trials),\n",
    "               'w': np.zeros(n_trials)}\n",
    "    \n",
    "    for i in tqdm(range(n_trials)):\n",
    "        status = SEstatus()\n",
    "        proxy = income(status)\n",
    "        medicine = CATE_medicine(proxy)            \n",
    "        outcome = recovery(medicine,status)\n",
    "        \n",
    "        results['x'][i] = medicine\n",
    "        results['z'][i] = status\n",
    "        results['y'][i] = outcome\n",
    "        results['w'][i] = proxy\n",
    "    \n",
    "    return results"
   ]
  },
  {
   "cell_type": "markdown",
   "id": "e94747fb",
   "metadata": {},
   "source": [
    "We collect the samples:"
   ]
  },
  {
   "cell_type": "code",
   "execution_count": 72,
   "id": "af8e5113",
   "metadata": {
    "scrolled": true
   },
   "outputs": [
    {
     "name": "stderr",
     "output_type": "stream",
     "text": [
      "100%|█████████████████████████████████| 10000/10000 [00:00<00:00, 222722.18it/s]\n"
     ]
    }
   ],
   "source": [
    "cate_res = run_CATE_simulation()"
   ]
  },
  {
   "cell_type": "markdown",
   "id": "0cf06c71",
   "metadata": {},
   "source": [
    "And evaluate our recovery probability $P(Y\\vert \\pi_{income})$:"
   ]
  },
  {
   "cell_type": "code",
   "execution_count": 73,
   "id": "82376fcc",
   "metadata": {},
   "outputs": [
    {
     "name": "stdout",
     "output_type": "stream",
     "text": [
      "Probability of recovery for policy CATE: 0.4095\n"
     ]
    }
   ],
   "source": [
    "print('Probability of recovery for policy CATE: {0}'.format(np.sum(cate_res['y']==1) / len(cate_res['y'])))"
   ]
  },
  {
   "cell_type": "markdown",
   "id": "e5cb1892",
   "metadata": {},
   "source": [
    "The recovery rate is now higher than the trivial blanket interventional policies ($\\pi_A,\\pi_B$) or the observational policy ($\\pi_\\emptyset$)."
   ]
  },
  {
   "cell_type": "markdown",
   "id": "dc1ea0d0",
   "metadata": {},
   "source": [
    "Of course, this result depends on how well our proxy variable (income) follows the underlying and unobserved confounder (socio-economic status). In *CATE sensitivity example* in the Appendix it is shown that the quality of the estimation of the CATE effect depends on such a relationship. Often proxies may have complicated dynamics, or simply there may be no way of observing them."
   ]
  },
  {
   "cell_type": "markdown",
   "id": "622aee64",
   "metadata": {},
   "source": [
    "## Counterfactual study"
   ]
  },
  {
   "cell_type": "markdown",
   "id": "501940ba",
   "metadata": {},
   "source": [
    "An even finer-grained analysis may be offered by a counterfactual evaluation in which we can assess the *individual treatment effect* (ITE) for each subject. Estimating an ITE requires evaluating *counterfactual quantities*, and specifically consider the probability of recovery under the actual choice $P(Y=1 \\vert X=x)$ and the probability of recovery in the counterfactual scenario in which a patient would have been given a different medicine $P_{X=x}(Y=1 \\vert X=\\bar{x})$. (This quantity is also used in [Bareinboim2015] to deal with the greedy casino.)"
   ]
  },
  {
   "cell_type": "markdown",
   "id": "39f97ce6",
   "metadata": {},
   "source": [
    "To work with counterfactual, we work with our basic causal graph:"
   ]
  },
  {
   "cell_type": "code",
   "execution_count": 74,
   "id": "a6d115e9",
   "metadata": {
    "scrolled": true
   },
   "outputs": [
    {
     "data": {
      "image/png": "[encoded data removed]",
      "text/plain": [
       "<Figure size 432x288 with 1 Axes>"
      ]
     },
     "metadata": {},
     "output_type": "display_data"
    }
   ],
   "source": [
    "G = nx.DiGraph()\n",
    "G.graph['dpi'] = 120\n",
    "\n",
    "nodes = ['X', 'Y', 'Z']\n",
    "edges = [('Z','X'), ('Z','Y'), ('X','Y')]\n",
    "nodes_pos = {'Z':(-.7, 1), 'X':(-1, -1), 'Y':(0, -1)}\n",
    "nodes_lbl = {'Z':'Z', 'X':'X', 'Y':'Y'}\n",
    "\n",
    "G.add_nodes_from(nodes)\n",
    "G.add_edges_from(edges)\n",
    "nx.draw(G,nodes_pos,node_size=800,node_color='white')\n",
    "_ = nx.draw_networkx_labels(G,nodes_pos,nodes_lbl)"
   ]
  },
  {
   "cell_type": "markdown",
   "id": "3af10c03",
   "metadata": {},
   "source": [
    "Estimating counterfactual quantities is usually practically impossibile. Here, we take advantage of our computation approach, and we set up a counterfactual simulation.\n",
    "\n",
    "The idea is that, given an individual (or a patient or a unit), we want to compute the effectiveness of the medicine for *this particular individual* by using counterfactual quantities. Our estimation is not above a population (ATE), but for a single individual (ITE)."
   ]
  },
  {
   "cell_type": "code",
   "execution_count": 75,
   "id": "97e2cd0e",
   "metadata": {},
   "outputs": [],
   "source": [
    "def run_CF_simulation(n_trials=n_trials):\n",
    "    \n",
    "    results = {'x': np.zeros(n_trials),\n",
    "               'z': np.zeros(n_trials),\n",
    "               'y': np.zeros(n_trials),\n",
    "               'cfy': np.zeros(n_trials),}\n",
    "    \n",
    "    status = SEstatus()\n",
    "    for i in tqdm(range(n_trials)):\n",
    "        \n",
    "        medicine = interventional_medicine()            \n",
    "        outcome = recovery(medicine,status)\n",
    "        \n",
    "        cf_medicine = np.logical_not(medicine)\n",
    "        cf_outcome = recovery(cf_medicine,status)\n",
    "        \n",
    "        results['x'][i] = medicine\n",
    "        results['z'][i] = status\n",
    "        results['y'][i] = outcome\n",
    "        results['cfy'][i] = cf_outcome\n",
    "    \n",
    "    return results"
   ]
  },
  {
   "cell_type": "markdown",
   "id": "f9418ee9",
   "metadata": {},
   "source": [
    "Notice how this simulation is different from the previous ones:\n",
    "- We do not iterate over many individuals (each one with her own socio-economic status) in order to compute the average treatment effect, but we iterate on the same individual (with a unique socio-economic status) in  order to compute the individual treatment effect;\n",
    "- We run a factual simulation first which produces $X,Y,Z$; then, we artificially run a counterfactual simulation in which we keep $Z$ to its value (this enforces the *ceteribus paribus* requirement of counterfactuals), we force the medicine $X$ to assume a different value, and then we recompute $Y$. \n",
    "\n",
    "Let us run the simulation. For simplicity, let us assume the factual intervention to be always $do(X=0)$:"
   ]
  },
  {
   "cell_type": "code",
   "execution_count": 76,
   "id": "30e361c1",
   "metadata": {},
   "outputs": [],
   "source": [
    "def interventional_medicine():\n",
    "    return 0"
   ]
  },
  {
   "cell_type": "code",
   "execution_count": 77,
   "id": "f8dd9c7d",
   "metadata": {},
   "outputs": [
    {
     "name": "stderr",
     "output_type": "stream",
     "text": [
      "100%|█████████████████████████████████| 10000/10000 [00:00<00:00, 230356.27it/s]\n"
     ]
    }
   ],
   "source": [
    "cf_res = run_CF_simulation()"
   ]
  },
  {
   "cell_type": "markdown",
   "id": "90a9bc15",
   "metadata": {},
   "source": [
    "Notice we run a single simulation, corresponding to a single individual. Now we can compute the individual treatment effect as a difference between "
   ]
  },
  {
   "cell_type": "markdown",
   "id": "defabf52",
   "metadata": {},
   "source": [
    "We can now compute the ITE for the individual as $$P_{X=0}(Y=1 \\vert do(X=1)) - P(Y=1 \\vert do(X=0))$$\n",
    "where the first quantity is the counterfactual result of providing medicine B, while the second quantity is the result of providing the first medicine."
   ]
  },
  {
   "cell_type": "code",
   "execution_count": 78,
   "id": "f81bb181",
   "metadata": {},
   "outputs": [
    {
     "data": {
      "text/plain": [
       "0.062"
      ]
     },
     "execution_count": 78,
     "metadata": {},
     "output_type": "execute_result"
    }
   ],
   "source": [
    "np.sum((cf_res['cfy']-cf_res['y'])) / len(cf_res['y'])"
   ]
  },
  {
   "cell_type": "markdown",
   "id": "5f2382bf",
   "metadata": {},
   "source": [
    "In this case, we found out that for the specific individual medicine B is more effective. However, if we consider a few more individuals, we will stumble into subjects for whom medicine A is more effective:"
   ]
  },
  {
   "cell_type": "code",
   "execution_count": 79,
   "id": "d817da1c",
   "metadata": {},
   "outputs": [
    {
     "name": "stderr",
     "output_type": "stream",
     "text": [
      "100%|█████████████████████████████████| 10000/10000 [00:00<00:00, 232714.36it/s]"
     ]
    },
    {
     "name": "stdout",
     "output_type": "stream",
     "text": [
      "ITE for individual 0: 0.051\n"
     ]
    },
    {
     "name": "stderr",
     "output_type": "stream",
     "text": [
      "\n",
      "100%|█████████████████████████████████| 10000/10000 [00:00<00:00, 234515.18it/s]\n"
     ]
    },
    {
     "name": "stdout",
     "output_type": "stream",
     "text": [
      "ITE for individual 1: 0.0429\n"
     ]
    },
    {
     "name": "stderr",
     "output_type": "stream",
     "text": [
      "100%|█████████████████████████████████| 10000/10000 [00:00<00:00, 234846.08it/s]\n"
     ]
    },
    {
     "name": "stdout",
     "output_type": "stream",
     "text": [
      "ITE for individual 2: 0.0442\n"
     ]
    },
    {
     "name": "stderr",
     "output_type": "stream",
     "text": [
      "100%|█████████████████████████████████| 10000/10000 [00:00<00:00, 237710.35it/s]\n"
     ]
    },
    {
     "name": "stdout",
     "output_type": "stream",
     "text": [
      "ITE for individual 3: 0.049\n"
     ]
    },
    {
     "name": "stderr",
     "output_type": "stream",
     "text": [
      "100%|█████████████████████████████████| 10000/10000 [00:00<00:00, 235144.95it/s]\n"
     ]
    },
    {
     "name": "stdout",
     "output_type": "stream",
     "text": [
      "ITE for individual 4: 0.0565\n"
     ]
    },
    {
     "name": "stderr",
     "output_type": "stream",
     "text": [
      "100%|█████████████████████████████████| 10000/10000 [00:00<00:00, 235787.39it/s]\n"
     ]
    },
    {
     "name": "stdout",
     "output_type": "stream",
     "text": [
      "ITE for individual 5: -0.1395\n"
     ]
    },
    {
     "name": "stderr",
     "output_type": "stream",
     "text": [
      "100%|█████████████████████████████████| 10000/10000 [00:00<00:00, 233742.79it/s]\n"
     ]
    },
    {
     "name": "stdout",
     "output_type": "stream",
     "text": [
      "ITE for individual 6: 0.0555\n"
     ]
    },
    {
     "name": "stderr",
     "output_type": "stream",
     "text": [
      "100%|█████████████████████████████████| 10000/10000 [00:00<00:00, 231149.71it/s]\n"
     ]
    },
    {
     "name": "stdout",
     "output_type": "stream",
     "text": [
      "ITE for individual 7: -0.15\n"
     ]
    },
    {
     "name": "stderr",
     "output_type": "stream",
     "text": [
      "100%|█████████████████████████████████| 10000/10000 [00:00<00:00, 232949.59it/s]\n"
     ]
    },
    {
     "name": "stdout",
     "output_type": "stream",
     "text": [
      "ITE for individual 8: -0.1474\n"
     ]
    },
    {
     "name": "stderr",
     "output_type": "stream",
     "text": [
      "100%|█████████████████████████████████| 10000/10000 [00:00<00:00, 236809.79it/s]"
     ]
    },
    {
     "name": "stdout",
     "output_type": "stream",
     "text": [
      "ITE for individual 9: 0.0462\n"
     ]
    },
    {
     "name": "stderr",
     "output_type": "stream",
     "text": [
      "\n"
     ]
    }
   ],
   "source": [
    "for i in range(10):\n",
    "    cf_res = run_CF_simulation()\n",
    "    print('ITE for individual {0}: {1}'.format(i,np.sum((cf_res['cfy']-cf_res['y'])) / len(cf_res['y'])))"
   ]
  },
  {
   "cell_type": "markdown",
   "id": "1188e42a",
   "metadata": {},
   "source": [
    "Counterfactual analysis allows us to consider different quantities (*effect of the treatment of treated*, *probability of necessity and sufficiency*) which provide us with deeper insights into our system."
   ]
  },
  {
   "cell_type": "markdown",
   "id": "0934cd19",
   "metadata": {},
   "source": [
    "## Recap: Interventional vs conditional interventional vs counterfactual\n",
    "\n",
    "Our simulations showed that in order to define a good policy we may want to carry out several analysis of our system in order to figure out the effect and the impact of our actions and the confounders. \n",
    "\n",
    "**What is the meaning of our studies in relation to policymaking?** Different studies allowed us to better probe the contribution of an unobserved confounder:\n",
    "- *Interventional studies* allowed us only to assess the average treatment effect (ATE) of a medicine on the outcome $P(Y\\vert do(X=x))$; this study objectively assessed the effectiveness of the medicines, but it did not take into consideration how confounders may affect the real-world distribution of patients and the interaction between the confounder and our action;\n",
    "- *Conditional interventional studies* identified a proxy variable for the unobserved confounder underlying our model. This allowed us to assess the conditional average treatment effect (CATE) of a medicine on the outcome $P(Y\\vert do(X=x),W)$; in particular, we were able to evaluate how the effectiveness of our actions would change at different levels of the unobserved confounder (as revealed by the proxy variable $W$);\n",
    "- *Counterfactual studies* took full advantage of the structural causal model framework to evaluate interventions in alternative counterfactual worlds. This allowed us to assess the individual treatment effect (ITE) of a medicine on the outcome $P(Y\\vert do(X=x))$ for a specific individual; this means that we could devise an optimal policy (with respect to the causal model we have defined) for each individual. Unfortunately, counterfactual quantities are hard to estimate."
   ]
  },
  {
   "cell_type": "markdown",
   "id": "04561b05",
   "metadata": {},
   "source": [
    "# Simpson's paradox: effectiveness of a new medicine\n",
    "\n",
    "Let's consider again our original observational and interventional studies that we performed to evaluate the effectiveness of a new medicine. The discrepancy that we have noticed between the observational result (medicine B is more effective than medicine A) and interventional result (medicine A is more effective than medicine B) may be seen as a case of *Simpson's paradox*. "
   ]
  },
  {
   "cell_type": "markdown",
   "id": "e428c529",
   "metadata": {},
   "source": [
    "Simpson's paradox is a classical example in which confounder may lead to apparently paradoxical results. This paradox may be explained away in terms of modelling. In the previous discussion we have qualified our results always in relation to an assumed graphical causal model underlying our data. A wrong choice in this assumption may sometimes explain apparent paradoxes.\n",
    "\n",
    "For example, in the observational study, when we believed we were directly assessing the causal effect of  a medicine on recovery $P(Y\\vert X)$, we were implicitly and mistakenly assuming the following causal model:"
   ]
  },
  {
   "cell_type": "code",
   "execution_count": 80,
   "id": "72b46b09",
   "metadata": {
    "scrolled": true
   },
   "outputs": [
    {
     "data": {
      "image/png": "[encoded data removed]",
      "text/plain": [
       "<Figure size 432x288 with 1 Axes>"
      ]
     },
     "metadata": {},
     "output_type": "display_data"
    }
   ],
   "source": [
    "G = nx.DiGraph()\n",
    "G.graph['dpi'] = 120\n",
    "\n",
    "nodes = ['X', 'Y',]\n",
    "edges = [('X','Y')]\n",
    "nodes_pos = {'X':(-1, -1), 'Y':(0, -1)}\n",
    "nodes_lbl = {'X':'X', 'Y':'Y'}\n",
    "\n",
    "G.add_nodes_from(nodes)\n",
    "G.add_edges_from(edges)\n",
    "nx.draw(G,nodes_pos,node_size=800,node_color='white')\n",
    "_ = nx.draw_networkx_labels(G,nodes_pos,nodes_lbl)"
   ]
  },
  {
   "cell_type": "markdown",
   "id": "b52df8a9",
   "metadata": {},
   "source": [
    "When we performed our interventional study, we correctly identified the underlying model as:"
   ]
  },
  {
   "cell_type": "code",
   "execution_count": 81,
   "id": "ea31ff46",
   "metadata": {
    "scrolled": false
   },
   "outputs": [
    {
     "data": {
      "image/png": "[encoded data removed]",
      "text/plain": [
       "<Figure size 432x288 with 1 Axes>"
      ]
     },
     "metadata": {},
     "output_type": "display_data"
    }
   ],
   "source": [
    "G = nx.DiGraph()\n",
    "G.graph['dpi'] = 120\n",
    "\n",
    "nodes = ['X', 'Y', 'Z']\n",
    "edges = [('Z','X'), ('Z','Y'), ('X','Y')]\n",
    "nodes_pos = {'Z':(-.7, 1), 'X':(-1, -1), 'Y':(0, -1)}\n",
    "nodes_lbl = {'Z':'Z', 'X':'X', 'Y':'Y'}\n",
    "\n",
    "G.add_nodes_from(nodes)\n",
    "G.add_edges_from(edges)\n",
    "nx.draw(G,nodes_pos,node_size=800,node_color='white')\n",
    "_ = nx.draw_networkx_labels(G,nodes_pos,nodes_lbl)"
   ]
  },
  {
   "cell_type": "markdown",
   "id": "41d58e2f",
   "metadata": {},
   "source": [
    "and we correctly estimated $P(Y\\vert do(X))$ by removing the confounder through an intervention or via do-calculus, thus ending up working on:"
   ]
  },
  {
   "cell_type": "code",
   "execution_count": 82,
   "id": "e932e156",
   "metadata": {
    "scrolled": false
   },
   "outputs": [
    {
     "data": {
      "image/png": "[encoded data removed]",
      "text/plain": [
       "<Figure size 432x288 with 1 Axes>"
      ]
     },
     "metadata": {},
     "output_type": "display_data"
    }
   ],
   "source": [
    "G = nx.DiGraph()\n",
    "G.graph['dpi'] = 120\n",
    "\n",
    "nodes = ['X', 'Y', 'Z']\n",
    "edges = [('Z','Y'), ('X','Y')]\n",
    "nodes_pos = {'Z':(-.7, 1), 'X':(-1, -1), 'Y':(0, -1)}\n",
    "nodes_lbl = {'Z':'Z', 'X':'X', 'Y':'Y'}\n",
    "\n",
    "G.add_nodes_from(nodes)\n",
    "G.add_edges_from(edges)\n",
    "nx.draw(G,nodes_pos,node_size=800,node_color='white')\n",
    "_ = nx.draw_networkx_labels(G,nodes_pos,nodes_lbl)"
   ]
  },
  {
   "cell_type": "markdown",
   "id": "9ba3eba6",
   "metadata": {},
   "source": [
    "The discrepancy in the effectiveness of the medicine may thus be ascribed to a *misspecified model*: the observational causal estimation is correct with respect to the no-confounder model, but wrong with respect to the causal model with confounder; the interventional estimation is correct with respect to the causal model with confounder.\n",
    "\n",
    "Is our interventional result the final word on the effect of the medicine on the survival? Of course not: it depends on the model we consider."
   ]
  },
  {
   "cell_type": "markdown",
   "id": "5a110b61",
   "metadata": {},
   "source": [
    "## Scenario\n",
    "\n",
    "Let us consider a more elaborate model in which we have two confounders: a socio-economic status ($Z_{se}$) and a genetic factor ($Z_{g}$). The true underlying graph of our new model is:"
   ]
  },
  {
   "cell_type": "code",
   "execution_count": 83,
   "id": "c07a7e06",
   "metadata": {
    "scrolled": false
   },
   "outputs": [
    {
     "data": {
      "image/png": "[encoded data removed]",
      "text/plain": [
       "<Figure size 432x288 with 1 Axes>"
      ]
     },
     "metadata": {},
     "output_type": "display_data"
    }
   ],
   "source": [
    "G = nx.DiGraph()\n",
    "G.graph['dpi'] = 120\n",
    "\n",
    "nodes = ['X', 'Y', 'Zse', 'Zg']\n",
    "edges = [('Zse','X'), ('Zse','Y'), ('X','Y'),('Zg','X'), ('Zg','Y')]\n",
    "nodes_pos = {'Zse':(-.5, .5),'Zg':(-.5, 1), 'X':(-1, -1), 'Y':(0, -1)}\n",
    "nodes_lbl = {'Zse':'$Z_{se}$','Zg':'$Z_{g}$', 'X':'X', 'Y':'Y'}\n",
    "\n",
    "G.add_nodes_from(nodes)\n",
    "G.add_edges_from(edges)\n",
    "nx.draw(G,nodes_pos,node_size=800,node_color='white')\n",
    "_ = nx.draw_networkx_labels(G,nodes_pos,nodes_lbl)"
   ]
  },
  {
   "cell_type": "markdown",
   "id": "08bbe871",
   "metadata": {},
   "source": [
    "## Implementation\n",
    "\n",
    "Let us construct the computational model for this new scenario."
   ]
  },
  {
   "cell_type": "code",
   "execution_count": 84,
   "id": "f3e3f1a6",
   "metadata": {},
   "outputs": [],
   "source": [
    "def GStatus():\n",
    "    return np.random.binomial(1,p=.5)\n",
    "\n",
    "def SEStatus():\n",
    "    return np.random.binomial(1,p=.5)\n",
    "\n",
    "def recovery(medicine,SEstatus,Gstatus):\n",
    "    if Gstatus==0:\n",
    "        if SEstatus==0:\n",
    "            if medicine==0:\n",
    "                return np.random.binomial(1,.2)\n",
    "            else:\n",
    "                return np.random.binomial(1,.05)\n",
    "        else:\n",
    "            if medicine==0:\n",
    "                return np.random.binomial(1,.4)\n",
    "            else:\n",
    "                return np.random.binomial(1,.45)\n",
    "    else:\n",
    "        if SEstatus==0:\n",
    "            if medicine==0:\n",
    "                return np.random.binomial(1,.6)\n",
    "            else:\n",
    "                return np.random.binomial(1,.45)\n",
    "        else:\n",
    "            if medicine==0:\n",
    "                return np.random.binomial(1,.4)\n",
    "            else:\n",
    "                return np.random.binomial(1,.45)"
   ]
  },
  {
   "cell_type": "markdown",
   "id": "f8e4de7e",
   "metadata": {},
   "source": [
    "Notice how the recovery rates are now different, as they are affected by two confounders."
   ]
  },
  {
   "cell_type": "markdown",
   "id": "e8302847",
   "metadata": {},
   "source": [
    "## Observational study\n",
    "\n",
    "We now run a standard observational study."
   ]
  },
  {
   "cell_type": "code",
   "execution_count": 85,
   "id": "19c01cec",
   "metadata": {},
   "outputs": [],
   "source": [
    "def observational_medicine(SEstatus,Gstatus):\n",
    "    if Gstatus==0:\n",
    "        if SEstatus==0:\n",
    "            return np.random.binomial(1,.1)\n",
    "        else:\n",
    "            return np.random.binomial(1,.95)\n",
    "    else:\n",
    "        if SEstatus==0:\n",
    "            return np.random.binomial(1,.1)\n",
    "        else:\n",
    "            return np.random.binomial(1,.85)"
   ]
  },
  {
   "cell_type": "code",
   "execution_count": 86,
   "id": "72fe6361",
   "metadata": {},
   "outputs": [],
   "source": [
    "def run_observational_simulation(n_trials=n_trials):\n",
    "    \n",
    "    results = {'x': np.zeros(n_trials),\n",
    "               'z_se': np.zeros(n_trials),\n",
    "               'z_g': np.zeros(n_trials),\n",
    "               'y': np.zeros(n_trials)}\n",
    "    \n",
    "    for i in tqdm(range(n_trials)):\n",
    "        SEstatus = SEStatus()\n",
    "        Gstatus = GStatus()\n",
    "        medicine = observational_medicine(SEstatus,Gstatus)            \n",
    "        outcome = recovery(medicine,SEstatus,Gstatus)\n",
    "        \n",
    "        results['x'][i] = medicine\n",
    "        results['z_se'][i] = SEstatus\n",
    "        results['z_g'][i] = Gstatus\n",
    "        results['y'][i] = outcome\n",
    "    \n",
    "    return results"
   ]
  },
  {
   "cell_type": "code",
   "execution_count": 87,
   "id": "be15fb7a",
   "metadata": {},
   "outputs": [
    {
     "name": "stderr",
     "output_type": "stream",
     "text": [
      "100%|█████████████████████████████████| 10000/10000 [00:00<00:00, 173415.09it/s]\n"
     ]
    }
   ],
   "source": [
    "obs_res = run_observational_simulation()"
   ]
  },
  {
   "cell_type": "markdown",
   "id": "8f7d1fe8",
   "metadata": {},
   "source": [
    "We can then estimate the probabilities $P(Y=1 \\vert X=0)$ and $P(Y=1 \\vert X=1)$."
   ]
  },
  {
   "cell_type": "code",
   "execution_count": 88,
   "id": "cbd71224",
   "metadata": {},
   "outputs": [
    {
     "name": "stdout",
     "output_type": "stream",
     "text": [
      "Probability of recovery given medicine A: 0.39102173471460494\n"
     ]
    }
   ],
   "source": [
    "n_recovery_medicineA = np.sum(obs_res['y'][obs_res['x']==0])\n",
    "n_medicineA = np.sum(obs_res['x']==0)\n",
    "\n",
    "print('Probability of recovery given medicine A: {0}'.format(n_recovery_medicineA / n_medicineA))"
   ]
  },
  {
   "cell_type": "code",
   "execution_count": 89,
   "id": "a388607f",
   "metadata": {},
   "outputs": [
    {
     "name": "stdout",
     "output_type": "stream",
     "text": [
      "Probability of recovery given medicine B: 0.42485719913334646\n"
     ]
    }
   ],
   "source": [
    "n_recovery_medicineB = np.sum(obs_res['y'][obs_res['x']==1])\n",
    "n_medicineB = np.sum(obs_res['x']==1)\n",
    "\n",
    "print('Probability of recovery given medicine B: {0}'.format(n_recovery_medicineB / n_medicineB))"
   ]
  },
  {
   "cell_type": "markdown",
   "id": "09876960",
   "metadata": {},
   "source": [
    "Apparently medicine B is more effective than A. Giving a causal meaning to this result would be equivalent to assuming that we are working with the following model:"
   ]
  },
  {
   "cell_type": "code",
   "execution_count": 90,
   "id": "af081d97",
   "metadata": {
    "scrolled": true
   },
   "outputs": [
    {
     "data": {
      "image/png": "[encoded data removed]",
      "text/plain": [
       "<Figure size 432x288 with 1 Axes>"
      ]
     },
     "metadata": {},
     "output_type": "display_data"
    }
   ],
   "source": [
    "G = nx.DiGraph()\n",
    "G.graph['dpi'] = 120\n",
    "\n",
    "nodes = ['X', 'Y',]\n",
    "edges = [('X','Y')]\n",
    "nodes_pos = {'X':(-1, -1), 'Y':(0, -1)}\n",
    "nodes_lbl = {'X':'X', 'Y':'Y'}\n",
    "\n",
    "G.add_nodes_from(nodes)\n",
    "G.add_edges_from(edges)\n",
    "nx.draw(G,nodes_pos,node_size=800,node_color='white')\n",
    "_ = nx.draw_networkx_labels(G,nodes_pos,nodes_lbl)"
   ]
  },
  {
   "cell_type": "markdown",
   "id": "d05c72e3",
   "metadata": {},
   "source": [
    "However, we know this model is wrong, so we move on to an interventional study."
   ]
  },
  {
   "cell_type": "markdown",
   "id": "522eba4c",
   "metadata": {},
   "source": [
    "## Interventional study\n",
    "\n",
    "Let us define an intervention protocol."
   ]
  },
  {
   "cell_type": "code",
   "execution_count": 91,
   "id": "44471f5f",
   "metadata": {},
   "outputs": [],
   "source": [
    "def interventional_medicine():\n",
    "    return np.random.binomial(1,.5)"
   ]
  },
  {
   "cell_type": "code",
   "execution_count": 92,
   "id": "67af9cfb",
   "metadata": {},
   "outputs": [],
   "source": [
    "def run_interventional_simulation(n_trials=n_trials):\n",
    "    \n",
    "    results = {'x': np.zeros(n_trials),\n",
    "               'z_se': np.zeros(n_trials),\n",
    "               'z_g': np.zeros(n_trials),\n",
    "               'y': np.zeros(n_trials)}\n",
    "    \n",
    "    for i in tqdm(range(n_trials)):\n",
    "        SEstatus = SEStatus()\n",
    "        Gstatus = GStatus()\n",
    "        medicine = interventional_medicine()            \n",
    "        outcome = recovery(medicine,SEstatus,Gstatus)\n",
    "        \n",
    "        results['x'][i] = medicine\n",
    "        results['z_se'][i] = SEstatus\n",
    "        results['z_g'][i] = Gstatus\n",
    "        results['y'][i] = outcome\n",
    "    \n",
    "    return results"
   ]
  },
  {
   "cell_type": "code",
   "execution_count": 93,
   "id": "486f06f4",
   "metadata": {},
   "outputs": [
    {
     "name": "stderr",
     "output_type": "stream",
     "text": [
      "100%|█████████████████████████████████| 10000/10000 [00:00<00:00, 170878.74it/s]\n"
     ]
    }
   ],
   "source": [
    "int_res = run_interventional_simulation()"
   ]
  },
  {
   "cell_type": "markdown",
   "id": "f04b3f06",
   "metadata": {},
   "source": [
    "This allows us to compute $P(Y=1 \\vert do(X=0))$ and $P(Y=1 \\vert do(X=1))$."
   ]
  },
  {
   "cell_type": "code",
   "execution_count": 94,
   "id": "c4307125",
   "metadata": {},
   "outputs": [
    {
     "name": "stdout",
     "output_type": "stream",
     "text": [
      "Probability of recovery acting on medicine A: 0.39489154672613014\n"
     ]
    }
   ],
   "source": [
    "n_recovery_medicineA = np.sum(int_res['y'][int_res['x']==0])\n",
    "n_medicineA = np.sum(int_res['x']==0)\n",
    "\n",
    "print('Probability of recovery acting on medicine A: {0}'.format(n_recovery_medicineA / n_medicineA))"
   ]
  },
  {
   "cell_type": "code",
   "execution_count": 95,
   "id": "07f6d805",
   "metadata": {},
   "outputs": [
    {
     "name": "stdout",
     "output_type": "stream",
     "text": [
      "Probability of recovery acting on medicine B: 0.3447799486875863\n"
     ]
    }
   ],
   "source": [
    "n_recovery_medicineB = np.sum(int_res['y'][int_res['x']==1])\n",
    "n_medicineB = np.sum(int_res['x']==1)\n",
    "\n",
    "print('Probability of recovery acting on medicine B: {0}'.format(n_recovery_medicineB / n_medicineB))"
   ]
  },
  {
   "cell_type": "markdown",
   "id": "e0d6d169",
   "metadata": {},
   "source": [
    "These results correctly estimate that medicine A is more effective than medicine B, as we would expect. Indeed, performing an intervention leads us to work with the following post-interventional model:"
   ]
  },
  {
   "cell_type": "code",
   "execution_count": 96,
   "id": "7c6c8225",
   "metadata": {
    "scrolled": false
   },
   "outputs": [
    {
     "data": {
      "image/png": "[encoded data removed]",
      "text/plain": [
       "<Figure size 432x288 with 1 Axes>"
      ]
     },
     "metadata": {},
     "output_type": "display_data"
    }
   ],
   "source": [
    "G = nx.DiGraph()\n",
    "G.graph['dpi'] = 120\n",
    "\n",
    "nodes = ['X', 'Y', 'Zse', 'Zg']\n",
    "edges = [('Zse','Y'), ('X','Y'), ('Zg','Y')]\n",
    "nodes_pos = {'Zse':(-.5, .5),'Zg':(-.5, 1), 'X':(-1, -1), 'Y':(0, -1)}\n",
    "nodes_lbl = {'Zse':'$Z_{se}$','Zg':'$Z_{g}$', 'X':'X', 'Y':'Y'}\n",
    "\n",
    "G.add_nodes_from(nodes)\n",
    "G.add_edges_from(edges)\n",
    "nx.draw(G,nodes_pos,node_size=800,node_color='white')\n",
    "_ = nx.draw_networkx_labels(G,nodes_pos,nodes_lbl)"
   ]
  },
  {
   "cell_type": "markdown",
   "id": "92bbfde1",
   "metadata": {},
   "source": [
    "which correctly cuts out the influence of all the confounders and let us estimate the correct causal effect of $X$ on $Y$."
   ]
  },
  {
   "cell_type": "markdown",
   "id": "6f2442cd",
   "metadata": {},
   "source": [
    "## Do-calculus study\n",
    "\n",
    "Let us suppose to be in a situation in which interventions are not possible. We may want to try to estimate causal quantities from the observational variables.\n",
    "\n",
    "We may be first induced to work with the model considering only the socio-economic status because it has already proven quite successful. That is, we may assume that only socio-economic factors are relevant confounders. This is equivalent to working with the following graph:"
   ]
  },
  {
   "cell_type": "code",
   "execution_count": 97,
   "id": "10281ac1",
   "metadata": {
    "scrolled": false
   },
   "outputs": [
    {
     "data": {
      "image/png": "[encoded data removed]",
      "text/plain": [
       "<Figure size 432x288 with 1 Axes>"
      ]
     },
     "metadata": {},
     "output_type": "display_data"
    }
   ],
   "source": [
    "G = nx.DiGraph()\n",
    "G.graph['dpi'] = 120\n",
    "\n",
    "nodes = ['X', 'Y', 'Zse', 'Zg']\n",
    "edges = [('Zse','X'), ('Zse','Y'), ('X','Y')]\n",
    "nodes_pos = {'Zse':(-.5, .5),'Zg':(-.5, 1), 'X':(-1, -1), 'Y':(0, -1)}\n",
    "nodes_lbl = {'Zse':'$Z_{se}$','Zg':'$Z_{g}$', 'X':'X', 'Y':'Y'}\n",
    "\n",
    "G.add_nodes_from(nodes)\n",
    "G.add_edges_from(edges)\n",
    "nx.draw(G,nodes_pos,node_size=800,node_color='white')\n",
    "_ = nx.draw_networkx_labels(G,nodes_pos,nodes_lbl)"
   ]
  },
  {
   "cell_type": "markdown",
   "id": "39821acf",
   "metadata": {},
   "source": [
    "In such a graph, *do-calculus* instructs to estimate:\n",
    "$$\n",
    "P(Y=1 \\vert do(X=x)) = \\sum_{Z_{se}} P(Y=1 \\vert X,{Z_{se}})P({Z_{se}}).\n",
    "$$"
   ]
  },
  {
   "cell_type": "code",
   "execution_count": 98,
   "id": "fb4996c7",
   "metadata": {},
   "outputs": [
    {
     "name": "stdout",
     "output_type": "stream",
     "text": [
      "Probability of recovery acting on medicine A: 0.39487038390851537\n",
      "Probability of recovery acting on medicine B: 0.3629170674423526\n"
     ]
    }
   ],
   "source": [
    "P_z0 = np.sum(obs_res['z_se']==0) / len(obs_res['z_se'])\n",
    "P_z1 = np.sum(obs_res['z_se']==1) / len(obs_res['z_se'])\n",
    "\n",
    "P_y1x0z0 = np.sum(np.logical_and(obs_res['y']==1, np.logical_and(obs_res['x']==0,obs_res['z_se']==0)))\n",
    "P_y1x0z1 = np.sum(np.logical_and(obs_res['y']==1, np.logical_and(obs_res['x']==0,obs_res['z_se']==1)))\n",
    "P_y1x1z0 = np.sum(np.logical_and(obs_res['y']==1, np.logical_and(obs_res['x']==1,obs_res['z_se']==0)))\n",
    "P_y1x1z1 = np.sum(np.logical_and(obs_res['y']==1, np.logical_and(obs_res['x']==1,obs_res['z_se']==1)))\n",
    "\n",
    "P_x0z0 = np.sum(np.logical_and(obs_res['x']==0,obs_res['z_se']==0))\n",
    "P_x0z1 = np.sum(np.logical_and(obs_res['x']==0,obs_res['z_se']==1))\n",
    "P_x1z0 = np.sum(np.logical_and(obs_res['x']==1,obs_res['z_se']==0))\n",
    "P_x1z1 = np.sum(np.logical_and(obs_res['x']==1,obs_res['z_se']==1))\n",
    "\n",
    "P_y1_givenx0z0 = P_y1x0z0 / P_x0z0\n",
    "P_y1_givenx0z1 = P_y1x0z1 / P_x0z1\n",
    "P_y1_givenx1z0 = P_y1x1z0 / P_x1z0\n",
    "P_y1_givenx1z1 = P_y1x1z1 / P_x1z1\n",
    "\n",
    "P_y1_dox0 = P_z0 * P_y1_givenx0z0 + P_z1 * P_y1_givenx0z1\n",
    "P_y1_dox1 = P_z0 * P_y1_givenx1z0 + P_z1 * P_y1_givenx1z1\n",
    "\n",
    "print('Probability of recovery acting on medicine A: {0}'.format(P_y1_dox0))\n",
    "print('Probability of recovery acting on medicine B: {0}'.format(P_y1_dox1))"
   ]
  },
  {
   "cell_type": "markdown",
   "id": "cbbb1527",
   "metadata": {},
   "source": [
    "The result shows that medicine A is more effective than medicine B, but the estimand is less close to the target than before.\n",
    "\n",
    "Someone may then suggest to us that the only confounder we need to account for are actually genetic factors. Socio-economic factors are not causally relevant, and we should not control for them. We may heed to this advice, and come up with the alternative causal graph:"
   ]
  },
  {
   "cell_type": "code",
   "execution_count": 99,
   "id": "ceb46bca",
   "metadata": {
    "scrolled": false
   },
   "outputs": [
    {
     "data": {
      "image/png": "[encoded data removed]",
      "text/plain": [
       "<Figure size 432x288 with 1 Axes>"
      ]
     },
     "metadata": {},
     "output_type": "display_data"
    }
   ],
   "source": [
    "G = nx.DiGraph()\n",
    "G.graph['dpi'] = 120\n",
    "\n",
    "nodes = ['X', 'Y', 'Zse', 'Zg']\n",
    "edges = [('X','Y'),('Zg','X'), ('Zg','Y')]\n",
    "nodes_pos = {'Zse':(-.5, .5),'Zg':(-.5, 1), 'X':(-1, -1), 'Y':(0, -1)}\n",
    "nodes_lbl = {'Zse':'$Z_{se}$','Zg':'$Z_{g}$', 'X':'X', 'Y':'Y'}\n",
    "\n",
    "G.add_nodes_from(nodes)\n",
    "G.add_edges_from(edges)\n",
    "nx.draw(G,nodes_pos,node_size=800,node_color='white')\n",
    "_ = nx.draw_networkx_labels(G,nodes_pos,nodes_lbl)"
   ]
  },
  {
   "cell_type": "markdown",
   "id": "9982ff49",
   "metadata": {},
   "source": [
    "In such a graph, *do-calculus* tells us that we can estimate:\n",
    "$$\n",
    "P(Y=1 \\vert do(X=x)) = \\sum_{Z_{g}} P(Y=1 \\vert X,{Z_{g}})P({Z_{g}}).\n",
    "$$"
   ]
  },
  {
   "cell_type": "code",
   "execution_count": 100,
   "id": "a11c46dc",
   "metadata": {},
   "outputs": [
    {
     "name": "stdout",
     "output_type": "stream",
     "text": [
      "Probability of recovery acting on medicine A: 0.38348681762333375\n",
      "Probability of recovery acting on medicine B: 0.425662020392382\n"
     ]
    }
   ],
   "source": [
    "P_z0 = np.sum(obs_res['z_g']==0) / len(obs_res['z_g'])\n",
    "P_z1 = np.sum(obs_res['z_g']==1) / len(obs_res['z_g'])\n",
    "\n",
    "P_y1x0z0 = np.sum(np.logical_and(obs_res['y']==1, np.logical_and(obs_res['x']==0,obs_res['z_g']==0)))\n",
    "P_y1x0z1 = np.sum(np.logical_and(obs_res['y']==1, np.logical_and(obs_res['x']==0,obs_res['z_g']==1)))\n",
    "P_y1x1z0 = np.sum(np.logical_and(obs_res['y']==1, np.logical_and(obs_res['x']==1,obs_res['z_g']==0)))\n",
    "P_y1x1z1 = np.sum(np.logical_and(obs_res['y']==1, np.logical_and(obs_res['x']==1,obs_res['z_g']==1)))\n",
    "\n",
    "P_x0z0 = np.sum(np.logical_and(obs_res['x']==0,obs_res['z_g']==0))\n",
    "P_x0z1 = np.sum(np.logical_and(obs_res['x']==0,obs_res['z_g']==1))\n",
    "P_x1z0 = np.sum(np.logical_and(obs_res['x']==1,obs_res['z_g']==0))\n",
    "P_x1z1 = np.sum(np.logical_and(obs_res['x']==1,obs_res['z_g']==1))\n",
    "\n",
    "P_y1_givenx0z0 = P_y1x0z0 / P_x0z0\n",
    "P_y1_givenx0z1 = P_y1x0z1 / P_x0z1\n",
    "P_y1_givenx1z0 = P_y1x1z0 / P_x1z0\n",
    "P_y1_givenx1z1 = P_y1x1z1 / P_x1z1\n",
    "\n",
    "P_y1_dox0 = P_z0 * P_y1_givenx0z0 + P_z1 * P_y1_givenx0z1\n",
    "P_y1_dox1 = P_z0 * P_y1_givenx1z0 + P_z1 * P_y1_givenx1z1\n",
    "\n",
    "print('Probability of recovery acting on medicine A: {0}'.format(P_y1_dox0))\n",
    "print('Probability of recovery acting on medicine B: {0}'.format(P_y1_dox1))"
   ]
  },
  {
   "cell_type": "markdown",
   "id": "6fd73b3b",
   "metadata": {},
   "source": [
    "Annoyingly, we observe a reversal of effectiveness: controlling for genetic factors makes medicine B looks more effective than medicine A.\n",
    "\n",
    "After further study, we come to develop the right causal graph:"
   ]
  },
  {
   "cell_type": "code",
   "execution_count": 101,
   "id": "d33ce357",
   "metadata": {
    "scrolled": false
   },
   "outputs": [
    {
     "data": {
      "image/png": "[encoded data removed]",
      "text/plain": [
       "<Figure size 432x288 with 1 Axes>"
      ]
     },
     "metadata": {},
     "output_type": "display_data"
    }
   ],
   "source": [
    "G = nx.DiGraph()\n",
    "G.graph['dpi'] = 120\n",
    "\n",
    "nodes = ['X', 'Y', 'Zse', 'Zg']\n",
    "edges = [('Zse','X'), ('Zse','Y'), ('X','Y'),('Zg','X'), ('Zg','Y')]\n",
    "nodes_pos = {'Zse':(-.5, .5),'Zg':(-.5, 1), 'X':(-1, -1), 'Y':(0, -1)}\n",
    "nodes_lbl = {'Zse':'$Z_{se}$','Zg':'$Z_{g}$', 'X':'X', 'Y':'Y'}\n",
    "\n",
    "G.add_nodes_from(nodes)\n",
    "G.add_edges_from(edges)\n",
    "nx.draw(G,nodes_pos,node_size=800,node_color='white')\n",
    "_ = nx.draw_networkx_labels(G,nodes_pos,nodes_lbl)"
   ]
  },
  {
   "cell_type": "markdown",
   "id": "5e2ce5ea",
   "metadata": {},
   "source": [
    "Now *do-calculus* states that:\n",
    "$$\n",
    "P(Y=1 \\vert do(X=x)) = \\sum_{Z_{se},Z_{g}} P(Y=1 \\vert X,Z_{se},{Z_{g}})P(Z_{se},{Z_{g}}).\n",
    "$$"
   ]
  },
  {
   "cell_type": "code",
   "execution_count": 102,
   "id": "512b7472",
   "metadata": {},
   "outputs": [
    {
     "name": "stdout",
     "output_type": "stream",
     "text": [
      "Probability of recovery acting on medicine A: 0.392780826085904\n",
      "Probability of recovery acting on medicine B: 0.3563854093116481\n"
     ]
    }
   ],
   "source": [
    "P_s0g0 = np.sum(np.logical_and(obs_res['z_se']==0,obs_res['z_g']==0)) / len(obs_res['z_se'])\n",
    "P_s0g1 = np.sum(np.logical_and(obs_res['z_se']==0,obs_res['z_g']==1)) / len(obs_res['z_se'])\n",
    "P_s1g0 = np.sum(np.logical_and(obs_res['z_se']==1,obs_res['z_g']==0)) / len(obs_res['z_se'])\n",
    "P_s1g1 = np.sum(np.logical_and(obs_res['z_se']==1,obs_res['z_g']==1)) / len(obs_res['z_se'])\n",
    "\n",
    "P_y1x0s0g0 = np.sum(np.logical_and(obs_res['y']==1, np.logical_and(obs_res['x']==0, np.logical_and(obs_res['z_se']==0,obs_res['z_g']==0))))\n",
    "P_y1x0s0g1 = np.sum(np.logical_and(obs_res['y']==1, np.logical_and(obs_res['x']==0, np.logical_and(obs_res['z_se']==0,obs_res['z_g']==1))))\n",
    "P_y1x0s1g0 = np.sum(np.logical_and(obs_res['y']==1, np.logical_and(obs_res['x']==0, np.logical_and(obs_res['z_se']==1,obs_res['z_g']==0))))\n",
    "P_y1x0s1g1 = np.sum(np.logical_and(obs_res['y']==1, np.logical_and(obs_res['x']==0, np.logical_and(obs_res['z_se']==1,obs_res['z_g']==1))))\n",
    "P_y1x1s0g0 = np.sum(np.logical_and(obs_res['y']==1, np.logical_and(obs_res['x']==1, np.logical_and(obs_res['z_se']==0,obs_res['z_g']==0))))\n",
    "P_y1x1s0g1 = np.sum(np.logical_and(obs_res['y']==1, np.logical_and(obs_res['x']==1, np.logical_and(obs_res['z_se']==0,obs_res['z_g']==1))))\n",
    "P_y1x1s1g0 = np.sum(np.logical_and(obs_res['y']==1, np.logical_and(obs_res['x']==1, np.logical_and(obs_res['z_se']==1,obs_res['z_g']==0))))\n",
    "P_y1x1s1g1 = np.sum(np.logical_and(obs_res['y']==1, np.logical_and(obs_res['x']==1, np.logical_and(obs_res['z_se']==1,obs_res['z_g']==1))))\n",
    "\n",
    "P_x0s0g0 = np.sum(np.logical_and(obs_res['x']==0, np.logical_and(obs_res['z_se']==0,obs_res['z_g']==0)))\n",
    "P_x0s0g1 = np.sum(np.logical_and(obs_res['x']==0, np.logical_and(obs_res['z_se']==0,obs_res['z_g']==1)))\n",
    "P_x0s1g0 = np.sum(np.logical_and(obs_res['x']==0, np.logical_and(obs_res['z_se']==1,obs_res['z_g']==0)))\n",
    "P_x0s1g1 = np.sum(np.logical_and(obs_res['x']==0, np.logical_and(obs_res['z_se']==1,obs_res['z_g']==1)))\n",
    "P_x1s0g0 = np.sum(np.logical_and(obs_res['x']==1, np.logical_and(obs_res['z_se']==0,obs_res['z_g']==0)))\n",
    "P_x1s0g1 = np.sum(np.logical_and(obs_res['x']==1, np.logical_and(obs_res['z_se']==0,obs_res['z_g']==1)))\n",
    "P_x1s1g0 = np.sum(np.logical_and(obs_res['x']==1, np.logical_and(obs_res['z_se']==1,obs_res['z_g']==0)))\n",
    "P_x1s1g1 = np.sum(np.logical_and(obs_res['x']==1, np.logical_and(obs_res['z_se']==1,obs_res['z_g']==1)))\n",
    "\n",
    "P_y1_givenx0s0g0 = P_y1x0s0g0 / P_x0s0g0\n",
    "P_y1_givenx0s0g1 = P_y1x0s0g1 / P_x0s0g1\n",
    "P_y1_givenx0s1g0 = P_y1x0s1g0 / P_x0s1g0\n",
    "P_y1_givenx0s1g1 = P_y1x0s1g1 / P_x0s1g1\n",
    "P_y1_givenx1s0g0 = P_y1x1s0g0 / P_x1s0g0\n",
    "P_y1_givenx1s0g1 = P_y1x1s0g1 / P_x1s0g1\n",
    "P_y1_givenx1s1g0 = P_y1x1s1g0 / P_x1s1g0\n",
    "P_y1_givenx1s1g1 = P_y1x1s1g1 / P_x1s1g1\n",
    "\n",
    "P_y1_dox0 = P_s0g0 * P_y1_givenx0s0g0 + P_s0g1 * P_y1_givenx0s0g1 + P_s1g0 * P_y1_givenx0s1g0 + P_s1g1 * P_y1_givenx0s1g1\n",
    "P_y1_dox1 = P_s0g0 * P_y1_givenx1s0g0 + P_s0g1 * P_y1_givenx1s0g1 + P_s1g0 * P_y1_givenx1s1g0 + P_s1g1 * P_y1_givenx1s1g1\n",
    "\n",
    "print('Probability of recovery acting on medicine A: {0}'.format(P_y1_dox0))\n",
    "print('Probability of recovery acting on medicine B: {0}'.format(P_y1_dox1))"
   ]
  },
  {
   "cell_type": "markdown",
   "id": "c1c4306e",
   "metadata": {},
   "source": [
    "And indeed these results are closer to the interventional study and our implementation."
   ]
  },
  {
   "cell_type": "markdown",
   "id": "6ac6cb1b",
   "metadata": {},
   "source": [
    "## Recap: Observational vs experimental\n",
    "\n",
    "Reading our scenario as a case of *Simpson's paradox* allowed us to highlight two points:\n",
    "\n",
    "- The discrepancy between observational and interventional results may be explained as a mismatch between a causal reading and the underlying causal graph. Giving observational data, a causal interpretation means assuming a causal graph with no confounders; interpreting the interventional data as causal means working with a graph having potential confounders.\n",
    "\n",
    "- Discrepancy is possible also between interventional quantities estimated via do-calculus when we assume different underlying causal graphs. The causal graphs tell us how to control for confounders, and if the graph does not agree with the system at hand, we may estimate inconsistent causal effects. "
   ]
  },
  {
   "cell_type": "markdown",
   "id": "24863d2b",
   "metadata": {},
   "source": [
    "# Simpson's paradox: university admission\n",
    "\n",
    "Another emblematic case of Simpson's paradox is the *university admission* case. We implement it taking the data from the page on [Wikipedia](https://en.wikipedia.org/wiki/Simpson%27s_paradox)."
   ]
  },
  {
   "cell_type": "markdown",
   "id": "5ed3860a",
   "metadata": {},
   "source": [
    "## Scenario\n",
    "\n",
    "Students apply for university admission with one of the six departments available ($X$). Their choice is affected by their gender ($Z$); the outcome ($Y$) of their application depends both on the chosen department and the gender of the candidate, representing the fact that a gender may be more or less inclined towards a specific discipline.\n",
    "\n",
    "This problem takes the form of a *6-armed bandit with unobserved confounder*, since we will consider 6 possible departments for a student to apply to. \n",
    "\n",
    "We are then dealing with our usual graph:"
   ]
  },
  {
   "cell_type": "code",
   "execution_count": 103,
   "id": "6b1122c6",
   "metadata": {
    "scrolled": true
   },
   "outputs": [
    {
     "data": {
      "image/png": "[encoded data removed]",
      "text/plain": [
       "<Figure size 432x288 with 1 Axes>"
      ]
     },
     "metadata": {},
     "output_type": "display_data"
    }
   ],
   "source": [
    "G = nx.DiGraph()\n",
    "G.graph['dpi'] = 120\n",
    "\n",
    "nodes = ['X', 'Y', 'Z']\n",
    "edges = [('Z','X'), ('Z','Y'), ('X','Y')]\n",
    "nodes_pos = {'Z':(-.7, 1), 'X':(-1, -1), 'Y':(0, -1)}\n",
    "nodes_lbl = {'Z':'Z', 'X':'X', 'Y':'Y'}\n",
    "\n",
    "G.add_nodes_from(nodes)\n",
    "G.add_edges_from(edges)\n",
    "nx.draw(G,nodes_pos,node_size=800,node_color='white')\n",
    "_ = nx.draw_networkx_labels(G,nodes_pos,nodes_lbl)"
   ]
  },
  {
   "cell_type": "markdown",
   "id": "e913e110",
   "metadata": {},
   "source": [
    "Notice that, alternatively, we may imagine gender as an observable proxy for a deeper confounder related to those social factors that may make an individual more or less apt at a given discipline."
   ]
  },
  {
   "cell_type": "markdown",
   "id": "7051f3da",
   "metadata": {},
   "source": [
    "## Implementation"
   ]
  },
  {
   "cell_type": "markdown",
   "id": "f36ea472",
   "metadata": {},
   "source": [
    "Let us simulate an instance of Simpson's paradox using the same setup we used for the greedy casino."
   ]
  },
  {
   "cell_type": "code",
   "execution_count": 104,
   "id": "5bfd7007",
   "metadata": {},
   "outputs": [],
   "source": [
    "def random_select_gender():\n",
    "    return np.random.binomial(1,p=.5)\n",
    "\n",
    "def select_admissionrate(gender):\n",
    "    if gender==0:\n",
    "        return np.array([.62,.63,.37,.33,.28,.06])\n",
    "    else:\n",
    "        return np.array([.82,.68,.34,.35,.24,.07])\n",
    "    \n",
    "def apply(department,admissionrate):\n",
    "    return np.random.binomial(1,admissionrate[department])\n",
    "\n",
    "def observational_select_department(gender):\n",
    "    if gender==0:\n",
    "        return np.random.choice(range(6),p=[.31,.21,.12,.15,.07,.14])\n",
    "    else:\n",
    "        return np.random.choice(range(6),p=[.06,.02,.3,.21,.22,.19])"
   ]
  },
  {
   "cell_type": "markdown",
   "id": "3e526464",
   "metadata": {},
   "source": [
    "The function for selecting the gender of the applicant is analogous to functions *random_select_blinking()* or *random_select_drunkedness()*. The selection of admission rate corresponds to the *sneaky_select_reward()* function (although the current function is not sneaky in itself). The apply function, which returns the outcome of the application (0: *rejection*, 1: *acceptance*), takes the place of the *play()* function before. Finally we have an observational simulation function; this assumes that the students have a *natural* distribution of choice of departments, similarly to what happened in the *observational_select_lever()* function."
   ]
  },
  {
   "cell_type": "markdown",
   "id": "03baf2e0",
   "metadata": {},
   "source": [
    "## Observational study\n",
    "\n",
    "Let us bring all together to instantiate an observational simulation."
   ]
  },
  {
   "cell_type": "code",
   "execution_count": 105,
   "id": "0b44613b",
   "metadata": {},
   "outputs": [],
   "source": [
    "def run_observational_simulation(n_trials=n_trials):\n",
    "    \n",
    "    results = {'gender': np.zeros(n_trials), \n",
    "               'department': np.zeros(n_trials), \n",
    "               'outcome': np.zeros(n_trials)}\n",
    "    \n",
    "    for i in tqdm(range(n_trials)):\n",
    "        gender = random_select_gender()\n",
    "        \n",
    "        admissionrate = select_admissionrate(gender)\n",
    "                \n",
    "        department = observational_select_department(gender)\n",
    "            \n",
    "        outcome = apply(department,admissionrate)\n",
    "        \n",
    "        results['gender'][i] = gender\n",
    "        results['department'][i] = department\n",
    "        results['outcome'][i] = outcome\n",
    "    \n",
    "    return results"
   ]
  },
  {
   "cell_type": "markdown",
   "id": "3d20adb6",
   "metadata": {},
   "source": [
    "Let us collect a set of samples."
   ]
  },
  {
   "cell_type": "code",
   "execution_count": 106,
   "id": "6b98b647",
   "metadata": {
    "scrolled": true
   },
   "outputs": [
    {
     "name": "stderr",
     "output_type": "stream",
     "text": [
      "100%|██████████████████████████████████| 10000/10000 [00:00<00:00, 72033.17it/s]\n"
     ]
    }
   ],
   "source": [
    "obs_res = run_observational_simulation()"
   ]
  },
  {
   "cell_type": "markdown",
   "id": "0809894e",
   "metadata": {},
   "source": [
    "Let us look then at the probability of admission $P(Y=1)$, as well as the probability of admission conditioned on gender, $P(Y=1 \\vert Z=male)$ and $P(Y=1 \\vert Z=female)$."
   ]
  },
  {
   "cell_type": "code",
   "execution_count": 107,
   "id": "1b543cef",
   "metadata": {},
   "outputs": [
    {
     "name": "stdout",
     "output_type": "stream",
     "text": [
      "Probability of admission: 0.3813\n"
     ]
    }
   ],
   "source": [
    "print('Probability of admission: {0}'.format(np.sum(obs_res['outcome']==1) / len(obs_res['outcome'])))"
   ]
  },
  {
   "cell_type": "code",
   "execution_count": 108,
   "id": "5e259e8d",
   "metadata": {},
   "outputs": [
    {
     "name": "stdout",
     "output_type": "stream",
     "text": [
      "Probability of male admission: 0.44402239104358254\n"
     ]
    }
   ],
   "source": [
    "print('Probability of male admission: {0}'.format(np.sum(np.logical_and(obs_res['outcome']==1,obs_res['gender']==0)) / np.sum(obs_res['gender']==0)))"
   ]
  },
  {
   "cell_type": "code",
   "execution_count": 109,
   "id": "3c5e1466",
   "metadata": {},
   "outputs": [
    {
     "name": "stdout",
     "output_type": "stream",
     "text": [
      "Probability of female admission: 0.31852741096438575\n"
     ]
    }
   ],
   "source": [
    "print('Probability of female admission: {0}'.format(np.sum(np.logical_and(obs_res['outcome']==1,obs_res['gender']==1)) / np.sum(obs_res['gender']==1)))"
   ]
  },
  {
   "cell_type": "markdown",
   "id": "0ff50487",
   "metadata": {},
   "source": [
    "Probability of male admission is greater than female admission."
   ]
  },
  {
   "cell_type": "markdown",
   "id": "da1322c1",
   "metadata": {},
   "source": [
    "Let us now look at the breakdown by department, that is, $P(Y=1 \\vert Z=male, X=dept_i)$ and $P(Y=1 \\vert Z=female, X=dept_i)$"
   ]
  },
  {
   "cell_type": "code",
   "execution_count": 110,
   "id": "755658f3",
   "metadata": {
    "scrolled": true
   },
   "outputs": [
    {
     "name": "stdout",
     "output_type": "stream",
     "text": [
      "Probability of male admission given department 0: 0.6064030131826742\n",
      "Probability of male admission given department 1: 0.6447761194029851\n",
      "Probability of male admission given department 2: 0.3547854785478548\n",
      "Probability of male admission given department 3: 0.34805890227576974\n",
      "Probability of male admission given department 4: 0.25210084033613445\n",
      "Probability of male admission given department 5: 0.06051873198847262\n"
     ]
    }
   ],
   "source": [
    "obs_male_admission_per_dept = []\n",
    "for i in range(6):\n",
    "    n_success_dept = np.sum(obs_res['outcome'][np.logical_and(obs_res['department']==i,obs_res['gender']==0)])\n",
    "    n_dept = np.sum(np.logical_and(obs_res['department']==i,obs_res['gender']==0))\n",
    "\n",
    "    obs_male_admission_per_dept.append(n_success_dept / n_dept)\n",
    "    print('Probability of male admission given department {0}: {1}'.format(i, n_success_dept / n_dept)) "
   ]
  },
  {
   "cell_type": "code",
   "execution_count": 111,
   "id": "2ca9534d",
   "metadata": {},
   "outputs": [
    {
     "name": "stdout",
     "output_type": "stream",
     "text": [
      "Probability of female admission given department 0: 0.8390092879256966\n",
      "Probability of female admission given department 1: 0.6082474226804123\n",
      "Probability of female admission given department 2: 0.3567251461988304\n",
      "Probability of female admission given department 3: 0.34001910219675263\n",
      "Probability of female admission given department 4: 0.25757575757575757\n",
      "Probability of female admission given department 5: 0.09081196581196581\n"
     ]
    }
   ],
   "source": [
    "obs_female_admission_per_dept = []\n",
    "for i in range(6):\n",
    "    n_success_dept = np.sum(obs_res['outcome'][np.logical_and(obs_res['department']==i,obs_res['gender']==1)])\n",
    "    n_dept = np.sum(np.logical_and(obs_res['department']==i,obs_res['gender']==1))\n",
    "\n",
    "    obs_female_admission_per_dept.append(n_success_dept / n_dept)\n",
    "    print('Probability of female admission given department {0}: {1}'.format(i, n_success_dept / n_dept)) "
   ]
  },
  {
   "cell_type": "markdown",
   "id": "c0dedeb6",
   "metadata": {},
   "source": [
    "Let us plot these results for easier interpretation:"
   ]
  },
  {
   "cell_type": "code",
   "execution_count": 112,
   "id": "ea18444c",
   "metadata": {},
   "outputs": [
    {
     "data": {
      "image/png": "[encoded data removed]",
      "text/plain": [
       "<Figure size 432x288 with 1 Axes>"
      ]
     },
     "metadata": {
      "needs_background": "light"
     },
     "output_type": "display_data"
    }
   ],
   "source": [
    "xaxis = np.arange(6)\n",
    "xlabels = ['Dept 0','Dept 1','Dept 2','Dept 3','Dept 4','Dept 5']  \n",
    "  \n",
    "plt.bar(xaxis - 0.2, obs_male_admission_per_dept, 0.4, label = 'Obs Male')\n",
    "plt.bar(xaxis + 0.2, obs_female_admission_per_dept, 0.4, label = 'Obs Female')\n",
    "  \n",
    "plt.xticks(xaxis, xlabels)\n",
    "plt.ylabel(\"Admission\")\n",
    "plt.legend()\n",
    "plt.show()"
   ]
  },
  {
   "cell_type": "markdown",
   "id": "451aefa7",
   "metadata": {},
   "source": [
    "In almost all departments, female applicants have a higher acceptance rate."
   ]
  },
  {
   "cell_type": "markdown",
   "id": "0a9ce336",
   "metadata": {},
   "source": [
    "How do we deal with this apparent inconsistency? It easy to explain it with respect to the underlying causal model:\n",
    "\n",
    "- In our first analysis we just considered $P(Y \\vert Z)$: this allowed us to study the causal relationship between gender and acceptance, accounting for both directed and mediated effects; however, this does not describe explicitly how the choice of the department affects the result.\n",
    "\n",
    "- In the second analysis we studied $P(Y \\vert Z,X)$: this allowed us to perform a stratified study and see how the causal relationship between gender and acceptance varies at different levels of the department value. "
   ]
  },
  {
   "cell_type": "markdown",
   "id": "6179076c",
   "metadata": {},
   "source": [
    "# Conclusion\n",
    "\n",
    "Through all the scenarios above (casinos, medicines, university) we had the opportunity of seeing different aspects of confounding.\n",
    "\n",
    "First of all, we have seen *different types of confounders*:\n",
    "- Observable confounders: like in the case of gender in *Simposon's paradox*;\n",
    "- Unobservable confounders: like in the case of socio-economic status in *Effectiveness of a new medicine*.\n",
    "In between, we have dealt with unobservable confounders that are partially observable, at least from one party (like level of blinking in the *Greedy casino*), or which can be estimated via a proxy (like income in the *Policymaking for a new medicine*).\n",
    "\n",
    "We have carried out *different types of studies* which provided us with different information:\n",
    "- Observational studies: providing a description of the overall behaviour of the system, aggregating together casual effects ($X \\rightarrow Y$) and confounding effects ($Z \\rightarrow Y$), as well as the possible interaction effect between causes and confounders ($X,Z \\rightarrow Y$).\n",
    "- Interventional studies: providing a description only of casual effects ($X \\rightarrow Y$) by performing experiments and interventions.\n",
    "- Do-calculus studies: computing interventional quantities from observational data without performing experiments.\n",
    "- Policymaking studies: aimed at dealing not only with the casual effects ($X \\rightarrow Y$), but also taking into account the role of confounding ($Z \\rightarrow Y$,$X,Z \\rightarrow Y$) when enacting a policy.\n",
    "- Conditional interventional studies: eliciting knowledge about the effects of a confounder ($Z$) through the observation of proxy variables ($W$) and leading us to estimate stratified causal effects.\n",
    "- Counterfactual studies: assessing the effect of interventions by considering the actual world alongside alternative counterfactual realities.\n",
    "\n",
    "Formally, we have analyzed *different quantities*:\n",
    "- Average treatment effects (ATE): $P(Y\\vert do(X=1)) - P(Y\\vert do(X=0))$\n",
    "- Conditional treatment effects (CATE): $P(Y\\vert do(X=1),W) - P(Y\\vert do(X=0),W)$\n",
    "- Individual treatment effects (ITE): $P_{X=0}(Y=1 \\vert do(X=1)) - P(Y=1 \\vert do(X=0))$\n",
    "\n",
    "Exploring all these aspects hopefully offered a wider view and perspective on confounders, their meaning and their role in causal inference. "
   ]
  },
  {
   "cell_type": "markdown",
   "id": "5b9164a4",
   "metadata": {},
   "source": [
    "## References\n",
    "\n",
    "\\[Bareinboim2015\\] Bareinboim, Elias, Andrew Forney, and Judea Pearl. \"Bandits with unobserved confounders: A causal approach.\" Advances in Neural Information Processing Systems 28 (2015): 1342-1350.\n",
    "\n",
    "\\[Pearl2009\\] Pearl, Judea. Causality. Cambridge university press, 2009."
   ]
  },
  {
   "cell_type": "markdown",
   "id": "d85dd56b",
   "metadata": {},
   "source": [
    "# Appendix\n",
    "\n",
    "Further examples are provided here in appendix."
   ]
  },
  {
   "cell_type": "markdown",
   "id": "b590b173",
   "metadata": {},
   "source": [
    "## One-confounder example\n",
    "\n",
    "This example shows that we can have a situation similar to the greedy casino illustrated above with a single confounding variable ($Z$)."
   ]
  },
  {
   "cell_type": "code",
   "execution_count": 113,
   "id": "4dca2cc1",
   "metadata": {},
   "outputs": [],
   "source": [
    "def Z():\n",
    "    return np.random.binomial(1,p=.8)\n",
    "\n",
    "def R(z):\n",
    "    if z==0:\n",
    "        return np.array([.1,.5])\n",
    "    else:\n",
    "        return np.array([.5,.1])\n",
    "\n",
    "def X(z):\n",
    "    return z\n",
    "\n",
    "def doX():\n",
    "    return np.random.binomial(1,p=.5)\n",
    "    \n",
    "def Y(x,r):\n",
    "    return np.random.binomial(1,r[int(x)])"
   ]
  },
  {
   "cell_type": "code",
   "execution_count": 114,
   "id": "bb15ee6f",
   "metadata": {},
   "outputs": [
    {
     "name": "stderr",
     "output_type": "stream",
     "text": [
      "100%|███████████████████████████████████| 1000/1000 [00:00<00:00, 268246.61it/s]"
     ]
    },
    {
     "name": "stdout",
     "output_type": "stream",
     "text": [
      "Probability of victory: 0.102\n"
     ]
    },
    {
     "name": "stderr",
     "output_type": "stream",
     "text": [
      "\n"
     ]
    }
   ],
   "source": [
    "def run_observational_simulation(n_trials=1000):\n",
    "    \n",
    "    results = {'x': np.zeros(n_trials),\n",
    "               'z': np.zeros(n_trials),\n",
    "               'y': np.zeros(n_trials)}\n",
    "    \n",
    "    for i in tqdm(range(n_trials)):\n",
    "        z = Z()\n",
    "        r = R(z)\n",
    "        x = X(z)\n",
    "        y = Y(x,r) \n",
    "        \n",
    "        results['x'][i] = x\n",
    "        results['z'][i] = z\n",
    "        results['y'][i] = y\n",
    "    \n",
    "    return results\n",
    "\n",
    "res = run_observational_simulation()\n",
    "print('Probability of victory: {0}'.format(np.sum(res['y']==1) / len(res['y'])))"
   ]
  },
  {
   "cell_type": "code",
   "execution_count": 115,
   "id": "0bf90ea9",
   "metadata": {},
   "outputs": [
    {
     "name": "stderr",
     "output_type": "stream",
     "text": [
      "100%|███████████████████████████████████| 1000/1000 [00:00<00:00, 195775.95it/s]"
     ]
    },
    {
     "name": "stdout",
     "output_type": "stream",
     "text": [
      "Probability of victory: 0.268\n"
     ]
    },
    {
     "name": "stderr",
     "output_type": "stream",
     "text": [
      "\n"
     ]
    }
   ],
   "source": [
    "def run_interventional_simulation(n_trials=1000):\n",
    "    \n",
    "    results = {'x': np.zeros(n_trials),\n",
    "               'z': np.zeros(n_trials),\n",
    "               'y': np.zeros(n_trials)}\n",
    "    \n",
    "    for i in tqdm(range(n_trials)):\n",
    "        z = Z()\n",
    "        r = R(z)\n",
    "        x = doX()\n",
    "        y = Y(x,r) \n",
    "        \n",
    "        results['x'][i] = x\n",
    "        results['z'][i] = z\n",
    "        results['y'][i] = y\n",
    "    \n",
    "    return results\n",
    "\n",
    "res = run_interventional_simulation()\n",
    "print('Probability of victory: {0}'.format(np.sum(res['y']==1) / len(res['y'])))"
   ]
  },
  {
   "cell_type": "markdown",
   "id": "b311b86a",
   "metadata": {},
   "source": [
    "## Maximally greedy casino example\n",
    "\n",
    "This example shows that a maximally-greedy casino may min-max the rewards to minimize the observational return and still have a legitimate-looking interventional return."
   ]
  },
  {
   "cell_type": "code",
   "execution_count": 116,
   "id": "bdf77edb",
   "metadata": {},
   "outputs": [],
   "source": [
    "def Z1():\n",
    "    return np.random.binomial(1,p=.5)\n",
    "\n",
    "def Z2():\n",
    "    return np.random.binomial(1,p=.5)\n",
    "\n",
    "def R(z1,z2):\n",
    "    if z2==0:\n",
    "        if z1==0:\n",
    "            return np.array([.01,.59])\n",
    "        else:\n",
    "            return np.array([.59,.01])\n",
    "    else:\n",
    "        if z1==0:\n",
    "            return np.array([.59,.01])\n",
    "        else:\n",
    "            return np.array([.01,.59])\n",
    "\n",
    "def X(z1,z2):\n",
    "    return np.logical_xor(z1,z2)\n",
    "\n",
    "def doX():\n",
    "    return np.random.binomial(1,p=.5)\n",
    "    \n",
    "def Y(x,r):\n",
    "    return np.random.binomial(1,r[int(x)])"
   ]
  },
  {
   "cell_type": "code",
   "execution_count": 117,
   "id": "24133c0a",
   "metadata": {},
   "outputs": [
    {
     "name": "stderr",
     "output_type": "stream",
     "text": [
      "100%|███████████████████████████████████| 1000/1000 [00:00<00:00, 169412.07it/s]"
     ]
    },
    {
     "name": "stdout",
     "output_type": "stream",
     "text": [
      "Probability of victory: 0.013\n"
     ]
    },
    {
     "name": "stderr",
     "output_type": "stream",
     "text": [
      "\n"
     ]
    }
   ],
   "source": [
    "def run_observational_simulation(n_trials=1000):\n",
    "    \n",
    "    results = {'x': np.zeros(n_trials),\n",
    "               'y': np.zeros(n_trials)}\n",
    "    \n",
    "    for i in tqdm(range(n_trials)):\n",
    "        z1 = Z1(); z2 = Z2()\n",
    "        r = R(z1,z2)\n",
    "        x = X(z1,z2)\n",
    "        y = Y(x,r) \n",
    "        \n",
    "        results['x'][i] = x\n",
    "        results['y'][i] = y\n",
    "    \n",
    "    return results\n",
    "\n",
    "res = run_observational_simulation()\n",
    "print('Probability of victory: {0}'.format(np.sum(res['y']==1) / len(res['y'])))"
   ]
  },
  {
   "cell_type": "code",
   "execution_count": 118,
   "id": "fb378acf",
   "metadata": {},
   "outputs": [
    {
     "name": "stderr",
     "output_type": "stream",
     "text": [
      "100%|███████████████████████████████████| 1000/1000 [00:00<00:00, 156009.08it/s]"
     ]
    },
    {
     "name": "stdout",
     "output_type": "stream",
     "text": [
      "Probability of victory: 0.289\n"
     ]
    },
    {
     "name": "stderr",
     "output_type": "stream",
     "text": [
      "\n"
     ]
    }
   ],
   "source": [
    "def run_interventional_simulation(n_trials=1000):\n",
    "    \n",
    "    results = {'x': np.zeros(n_trials),\n",
    "               'y': np.zeros(n_trials)}\n",
    "    \n",
    "    for i in tqdm(range(n_trials)):\n",
    "        z1 = Z1(); z2 = Z2()\n",
    "        r = R(z1,z2)\n",
    "        x = doX()\n",
    "        y = Y(x,r) \n",
    "        \n",
    "        results['x'][i] = x\n",
    "        results['y'][i] = y\n",
    "    \n",
    "    return results\n",
    "\n",
    "res = run_interventional_simulation()\n",
    "print('Probability of victory: {0}'.format(np.sum(res['y']==1) / len(res['y'])))"
   ]
  },
  {
   "cell_type": "markdown",
   "id": "fb768d20",
   "metadata": {},
   "source": [
    "## CATE sensitivity example"
   ]
  },
  {
   "cell_type": "markdown",
   "id": "3611364c",
   "metadata": {},
   "source": [
    "Let us analyze how the sensitivity of CATE depends on how reliably our proxy represent the unobserved confounder. We will consider a parameter $p$ denoting the probability that the proxy (*income*) and the unobserved confounder (*socio-economic status*) agree. We consider a range of values for $p$."
   ]
  },
  {
   "cell_type": "code",
   "execution_count": 119,
   "id": "c66cf9b8",
   "metadata": {},
   "outputs": [],
   "source": [
    "p = np.arange(0.1,1.1,0.1)"
   ]
  },
  {
   "cell_type": "markdown",
   "id": "95ce12b6",
   "metadata": {},
   "source": [
    "We define a parametric *income()* function that depends on the value of $p$."
   ]
  },
  {
   "cell_type": "code",
   "execution_count": 120,
   "id": "306e4660",
   "metadata": {},
   "outputs": [],
   "source": [
    "def income(status,p):\n",
    "    if status==0:\n",
    "        return np.random.binomial(1,1-p)\n",
    "    else:\n",
    "        return np.random.binomial(1,p)\n",
    "    \n",
    "def recovery(medicine,status):\n",
    "    if status==0:\n",
    "        if medicine==0:\n",
    "            return np.random.binomial(1,.4)\n",
    "        else:\n",
    "            return np.random.binomial(1,.25)\n",
    "    else:\n",
    "        if medicine==0:\n",
    "            return np.random.binomial(1,.4)\n",
    "        else:\n",
    "            return np.random.binomial(1,.45)"
   ]
  },
  {
   "cell_type": "markdown",
   "id": "93dd16e9",
   "metadata": {},
   "source": [
    "Then we instantiate a versatile CATE simulation that receives in input the value of $p$ and the value of an intervention."
   ]
  },
  {
   "cell_type": "code",
   "execution_count": 121,
   "id": "5b61e00f",
   "metadata": {},
   "outputs": [],
   "source": [
    "def run_CATE_simulation(n_trials=n_trials,p=.9,intervention=0):\n",
    "    \n",
    "    results = {'x': np.zeros(n_trials),\n",
    "               'z': np.zeros(n_trials),\n",
    "               'y': np.zeros(n_trials),\n",
    "               'w': np.zeros(n_trials)}\n",
    "    \n",
    "    for i in tqdm(range(n_trials)):\n",
    "        status = SEstatus()\n",
    "        proxy = income(status,p)\n",
    "        medicine = intervention            \n",
    "        outcome = recovery(medicine,status)\n",
    "        \n",
    "        results['x'][i] = medicine\n",
    "        results['z'][i] = status\n",
    "        results['y'][i] = outcome\n",
    "        results['w'][i] = proxy\n",
    "    \n",
    "    return results"
   ]
  },
  {
   "cell_type": "markdown",
   "id": "02e0d9ba",
   "metadata": {},
   "source": [
    "We run our simulation for all the values of $p$ and for the two possible interventions, estimating the value of the CATE."
   ]
  },
  {
   "cell_type": "code",
   "execution_count": 122,
   "id": "f21014ce",
   "metadata": {},
   "outputs": [
    {
     "name": "stderr",
     "output_type": "stream",
     "text": [
      "100%|█████████████████████████████████| 10000/10000 [00:00<00:00, 225835.33it/s]\n",
      "100%|█████████████████████████████████| 10000/10000 [00:00<00:00, 225254.37it/s]\n",
      "100%|█████████████████████████████████| 10000/10000 [00:00<00:00, 226581.96it/s]\n",
      "100%|█████████████████████████████████| 10000/10000 [00:00<00:00, 220666.90it/s]\n",
      "100%|█████████████████████████████████| 10000/10000 [00:00<00:00, 224759.48it/s]\n",
      "100%|█████████████████████████████████| 10000/10000 [00:00<00:00, 223853.81it/s]\n",
      "100%|█████████████████████████████████| 10000/10000 [00:00<00:00, 224150.49it/s]\n",
      "100%|█████████████████████████████████| 10000/10000 [00:00<00:00, 223148.76it/s]\n",
      "100%|█████████████████████████████████| 10000/10000 [00:00<00:00, 221828.12it/s]\n",
      "100%|█████████████████████████████████| 10000/10000 [00:00<00:00, 222896.16it/s]\n",
      "100%|█████████████████████████████████| 10000/10000 [00:00<00:00, 222458.75it/s]\n",
      "100%|█████████████████████████████████| 10000/10000 [00:00<00:00, 222331.40it/s]\n",
      "100%|█████████████████████████████████| 10000/10000 [00:00<00:00, 224713.72it/s]\n",
      "100%|█████████████████████████████████| 10000/10000 [00:00<00:00, 222687.88it/s]\n",
      "100%|█████████████████████████████████| 10000/10000 [00:00<00:00, 220998.27it/s]\n",
      "100%|█████████████████████████████████| 10000/10000 [00:00<00:00, 222523.66it/s]\n",
      "100%|█████████████████████████████████| 10000/10000 [00:00<00:00, 221917.32it/s]\n",
      "100%|█████████████████████████████████| 10000/10000 [00:00<00:00, 222445.77it/s]\n",
      "100%|█████████████████████████████████| 10000/10000 [00:00<00:00, 223792.89it/s]\n",
      "100%|█████████████████████████████████| 10000/10000 [00:00<00:00, 222016.00it/s]\n"
     ]
    }
   ],
   "source": [
    "ps = np.arange(0.1,1.1,0.1)\n",
    "cates0 = []\n",
    "cates1 = []\n",
    "\n",
    "for p in ps:\n",
    "    int0_results = run_CATE_simulation(n_trials,p,0)\n",
    "    int1_results = run_CATE_simulation(n_trials,p,1)\n",
    "    \n",
    "    P_doX0_givenW0 = np.sum(np.logical_and(int0_results['y']==1,int0_results['w']==0)) / np.sum(int0_results['w']==0)\n",
    "    P_doX0_givenW1 = np.sum(np.logical_and(int0_results['y']==1,int0_results['w']==1)) / np.sum(int0_results['w']==1)\n",
    "    \n",
    "    P_doX1_givenW0 = np.sum(np.logical_and(int1_results['y']==1,int1_results['w']==0)) / np.sum(int1_results['w']==0)\n",
    "    P_doX1_givenW1 = np.sum(np.logical_and(int1_results['y']==1,int1_results['w']==1)) / np.sum(int1_results['w']==1)\n",
    "\n",
    "    cate0 = P_doX1_givenW0 - P_doX0_givenW0\n",
    "    cate1 = P_doX1_givenW1 - P_doX0_givenW1\n",
    "    \n",
    "    cates0.append(cate0)\n",
    "    cates1.append(cate1)\n"
   ]
  },
  {
   "cell_type": "markdown",
   "id": "17fca931",
   "metadata": {},
   "source": [
    "Finally, we plot our results, together with the true value of the causal effect at the two different levels of the socio-economic status ($Z$) variable."
   ]
  },
  {
   "cell_type": "code",
   "execution_count": 123,
   "id": "91c41737",
   "metadata": {
    "scrolled": true
   },
   "outputs": [
    {
     "data": {
      "text/plain": [
       "<matplotlib.legend.Legend at 0x150f1ba00>"
      ]
     },
     "execution_count": 123,
     "metadata": {},
     "output_type": "execute_result"
    },
    {
     "data": {
      "image/png": "[encoded data removed]",
      "text/plain": [
       "<Figure size 432x288 with 1 Axes>"
      ]
     },
     "metadata": {
      "needs_background": "light"
     },
     "output_type": "display_data"
    }
   ],
   "source": [
    "true_P_givenZ0 = [.25 - .4]*len(ps)\n",
    "true_P_givenZ1 = [.45 - .4]*len(ps)\n",
    "\n",
    "plt.plot(ps,true_P_givenZ0,c='blue',linestyle='dashed',label='True causal effect for Z=0')\n",
    "plt.plot(ps,true_P_givenZ1,c='red',linestyle='dashed',label='True causal effect for Z=1')\n",
    "\n",
    "plt.plot(ps,cates0,c='blue',label='Estimated causal effect relying on W=0')\n",
    "plt.plot(ps,cates1,c='red',label='Estimated causal effect relying on W=1')\n",
    "\n",
    "plt.xlabel('p')\n",
    "plt.legend()"
   ]
  },
  {
   "cell_type": "markdown",
   "id": "1f4e5edc",
   "metadata": {},
   "source": [
    "As expected, the more faithful the income ($W$) variable is to the socio-economic status ($Z$), that is the higher is $p$, the closer is our estimation to the true causal effect."
   ]
  }
 ],
 "metadata": {
  "kernelspec": {
   "display_name": "Python 3 (ipykernel)",
   "language": "python",
   "name": "python3"
  },
  "language_info": {
   "codemirror_mode": {
    "name": "ipython",
    "version": 3
   },
   "file_extension": ".py",
   "mimetype": "text/x-python",
   "name": "python",
   "nbconvert_exporter": "python",
   "pygments_lexer": "ipython3",
   "version": "3.9.10"
  },
  "toc": {
   "base_numbering": 1,
   "nav_menu": {},
   "number_sections": true,
   "sideBar": true,
   "skip_h1_title": false,
   "title_cell": "Table of Contents",
   "title_sidebar": "Contents",
   "toc_cell": false,
   "toc_position": {
    "height": "calc(100% - 180px)",
    "left": "10px",
    "top": "150px",
    "width": "262.202px"
   },
   "toc_section_display": true,
   "toc_window_display": true
  }
 },
 "nbformat": 4,
 "nbformat_minor": 5
}
