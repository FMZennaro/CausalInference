{
 "cells": [
  {
   "cell_type": "markdown",
   "metadata": {},
   "source": [
    "# Causal Inference: Probability of Necessity\n",
    "\n",
    "*(Better displayed in [nbviewer](https://nbviewer.jupyter.org/) as red warning in font tag may not be displayed on github)*"
   ]
  },
  {
   "cell_type": "markdown",
   "metadata": {},
   "source": [
    "### Model\n",
    "\n",
    "**DAG.** We consider the following simple graph, made up by three deterministic *endogenous variables*: a treatment variable ($X$), a confounder variable ($Z$) and an outcome variable ($Y$). We also assume that a random *exogenous variable* is connected to each endogenous node ($U_X, U_Z, U_Y$)."
   ]
  },
  {
   "cell_type": "code",
   "execution_count": 1,
   "metadata": {},
   "outputs": [],
   "source": [
    "%load_ext tikzmagic"
   ]
  },
  {
   "cell_type": "code",
   "execution_count": 2,
   "metadata": {},
   "outputs": [
    {
     "data": {
      "image/svg+xml": [
       "<svg height=\"240px\" version=\"1.1\" viewBox=\"0 0 130.812 63.427\" width=\"400px\" xmlns=\"http://www.w3.org/2000/svg\" xmlns:xlink=\"http://www.w3.org/1999/xlink\">\n",
       "<defs>\n",
       "<g>\n",
       "<symbol id=\"glyph0-0\" overflow=\"visible\">\n",
       "<path d=\"\" style=\"stroke:none;\"/>\n",
       "</symbol>\n",
       "<symbol id=\"glyph0-1\" overflow=\"visible\">\n",
       "<path d=\"M 7.171875 -6.5625 C 7.1875 -6.609375 7.203125 -6.65625 7.203125 -6.71875 C 7.203125 -6.8125 7.15625 -6.8125 6.953125 -6.8125 L 2.75 -6.8125 C 2.515625 -6.8125 2.5 -6.796875 2.4375 -6.609375 L 1.890625 -4.8125 C 1.875 -4.765625 1.859375 -4.6875 1.859375 -4.671875 C 1.859375 -4.671875 1.859375 -4.5625 1.984375 -4.5625 C 2.078125 -4.5625 2.09375 -4.640625 2.109375 -4.671875 C 2.5 -5.84375 3.015625 -6.5 4.5625 -6.5 L 6.1875 -6.5 L 0.625 -0.265625 C 0.625 -0.265625 0.578125 -0.125 0.578125 -0.09375 C 0.578125 0 0.640625 0 0.828125 0 L 5.15625 0 C 5.40625 0 5.40625 -0.015625 5.46875 -0.203125 L 6.1875 -2.40625 C 6.1875 -2.4375 6.21875 -2.515625 6.21875 -2.546875 C 6.21875 -2.609375 6.1875 -2.65625 6.09375 -2.65625 C 6 -2.65625 5.984375 -2.625 5.921875 -2.40625 C 5.484375 -1.0625 5 -0.34375 3.3125 -0.34375 L 1.609375 -0.34375 Z M 7.171875 -6.5625 \" style=\"stroke:none;\"/>\n",
       "</symbol>\n",
       "<symbol id=\"glyph0-2\" overflow=\"visible\">\n",
       "<path d=\"M 4.828125 -4.09375 L 4 -6.078125 C 3.96875 -6.15625 3.953125 -6.203125 3.953125 -6.203125 C 3.953125 -6.265625 4.109375 -6.453125 4.53125 -6.5 C 4.640625 -6.515625 4.734375 -6.515625 4.734375 -6.6875 C 4.734375 -6.8125 4.609375 -6.8125 4.578125 -6.8125 C 4.171875 -6.8125 3.75 -6.78125 3.328125 -6.78125 C 3.078125 -6.78125 2.46875 -6.8125 2.21875 -6.8125 C 2.15625 -6.8125 2.03125 -6.8125 2.03125 -6.609375 C 2.03125 -6.5 2.140625 -6.5 2.265625 -6.5 C 2.859375 -6.5 2.921875 -6.40625 3.015625 -6.1875 L 4.1875 -3.40625 L 2.078125 -1.140625 L 1.953125 -1.03125 C 1.46875 -0.5 1 -0.34375 0.484375 -0.3125 C 0.359375 -0.296875 0.265625 -0.296875 0.265625 -0.109375 C 0.265625 -0.09375 0.265625 0 0.40625 0 C 0.703125 0 1.03125 -0.03125 1.328125 -0.03125 C 1.703125 -0.03125 2.09375 0 2.453125 0 C 2.515625 0 2.625 0 2.625 -0.203125 C 2.625 -0.296875 2.53125 -0.3125 2.515625 -0.3125 C 2.421875 -0.3125 2.109375 -0.34375 2.109375 -0.625 C 2.109375 -0.78125 2.265625 -0.9375 2.375 -1.0625 L 3.40625 -2.140625 L 4.296875 -3.125 L 5.296875 -0.734375 C 5.34375 -0.625 5.359375 -0.625 5.359375 -0.59375 C 5.359375 -0.515625 5.15625 -0.34375 4.78125 -0.3125 C 4.671875 -0.296875 4.578125 -0.296875 4.578125 -0.125 C 4.578125 0 4.6875 0 4.71875 0 C 5 0 5.703125 -0.03125 5.984375 -0.03125 C 6.234375 -0.03125 6.84375 0 7.09375 0 C 7.15625 0 7.28125 0 7.28125 -0.1875 C 7.28125 -0.3125 7.171875 -0.3125 7.09375 -0.3125 C 6.4375 -0.3125 6.40625 -0.34375 6.234375 -0.75 C 5.859375 -1.671875 5.1875 -3.234375 4.953125 -3.828125 C 5.625 -4.53125 6.671875 -5.71875 7 -5.984375 C 7.28125 -6.234375 7.671875 -6.46875 8.265625 -6.5 C 8.390625 -6.515625 8.484375 -6.515625 8.484375 -6.703125 C 8.484375 -6.703125 8.484375 -6.8125 8.359375 -6.8125 C 8.0625 -6.8125 7.71875 -6.78125 7.421875 -6.78125 C 7.046875 -6.78125 6.671875 -6.8125 6.3125 -6.8125 C 6.25 -6.8125 6.125 -6.8125 6.125 -6.609375 C 6.125 -6.546875 6.171875 -6.515625 6.234375 -6.5 C 6.328125 -6.484375 6.640625 -6.46875 6.640625 -6.1875 C 6.640625 -6.046875 6.53125 -5.921875 6.453125 -5.828125 Z M 4.828125 -4.09375 \" style=\"stroke:none;\"/>\n",
       "</symbol>\n",
       "<symbol id=\"glyph0-3\" overflow=\"visible\">\n",
       "<path d=\"M 5.953125 -5.671875 L 6.09375 -5.8125 C 6.390625 -6.109375 6.71875 -6.453125 7.390625 -6.5 C 7.5 -6.515625 7.59375 -6.515625 7.59375 -6.6875 C 7.59375 -6.765625 7.546875 -6.8125 7.46875 -6.8125 C 7.203125 -6.8125 6.921875 -6.78125 6.65625 -6.78125 C 6.3125 -6.78125 5.96875 -6.8125 5.65625 -6.8125 C 5.59375 -6.8125 5.46875 -6.8125 5.46875 -6.625 C 5.46875 -6.515625 5.5625 -6.5 5.609375 -6.5 C 5.6875 -6.5 5.96875 -6.484375 5.96875 -6.265625 C 5.96875 -6.09375 5.734375 -5.84375 5.703125 -5.796875 L 3.390625 -3.125 L 2.296875 -6.09375 C 2.234375 -6.234375 2.234375 -6.25 2.234375 -6.265625 C 2.234375 -6.5 2.71875 -6.5 2.828125 -6.5 C 2.953125 -6.5 3.0625 -6.5 3.0625 -6.703125 C 3.0625 -6.8125 2.9375 -6.8125 2.90625 -6.8125 C 2.625 -6.8125 1.9375 -6.78125 1.65625 -6.78125 C 1.40625 -6.78125 0.78125 -6.8125 0.53125 -6.8125 C 0.484375 -6.8125 0.34375 -6.8125 0.34375 -6.609375 C 0.34375 -6.5 0.453125 -6.5 0.578125 -6.5 C 1.171875 -6.5 1.21875 -6.40625 1.3125 -6.15625 L 2.53125 -2.875 C 2.546875 -2.84375 2.578125 -2.734375 2.578125 -2.71875 C 2.578125 -2.6875 2.171875 -1.078125 2.125 -0.890625 C 2 -0.34375 1.984375 -0.3125 1.1875 -0.3125 C 1 -0.3125 0.921875 -0.3125 0.921875 -0.109375 C 0.921875 0 1.03125 0 1.0625 0 C 1.328125 0 2.03125 -0.03125 2.3125 -0.03125 C 2.59375 -0.03125 3.3125 0 3.59375 0 C 3.65625 0 3.78125 0 3.78125 -0.203125 C 3.78125 -0.3125 3.6875 -0.3125 3.5 -0.3125 C 3.484375 -0.3125 3.296875 -0.3125 3.125 -0.328125 C 2.90625 -0.34375 2.84375 -0.375 2.84375 -0.484375 C 2.84375 -0.5625 2.9375 -0.90625 2.984375 -1.109375 L 3.34375 -2.515625 C 3.390625 -2.71875 3.40625 -2.734375 3.484375 -2.828125 Z M 5.953125 -5.671875 \" style=\"stroke:none;\"/>\n",
       "</symbol>\n",
       "</g>\n",
       "</defs>\n",
       "<g id=\"surface1\">\n",
       "<g style=\"fill:rgb(0%,0%,0%);fill-opacity:1;\">\n",
       "  <use x=\"62.168\" xlink:href=\"#glyph0-1\" y=\"13.449\"/>\n",
       "</g>\n",
       "<g style=\"fill:rgb(0%,0%,0%);fill-opacity:1;\">\n",
       "  <use x=\"6.641\" xlink:href=\"#glyph0-2\" y=\"56.786\"/>\n",
       "</g>\n",
       "<g style=\"fill:rgb(0%,0%,0%);fill-opacity:1;\">\n",
       "  <use x=\"116.173\" xlink:href=\"#glyph0-3\" y=\"56.786\"/>\n",
       "</g>\n",
       "<path d=\"M -6.757563 15.913219 L -43.781 -13.387563 \" style=\"fill:none;stroke-width:1.13385;stroke-linecap:butt;stroke-linejoin:miter;stroke:rgb(0%,0%,0%);stroke-opacity:1;stroke-miterlimit:10;\" transform=\"matrix(1,0,0,-1,65.406,31.714)\"/>\n",
       "<path d=\"M 19.195312 47.023438 L 24.621094 45.890625 L 21.625 45.101562 L 21.542969 42.003906 \" style=\" stroke:none;fill-rule:nonzero;fill:rgb(0%,0%,0%);fill-opacity:1;\"/>\n",
       "<path d=\"M 7.797125 15.854625 L 44.820562 -13.7235 \" style=\"fill:none;stroke-width:1.13385;stroke-linecap:butt;stroke-linejoin:miter;stroke:rgb(0%,0%,0%);stroke-opacity:1;stroke-miterlimit:10;\" transform=\"matrix(1,0,0,-1,65.406,31.714)\"/>\n",
       "<path d=\"M 112.652344 47.378906 L 110.320312 42.332031 L 110.226562 45.4375 L 107.214844 46.21875 \" style=\" stroke:none;fill-rule:nonzero;fill:rgb(0%,0%,0%);fill-opacity:1;\"/>\n",
       "<path d=\"M -46.210688 -21.668813 L 44.152594 -21.668813 \" style=\"fill:none;stroke-width:1.13385;stroke-linecap:butt;stroke-linejoin:miter;stroke:rgb(0%,0%,0%);stroke-opacity:1;stroke-miterlimit:10;\" transform=\"matrix(1,0,0,-1,65.406,31.714)\"/>\n",
       "<path d=\"M 112.652344 53.382812 L 107.703125 50.90625 L 109.558594 53.382812 L 107.703125 55.859375 \" style=\" stroke:none;fill-rule:nonzero;fill:rgb(0%,0%,0%);fill-opacity:1;\"/>\n",
       "</g>\n",
       "</svg>"
      ]
     },
     "metadata": {
      "isolated": "true"
     },
     "output_type": "display_data"
    }
   ],
   "source": [
    "%%tikz -l arrows,matrix -f svg\n",
    "\\matrix (m) [matrix of math nodes, row sep=3em, column sep=4em] {\n",
    "& Z & \\\\\n",
    "X & & Y \\\\\n",
    "};\n",
    "\\path[-stealth, line width=.4mm]\n",
    "(m-1-2) edge (m-2-1)\n",
    "(m-1-2) edge (m-2-3)\n",
    "(m-2-1) edge (m-2-3);"
   ]
  },
  {
   "cell_type": "markdown",
   "metadata": {},
   "source": [
    "**Structural equations.** The model is defined by the following structural equations:\n",
    "\n",
    "$$\n",
    "\\begin{array}{ccc}\n",
    " & U_{Z}=\\mathtt{Pois}\\left(3\\right)\\\\\n",
    " & U_{X}=\\mathtt{Bern}\\left(0.5\\right)\\\\\n",
    " & U_{Y}=\\mathtt{Pois}\\left(1\\right)\\\\\n",
    "\\\\\n",
    " & Z=U_{Z}\\\\\n",
    " & X=U_{X} + Z\\\\\n",
    " & X=1\\left[X + \\frac{Z}{2} - U_{Y}\\geq2\\right]\n",
    "\\end{array}\n",
    "$$"
   ]
  },
  {
   "cell_type": "markdown",
   "metadata": {},
   "source": [
    "## Setup"
   ]
  },
  {
   "cell_type": "code",
   "execution_count": 3,
   "metadata": {},
   "outputs": [],
   "source": [
    "import numpy as np\n",
    "import matplotlib.pyplot as plt\n",
    "import pymc3 as pm"
   ]
  },
  {
   "cell_type": "markdown",
   "metadata": {},
   "source": [
    "## Probability of necessity\n",
    "Proability of necessity (PN) is defined as:\n",
    "$$\n",
    "P\\left( Y_0=0 \\vert X=1, Y=1 \\right),\n",
    "$$\n",
    "that is, the *counterfactual* probability that $Y$ would be $0$ if we were to set $X=0$, given that in the *factual* world we actually observed $X=1$ and $Y=1$. "
   ]
  },
  {
   "cell_type": "markdown",
   "metadata": {},
   "source": [
    "We generalize this definition to consider the generic case:\n",
    "$$\n",
    "P\\left( Y_{a'}=0 \\vert X=a, Y=1 \\right),\n",
    "$$\n",
    "that is, the *counterfactual* probability that $Y$ would be $0$ if we were to set $X=a'$, given that in the *factual* world we actually observed $X=a$ and $Y=1$."
   ]
  },
  {
   "cell_type": "markdown",
   "metadata": {},
   "source": [
    "We then define and plot the function\n",
    "$$\n",
    "f_a(a') = P\\left( Y_{a'}=0 \\vert X=a, Y=1 \\right),\n",
    "$$\n",
    "which, for a given value of $a$, gives the probability of necessity as a function of $a'$."
   ]
  },
  {
   "cell_type": "markdown",
   "metadata": {},
   "source": [
    "### Simulation\n",
    "We implement the model defined above. We focus on the observational value $a$ for $X$ being $2$. We also define a vector of interventions $a' = [0, 1, 1.25, 1.5, 1.75, 2, 2.5, 3]$."
   ]
  },
  {
   "cell_type": "code",
   "execution_count": 7,
   "metadata": {},
   "outputs": [],
   "source": [
    "observed_x = 2\n",
    "counterfactual_xs = [0, 1, 1.25, 1.5, 1.75, 2, 2.5, 3]"
   ]
  },
  {
   "cell_type": "markdown",
   "metadata": {},
   "source": [
    "We then counterfactually compute PN for each of the values in $a'$."
   ]
  },
  {
   "cell_type": "code",
   "execution_count": 8,
   "metadata": {},
   "outputs": [
    {
     "name": "stderr",
     "output_type": "stream",
     "text": [
      "Sequential sampling (1 chains in 1 job)\n",
      "CompoundStep\n",
      ">CompoundStep\n",
      ">>Metropolis: [Uy]\n",
      ">>Metropolis: [Z]\n",
      ">BinaryGibbsMetropolis: [Ux]\n",
      "100%|██████████| 1500/1500 [00:00<00:00, 3062.46it/s]\n",
      "Only one chain was sampled, this makes it impossible to run some convergence checks\n",
      "Sequential sampling (1 chains in 1 job)\n",
      "CompoundStep\n",
      ">CompoundStep\n",
      ">>Metropolis: [Uy]\n",
      ">>Metropolis: [Z]\n",
      ">BinaryGibbsMetropolis: [Ux]\n",
      "100%|██████████| 1500/1500 [00:00<00:00, 3043.28it/s]\n",
      "Only one chain was sampled, this makes it impossible to run some convergence checks\n",
      "Sequential sampling (1 chains in 1 job)\n",
      "CompoundStep\n",
      ">CompoundStep\n",
      ">>Metropolis: [Uy]\n",
      ">>Metropolis: [Z]\n",
      ">BinaryGibbsMetropolis: [Ux]\n",
      "100%|██████████| 1500/1500 [00:00<00:00, 2992.10it/s]\n",
      "Only one chain was sampled, this makes it impossible to run some convergence checks\n",
      "Sequential sampling (1 chains in 1 job)\n",
      "CompoundStep\n",
      ">CompoundStep\n",
      ">>Metropolis: [Uy]\n",
      ">>Metropolis: [Z]\n",
      ">BinaryGibbsMetropolis: [Ux]\n",
      "100%|██████████| 1500/1500 [00:00<00:00, 3131.57it/s]\n",
      "Only one chain was sampled, this makes it impossible to run some convergence checks\n",
      "Sequential sampling (1 chains in 1 job)\n",
      "CompoundStep\n",
      ">CompoundStep\n",
      ">>Metropolis: [Uy]\n",
      ">>Metropolis: [Z]\n",
      ">BinaryGibbsMetropolis: [Ux]\n",
      "100%|██████████| 1500/1500 [00:00<00:00, 3022.08it/s]\n",
      "Only one chain was sampled, this makes it impossible to run some convergence checks\n",
      "Sequential sampling (1 chains in 1 job)\n",
      "CompoundStep\n",
      ">CompoundStep\n",
      ">>Metropolis: [Uy]\n",
      ">>Metropolis: [Z]\n",
      ">BinaryGibbsMetropolis: [Ux]\n",
      "100%|██████████| 1500/1500 [00:00<00:00, 2961.77it/s]\n",
      "Only one chain was sampled, this makes it impossible to run some convergence checks\n",
      "Sequential sampling (1 chains in 1 job)\n",
      "CompoundStep\n",
      ">CompoundStep\n",
      ">>Metropolis: [Uy]\n",
      ">>Metropolis: [Z]\n",
      ">BinaryGibbsMetropolis: [Ux]\n",
      "100%|██████████| 1500/1500 [00:00<00:00, 3083.67it/s]\n",
      "Only one chain was sampled, this makes it impossible to run some convergence checks\n",
      "Sequential sampling (1 chains in 1 job)\n",
      "CompoundStep\n",
      ">CompoundStep\n",
      ">>Metropolis: [Uy]\n",
      ">>Metropolis: [Z]\n",
      ">BinaryGibbsMetropolis: [Ux]\n",
      "100%|██████████| 1500/1500 [00:00<00:00, 2688.88it/s]\n",
      "Only one chain was sampled, this makes it impossible to run some convergence checks\n"
     ]
    }
   ],
   "source": [
    "def model1_PN(observed_x=1, counterfactual_x=0):     \n",
    "    with pm.Model() as M1:\n",
    "        Uz = pm.Poisson('Uz',mu=3)\n",
    "        Ux = pm.Bernoulli('Ux',p=.5)\n",
    "        Uy = pm.Poisson('Uy',mu=1)\n",
    "         \n",
    "        Z = pm.Deterministic('Z', Uz)\n",
    "        X = pm.Deterministic('X', Ux+Z)\n",
    "        Y = pm.Deterministic('Y', pm.math.ge(X + Z/2. - Uy,2))\n",
    "                \n",
    "        trace = pm.sample(1000, chains=1)\n",
    "    \n",
    "    mask = np.logical_and(trace['Y']==1,trace['X']==observed_x)\n",
    "    \n",
    "    Zs = trace['Z'][mask]\n",
    "    Uys = trace['Uy'][mask]\n",
    "    Y_counterfactual = (counterfactual_x + Zs/2. - Uys >= 2)\n",
    "    return np.sum(Y_counterfactual) / np.sum(mask)\n",
    "\n",
    "PNs = []\n",
    "for cf_x in counterfactual_xs: \n",
    "    PNs.append(model1_PN(observed_x, cf_x))"
   ]
  },
  {
   "cell_type": "markdown",
   "metadata": {},
   "source": [
    "In this way we have collected samples of $f_2(a') = P\\left( Y_{a'}=0 \\vert X=2, Y=1 \\right)$, which we can now plot."
   ]
  },
  {
   "cell_type": "code",
   "execution_count": 10,
   "metadata": {},
   "outputs": [
    {
     "data": {
      "text/plain": [
       "[<matplotlib.lines.Line2D at 0x7fe80e9d3048>]"
      ]
     },
     "execution_count": 10,
     "metadata": {},
     "output_type": "execute_result"
    },
    {
     "data": {
      "image/png": "[encoded data removed]",
      "text/plain": [
       "<Figure size 432x288 with 1 Axes>"
      ]
     },
     "metadata": {},
     "output_type": "display_data"
    }
   ],
   "source": [
    "plt.figure()\n",
    "plt.title('Proability of necessity for X==a in model 1')\n",
    "plt.plot(counterfactual_xs,PNs)"
   ]
  },
  {
   "cell_type": "markdown",
   "metadata": {},
   "source": [
    "A couple of observations (?):\n",
    "<li>This is the probability of necessity of $X=a$ for causing $Y=1$ on the sub-population on which we observed $X=a$ and $Y=1$.\n",
    "<li>The result is not a pdf</li>\n",
    "<li>Even if X in the model is defined on a discrete domain (which I had to do, otherwise I had to specify $a$ in an interval), we can evaluate it on continuous values.</li>\n",
    "<li>The monotonicity of the function is a consequence of the functional form of Y (and so PN for any $a'>2$ is trivially $1$).</li>\n",
    "<li>I guess what would be interesting is the slope of this function: how quickly the PN changes as you increase or decrease your intervention (for an intervention $a'$ that is $\\epsilon$-close to a this may be seen as a derivative?)</li>\n",
    "<li>Maybe, given such a plot, in absence of the structural equations, one can infer the causal contribution (linear, quadratic, sublinear) of $X$ on $Y$.</li>"
   ]
  },
  {
   "cell_type": "code",
   "execution_count": null,
   "metadata": {},
   "outputs": [],
   "source": []
  }
 ],
 "metadata": {
  "kernelspec": {
   "display_name": "Python 3",
   "language": "python",
   "name": "python3"
  },
  "language_info": {
   "codemirror_mode": {
    "name": "ipython",
    "version": 3
   },
   "file_extension": ".py",
   "mimetype": "text/x-python",
   "name": "python",
   "nbconvert_exporter": "python",
   "pygments_lexer": "ipython3",
   "version": "3.7.7"
  }
 },
 "nbformat": 4,
 "nbformat_minor": 2
}
